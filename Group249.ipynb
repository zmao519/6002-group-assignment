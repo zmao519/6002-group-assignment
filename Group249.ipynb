{
 "cells": [
  {
   "cell_type": "code",
   "execution_count": 6,
   "metadata": {},
   "outputs": [],
   "source": [
    "# Import the data\n",
    "%matplotlib inline\n",
    "import matplotlib.pyplot as plt\n",
    "from matplotlib import font_manager as fm\n",
    "from matplotlib import cm\n",
    "import seaborn as sns\n",
    "\n",
    "import numpy as np\n",
    "import pandas as pd\n",
    "\n",
    "import warnings\n",
    "warnings.filterwarnings('ignore')"
   ]
  },
  {
   "cell_type": "code",
   "execution_count": 7,
   "metadata": {},
   "outputs": [
    {
     "data": {
      "text/html": [
       "<div>\n",
       "<style scoped>\n",
       "    .dataframe tbody tr th:only-of-type {\n",
       "        vertical-align: middle;\n",
       "    }\n",
       "\n",
       "    .dataframe tbody tr th {\n",
       "        vertical-align: top;\n",
       "    }\n",
       "\n",
       "    .dataframe thead th {\n",
       "        text-align: right;\n",
       "    }\n",
       "</style>\n",
       "<table border=\"1\" class=\"dataframe\">\n",
       "  <thead>\n",
       "    <tr style=\"text-align: right;\">\n",
       "      <th></th>\n",
       "      <th>ID</th>\n",
       "      <th>Product_ID</th>\n",
       "      <th>Age</th>\n",
       "      <th>Review_Title</th>\n",
       "      <th>Review_Text</th>\n",
       "      <th>Rating</th>\n",
       "      <th>Recommended</th>\n",
       "      <th>Positive_Feedback_Count</th>\n",
       "      <th>Division</th>\n",
       "      <th>Department</th>\n",
       "      <th>Type</th>\n",
       "    </tr>\n",
       "  </thead>\n",
       "  <tbody>\n",
       "    <tr>\n",
       "      <th>0</th>\n",
       "      <td>12906</td>\n",
       "      <td>984</td>\n",
       "      <td>57</td>\n",
       "      <td>Unique</td>\n",
       "      <td>Just received and sorry to return. i am 5'9\" i...</td>\n",
       "      <td>4</td>\n",
       "      <td>1</td>\n",
       "      <td>1</td>\n",
       "      <td>General Petite</td>\n",
       "      <td>Jackets</td>\n",
       "      <td>Jackets</td>\n",
       "    </tr>\n",
       "    <tr>\n",
       "      <th>1</th>\n",
       "      <td>22440</td>\n",
       "      <td>872</td>\n",
       "      <td>60</td>\n",
       "      <td>Simple beauty</td>\n",
       "      <td>This is a tts basic tee with the added flare o...</td>\n",
       "      <td>5</td>\n",
       "      <td>1</td>\n",
       "      <td>3</td>\n",
       "      <td>General Petite</td>\n",
       "      <td>Tops</td>\n",
       "      <td>Knits</td>\n",
       "    </tr>\n",
       "    <tr>\n",
       "      <th>2</th>\n",
       "      <td>13965</td>\n",
       "      <td>862</td>\n",
       "      <td>35</td>\n",
       "      <td>Love this top!</td>\n",
       "      <td>I am very happy with this shirt. i don't like ...</td>\n",
       "      <td>5</td>\n",
       "      <td>1</td>\n",
       "      <td>0</td>\n",
       "      <td>General</td>\n",
       "      <td>Tops</td>\n",
       "      <td>Knits</td>\n",
       "    </tr>\n",
       "    <tr>\n",
       "      <th>3</th>\n",
       "      <td>14369</td>\n",
       "      <td>829</td>\n",
       "      <td>45</td>\n",
       "      <td>NaN</td>\n",
       "      <td>Really flattering cut, this shirt is perfect f...</td>\n",
       "      <td>5</td>\n",
       "      <td>1</td>\n",
       "      <td>0</td>\n",
       "      <td>General Petite</td>\n",
       "      <td>Tops</td>\n",
       "      <td>Blouses</td>\n",
       "    </tr>\n",
       "    <tr>\n",
       "      <th>4</th>\n",
       "      <td>505</td>\n",
       "      <td>833</td>\n",
       "      <td>56</td>\n",
       "      <td>NaN</td>\n",
       "      <td>Love the fabric &amp; lace on this top. like other...</td>\n",
       "      <td>4</td>\n",
       "      <td>1</td>\n",
       "      <td>0</td>\n",
       "      <td>General</td>\n",
       "      <td>Tops</td>\n",
       "      <td>Blouses</td>\n",
       "    </tr>\n",
       "  </tbody>\n",
       "</table>\n",
       "</div>"
      ],
      "text/plain": [
       "      ID  Product_ID  Age    Review_Title  \\\n",
       "0  12906         984   57          Unique   \n",
       "1  22440         872   60   Simple beauty   \n",
       "2  13965         862   35  Love this top!   \n",
       "3  14369         829   45             NaN   \n",
       "4    505         833   56             NaN   \n",
       "\n",
       "                                         Review_Text  Rating  Recommended  \\\n",
       "0  Just received and sorry to return. i am 5'9\" i...       4            1   \n",
       "1  This is a tts basic tee with the added flare o...       5            1   \n",
       "2  I am very happy with this shirt. i don't like ...       5            1   \n",
       "3  Really flattering cut, this shirt is perfect f...       5            1   \n",
       "4  Love the fabric & lace on this top. like other...       4            1   \n",
       "\n",
       "   Positive_Feedback_Count        Division Department     Type  \n",
       "0                        1  General Petite    Jackets  Jackets  \n",
       "1                        3  General Petite       Tops    Knits  \n",
       "2                        0         General       Tops    Knits  \n",
       "3                        0  General Petite       Tops  Blouses  \n",
       "4                        0         General       Tops  Blouses  "
      ]
     },
     "execution_count": 7,
     "metadata": {},
     "output_type": "execute_result"
    }
   ],
   "source": [
    "review = pd.read_csv('product_train.csv')\n",
    "review.head()"
   ]
  },
  {
   "cell_type": "markdown",
   "metadata": {},
   "source": [
    "\n",
    "## Task 1: Data Understanding\n",
    "- Checking & dealing with missing data\n",
    "- Find out top popular items\n"
   ]
  },
  {
   "cell_type": "code",
   "execution_count": 8,
   "metadata": {},
   "outputs": [
    {
     "data": {
      "text/plain": [
       "ID                            0\n",
       "Product_ID                    0\n",
       "Age                           0\n",
       "Review_Title               2638\n",
       "Review_Text                 602\n",
       "Rating                        0\n",
       "Recommended                   0\n",
       "Positive_Feedback_Count       0\n",
       "Division                      9\n",
       "Department                    9\n",
       "Type                          9\n",
       "dtype: int64"
      ]
     },
     "execution_count": 8,
     "metadata": {},
     "output_type": "execute_result"
    }
   ],
   "source": [
    "# Check missing values\n",
    "review.isnull().sum()"
   ]
  },
  {
   "cell_type": "code",
   "execution_count": 9,
   "metadata": {},
   "outputs": [
    {
     "data": {
      "text/plain": [
       "(16440, 11)"
      ]
     },
     "execution_count": 9,
     "metadata": {},
     "output_type": "execute_result"
    }
   ],
   "source": [
    "# checking the size of the data\n",
    "np.shape(review)"
   ]
  },
  {
   "cell_type": "code",
   "execution_count": 10,
   "metadata": {},
   "outputs": [
    {
     "data": {
      "text/plain": [
       "ID                         0\n",
       "Product_ID                 0\n",
       "Age                        0\n",
       "Review_Title               0\n",
       "Review_Text                0\n",
       "Rating                     0\n",
       "Recommended                0\n",
       "Positive_Feedback_Count    0\n",
       "Division                   9\n",
       "Department                 9\n",
       "Type                       9\n",
       "dtype: int64"
      ]
     },
     "execution_count": 10,
     "metadata": {},
     "output_type": "execute_result"
    }
   ],
   "source": [
    "# filled the missing value for 'Review_Title' and 'Review_Text'\n",
    "review['Review_Title'].fillna('Missing title', inplace = True)\n",
    "review['Review_Text'].fillna('Missing text', inplace = True)\n",
    "review.isnull().sum()"
   ]
  },
  {
   "cell_type": "code",
   "execution_count": 11,
   "metadata": {},
   "outputs": [
    {
     "data": {
      "text/plain": [
       "(16440, 11)"
      ]
     },
     "execution_count": 11,
     "metadata": {},
     "output_type": "execute_result"
    }
   ],
   "source": [
    "# checking the shape of the data after fill in the missing value of 'Review_Title' and 'Review_Text'\n",
    "np.shape(review)"
   ]
  },
  {
   "cell_type": "code",
   "execution_count": 12,
   "metadata": {},
   "outputs": [
    {
     "data": {
      "text/plain": [
       "ID                         0\n",
       "Product_ID                 0\n",
       "Age                        0\n",
       "Review_Title               0\n",
       "Review_Text                0\n",
       "Rating                     0\n",
       "Recommended                0\n",
       "Positive_Feedback_Count    0\n",
       "Division                   0\n",
       "Department                 0\n",
       "Type                       0\n",
       "dtype: int64"
      ]
     },
     "execution_count": 12,
     "metadata": {},
     "output_type": "execute_result"
    }
   ],
   "source": [
    "# remove missing values\n",
    "review_clean = review.dropna()\n",
    "review_clean.isnull().sum()"
   ]
  },
  {
   "cell_type": "code",
   "execution_count": 13,
   "metadata": {},
   "outputs": [
    {
     "data": {
      "text/plain": [
       "(16431, 11)"
      ]
     },
     "execution_count": 13,
     "metadata": {},
     "output_type": "execute_result"
    }
   ],
   "source": [
    "# check the shape after droping the missing value\n",
    "np.shape(review_clean)"
   ]
  },
  {
   "cell_type": "code",
   "execution_count": 14,
   "metadata": {},
   "outputs": [
    {
     "name": "stdout",
     "output_type": "stream",
     "text": [
      "<class 'pandas.core.frame.DataFrame'>\n",
      "Int64Index: 16431 entries, 0 to 16439\n",
      "Data columns (total 11 columns):\n",
      " #   Column                   Non-Null Count  Dtype \n",
      "---  ------                   --------------  ----- \n",
      " 0   ID                       16431 non-null  int64 \n",
      " 1   Product_ID               16431 non-null  int64 \n",
      " 2   Age                      16431 non-null  int64 \n",
      " 3   Review_Title             16431 non-null  object\n",
      " 4   Review_Text              16431 non-null  object\n",
      " 5   Rating                   16431 non-null  int64 \n",
      " 6   Recommended              16431 non-null  int64 \n",
      " 7   Positive_Feedback_Count  16431 non-null  int64 \n",
      " 8   Division                 16431 non-null  object\n",
      " 9   Department               16431 non-null  object\n",
      " 10  Type                     16431 non-null  object\n",
      "dtypes: int64(6), object(5)\n",
      "memory usage: 1.5+ MB\n"
     ]
    }
   ],
   "source": [
    "# see the full information about the dataframe\n",
    "review_clean.info()"
   ]
  },
  {
   "cell_type": "code",
   "execution_count": 15,
   "metadata": {},
   "outputs": [
    {
     "data": {
      "text/html": [
       "<div>\n",
       "<style scoped>\n",
       "    .dataframe tbody tr th:only-of-type {\n",
       "        vertical-align: middle;\n",
       "    }\n",
       "\n",
       "    .dataframe tbody tr th {\n",
       "        vertical-align: top;\n",
       "    }\n",
       "\n",
       "    .dataframe thead th {\n",
       "        text-align: right;\n",
       "    }\n",
       "</style>\n",
       "<table border=\"1\" class=\"dataframe\">\n",
       "  <thead>\n",
       "    <tr style=\"text-align: right;\">\n",
       "      <th></th>\n",
       "      <th>ID</th>\n",
       "      <th>Product_ID</th>\n",
       "      <th>Age</th>\n",
       "      <th>Rating</th>\n",
       "      <th>Recommended</th>\n",
       "      <th>Positive_Feedback_Count</th>\n",
       "    </tr>\n",
       "  </thead>\n",
       "  <tbody>\n",
       "    <tr>\n",
       "      <th>count</th>\n",
       "      <td>16431.000000</td>\n",
       "      <td>16431.000000</td>\n",
       "      <td>16431.000000</td>\n",
       "      <td>16431.000000</td>\n",
       "      <td>16431.000000</td>\n",
       "      <td>16431.000000</td>\n",
       "    </tr>\n",
       "    <tr>\n",
       "      <th>mean</th>\n",
       "      <td>11706.349705</td>\n",
       "      <td>918.695210</td>\n",
       "      <td>43.196945</td>\n",
       "      <td>4.203274</td>\n",
       "      <td>0.823930</td>\n",
       "      <td>2.564786</td>\n",
       "    </tr>\n",
       "    <tr>\n",
       "      <th>std</th>\n",
       "      <td>6769.359603</td>\n",
       "      <td>203.484559</td>\n",
       "      <td>12.274063</td>\n",
       "      <td>1.106311</td>\n",
       "      <td>0.380891</td>\n",
       "      <td>5.911998</td>\n",
       "    </tr>\n",
       "    <tr>\n",
       "      <th>min</th>\n",
       "      <td>0.000000</td>\n",
       "      <td>0.000000</td>\n",
       "      <td>18.000000</td>\n",
       "      <td>1.000000</td>\n",
       "      <td>0.000000</td>\n",
       "      <td>0.000000</td>\n",
       "    </tr>\n",
       "    <tr>\n",
       "      <th>25%</th>\n",
       "      <td>5863.500000</td>\n",
       "      <td>861.000000</td>\n",
       "      <td>34.000000</td>\n",
       "      <td>4.000000</td>\n",
       "      <td>1.000000</td>\n",
       "      <td>0.000000</td>\n",
       "    </tr>\n",
       "    <tr>\n",
       "      <th>50%</th>\n",
       "      <td>11694.000000</td>\n",
       "      <td>936.000000</td>\n",
       "      <td>41.000000</td>\n",
       "      <td>5.000000</td>\n",
       "      <td>1.000000</td>\n",
       "      <td>1.000000</td>\n",
       "    </tr>\n",
       "    <tr>\n",
       "      <th>75%</th>\n",
       "      <td>17536.500000</td>\n",
       "      <td>1078.000000</td>\n",
       "      <td>52.000000</td>\n",
       "      <td>5.000000</td>\n",
       "      <td>1.000000</td>\n",
       "      <td>3.000000</td>\n",
       "    </tr>\n",
       "    <tr>\n",
       "      <th>max</th>\n",
       "      <td>23485.000000</td>\n",
       "      <td>1205.000000</td>\n",
       "      <td>99.000000</td>\n",
       "      <td>5.000000</td>\n",
       "      <td>1.000000</td>\n",
       "      <td>122.000000</td>\n",
       "    </tr>\n",
       "  </tbody>\n",
       "</table>\n",
       "</div>"
      ],
      "text/plain": [
       "                 ID    Product_ID           Age        Rating   Recommended  \\\n",
       "count  16431.000000  16431.000000  16431.000000  16431.000000  16431.000000   \n",
       "mean   11706.349705    918.695210     43.196945      4.203274      0.823930   \n",
       "std     6769.359603    203.484559     12.274063      1.106311      0.380891   \n",
       "min        0.000000      0.000000     18.000000      1.000000      0.000000   \n",
       "25%     5863.500000    861.000000     34.000000      4.000000      1.000000   \n",
       "50%    11694.000000    936.000000     41.000000      5.000000      1.000000   \n",
       "75%    17536.500000   1078.000000     52.000000      5.000000      1.000000   \n",
       "max    23485.000000   1205.000000     99.000000      5.000000      1.000000   \n",
       "\n",
       "       Positive_Feedback_Count  \n",
       "count             16431.000000  \n",
       "mean                  2.564786  \n",
       "std                   5.911998  \n",
       "min                   0.000000  \n",
       "25%                   0.000000  \n",
       "50%                   1.000000  \n",
       "75%                   3.000000  \n",
       "max                 122.000000  "
      ]
     },
     "execution_count": 15,
     "metadata": {},
     "output_type": "execute_result"
    }
   ],
   "source": [
    "# see the summary statistics of the dataframe\n",
    "review_clean.describe()"
   ]
  },
  {
   "cell_type": "code",
   "execution_count": 16,
   "metadata": {},
   "outputs": [],
   "source": [
    "# Test data"
   ]
  },
  {
   "cell_type": "code",
   "execution_count": 17,
   "metadata": {},
   "outputs": [
    {
     "data": {
      "text/html": [
       "<div>\n",
       "<style scoped>\n",
       "    .dataframe tbody tr th:only-of-type {\n",
       "        vertical-align: middle;\n",
       "    }\n",
       "\n",
       "    .dataframe tbody tr th {\n",
       "        vertical-align: top;\n",
       "    }\n",
       "\n",
       "    .dataframe thead th {\n",
       "        text-align: right;\n",
       "    }\n",
       "</style>\n",
       "<table border=\"1\" class=\"dataframe\">\n",
       "  <thead>\n",
       "    <tr style=\"text-align: right;\">\n",
       "      <th></th>\n",
       "      <th>ID</th>\n",
       "      <th>Product_ID</th>\n",
       "      <th>Age</th>\n",
       "      <th>Review_Title</th>\n",
       "      <th>Review_Text</th>\n",
       "      <th>Rating</th>\n",
       "      <th>Positive_Feedback_Count</th>\n",
       "      <th>Division</th>\n",
       "      <th>Department</th>\n",
       "      <th>Type</th>\n",
       "    </tr>\n",
       "  </thead>\n",
       "  <tbody>\n",
       "    <tr>\n",
       "      <th>0</th>\n",
       "      <td>10</td>\n",
       "      <td>1077</td>\n",
       "      <td>53</td>\n",
       "      <td>Dress looks like it's made of cheap material</td>\n",
       "      <td>Dress runs small esp where the zipper area run...</td>\n",
       "      <td>3</td>\n",
       "      <td>14</td>\n",
       "      <td>General</td>\n",
       "      <td>Dresses</td>\n",
       "      <td>Dresses</td>\n",
       "    </tr>\n",
       "    <tr>\n",
       "      <th>1</th>\n",
       "      <td>11</td>\n",
       "      <td>1095</td>\n",
       "      <td>39</td>\n",
       "      <td>NaN</td>\n",
       "      <td>This dress is perfection! so pretty and flatte...</td>\n",
       "      <td>5</td>\n",
       "      <td>2</td>\n",
       "      <td>General Petite</td>\n",
       "      <td>Dresses</td>\n",
       "      <td>Dresses</td>\n",
       "    </tr>\n",
       "    <tr>\n",
       "      <th>2</th>\n",
       "      <td>13</td>\n",
       "      <td>767</td>\n",
       "      <td>44</td>\n",
       "      <td>Runs big</td>\n",
       "      <td>Bought the black xs to go under the larkspur m...</td>\n",
       "      <td>5</td>\n",
       "      <td>0</td>\n",
       "      <td>Initmates</td>\n",
       "      <td>Intimate</td>\n",
       "      <td>Intimates</td>\n",
       "    </tr>\n",
       "    <tr>\n",
       "      <th>3</th>\n",
       "      <td>19</td>\n",
       "      <td>1077</td>\n",
       "      <td>47</td>\n",
       "      <td>Stylish and comfortable</td>\n",
       "      <td>I love the look and feel of this tulle dress. ...</td>\n",
       "      <td>5</td>\n",
       "      <td>0</td>\n",
       "      <td>General</td>\n",
       "      <td>Dresses</td>\n",
       "      <td>Dresses</td>\n",
       "    </tr>\n",
       "    <tr>\n",
       "      <th>4</th>\n",
       "      <td>24</td>\n",
       "      <td>847</td>\n",
       "      <td>55</td>\n",
       "      <td>Versatile</td>\n",
       "      <td>I love this shirt because when i first saw it,...</td>\n",
       "      <td>5</td>\n",
       "      <td>0</td>\n",
       "      <td>General</td>\n",
       "      <td>Tops</td>\n",
       "      <td>Blouses</td>\n",
       "    </tr>\n",
       "  </tbody>\n",
       "</table>\n",
       "</div>"
      ],
      "text/plain": [
       "   ID  Product_ID  Age                                  Review_Title  \\\n",
       "0  10        1077   53  Dress looks like it's made of cheap material   \n",
       "1  11        1095   39                                           NaN   \n",
       "2  13         767   44                                      Runs big   \n",
       "3  19        1077   47                       Stylish and comfortable   \n",
       "4  24         847   55                                     Versatile   \n",
       "\n",
       "                                         Review_Text  Rating  \\\n",
       "0  Dress runs small esp where the zipper area run...       3   \n",
       "1  This dress is perfection! so pretty and flatte...       5   \n",
       "2  Bought the black xs to go under the larkspur m...       5   \n",
       "3  I love the look and feel of this tulle dress. ...       5   \n",
       "4  I love this shirt because when i first saw it,...       5   \n",
       "\n",
       "   Positive_Feedback_Count        Division Department       Type  \n",
       "0                       14         General    Dresses    Dresses  \n",
       "1                        2  General Petite    Dresses    Dresses  \n",
       "2                        0       Initmates   Intimate  Intimates  \n",
       "3                        0         General    Dresses    Dresses  \n",
       "4                        0         General       Tops    Blouses  "
      ]
     },
     "execution_count": 17,
     "metadata": {},
     "output_type": "execute_result"
    }
   ],
   "source": [
    "review_test = pd.read_csv('product_test.csv')\n",
    "review_test.head()"
   ]
  },
  {
   "cell_type": "code",
   "execution_count": 18,
   "metadata": {},
   "outputs": [
    {
     "data": {
      "text/plain": [
       "ID                           0\n",
       "Product_ID                   0\n",
       "Age                          0\n",
       "Review_Title               929\n",
       "Review_Text                  0\n",
       "Rating                       0\n",
       "Positive_Feedback_Count      0\n",
       "Division                     5\n",
       "Department                   5\n",
       "Type                         5\n",
       "dtype: int64"
      ]
     },
     "execution_count": 18,
     "metadata": {},
     "output_type": "execute_result"
    }
   ],
   "source": [
    "# Check missing values\n",
    "review_test.isnull().sum()"
   ]
  },
  {
   "cell_type": "code",
   "execution_count": 19,
   "metadata": {},
   "outputs": [
    {
     "data": {
      "text/plain": [
       "(6803, 10)"
      ]
     },
     "execution_count": 19,
     "metadata": {},
     "output_type": "execute_result"
    }
   ],
   "source": [
    "# checking the size of the data\n",
    "np.shape(review_test)"
   ]
  },
  {
   "cell_type": "code",
   "execution_count": 20,
   "metadata": {},
   "outputs": [
    {
     "data": {
      "text/plain": [
       "ID                         0\n",
       "Product_ID                 0\n",
       "Age                        0\n",
       "Review_Title               0\n",
       "Review_Text                0\n",
       "Rating                     0\n",
       "Positive_Feedback_Count    0\n",
       "Division                   5\n",
       "Department                 5\n",
       "Type                       5\n",
       "dtype: int64"
      ]
     },
     "execution_count": 20,
     "metadata": {},
     "output_type": "execute_result"
    }
   ],
   "source": [
    "# filled the missing value for 'Review_Title'\n",
    "review_test['Review_Title'].fillna('Missing title', inplace = True)\n",
    "review_test.isnull().sum()"
   ]
  },
  {
   "cell_type": "code",
   "execution_count": 21,
   "metadata": {},
   "outputs": [
    {
     "data": {
      "text/html": [
       "<div>\n",
       "<style scoped>\n",
       "    .dataframe tbody tr th:only-of-type {\n",
       "        vertical-align: middle;\n",
       "    }\n",
       "\n",
       "    .dataframe tbody tr th {\n",
       "        vertical-align: top;\n",
       "    }\n",
       "\n",
       "    .dataframe thead th {\n",
       "        text-align: right;\n",
       "    }\n",
       "</style>\n",
       "<table border=\"1\" class=\"dataframe\">\n",
       "  <thead>\n",
       "    <tr style=\"text-align: right;\">\n",
       "      <th></th>\n",
       "      <th>ID</th>\n",
       "      <th>Product_ID</th>\n",
       "      <th>Age</th>\n",
       "      <th>Review_Title</th>\n",
       "      <th>Review_Text</th>\n",
       "      <th>Rating</th>\n",
       "      <th>Positive_Feedback_Count</th>\n",
       "      <th>Division</th>\n",
       "      <th>Department</th>\n",
       "      <th>Type</th>\n",
       "    </tr>\n",
       "  </thead>\n",
       "  <tbody>\n",
       "    <tr>\n",
       "      <th>2696</th>\n",
       "      <td>9444</td>\n",
       "      <td>72</td>\n",
       "      <td>25</td>\n",
       "      <td>My favorite socks!!!</td>\n",
       "      <td>I never write reviews, but these socks are so ...</td>\n",
       "      <td>5</td>\n",
       "      <td>0</td>\n",
       "      <td>NaN</td>\n",
       "      <td>NaN</td>\n",
       "      <td>NaN</td>\n",
       "    </tr>\n",
       "    <tr>\n",
       "      <th>4653</th>\n",
       "      <td>16221</td>\n",
       "      <td>152</td>\n",
       "      <td>37</td>\n",
       "      <td>Love!</td>\n",
       "      <td>I am loving these. they are quite long but are...</td>\n",
       "      <td>5</td>\n",
       "      <td>0</td>\n",
       "      <td>NaN</td>\n",
       "      <td>NaN</td>\n",
       "      <td>NaN</td>\n",
       "    </tr>\n",
       "    <tr>\n",
       "      <th>6216</th>\n",
       "      <td>21532</td>\n",
       "      <td>665</td>\n",
       "      <td>43</td>\n",
       "      <td>So worth it!</td>\n",
       "      <td>Got these on sale...absolutely love eberjey! f...</td>\n",
       "      <td>5</td>\n",
       "      <td>0</td>\n",
       "      <td>NaN</td>\n",
       "      <td>NaN</td>\n",
       "      <td>NaN</td>\n",
       "    </tr>\n",
       "    <tr>\n",
       "      <th>6638</th>\n",
       "      <td>22997</td>\n",
       "      <td>136</td>\n",
       "      <td>47</td>\n",
       "      <td>Charcoal, pale gray, a bit of silver!</td>\n",
       "      <td>These socks are soft and comfortable, and they...</td>\n",
       "      <td>5</td>\n",
       "      <td>1</td>\n",
       "      <td>NaN</td>\n",
       "      <td>NaN</td>\n",
       "      <td>NaN</td>\n",
       "    </tr>\n",
       "    <tr>\n",
       "      <th>6640</th>\n",
       "      <td>23006</td>\n",
       "      <td>136</td>\n",
       "      <td>33</td>\n",
       "      <td>Cute itsy socks</td>\n",
       "      <td>Love polkadots, love sparkle. these little soc...</td>\n",
       "      <td>5</td>\n",
       "      <td>0</td>\n",
       "      <td>NaN</td>\n",
       "      <td>NaN</td>\n",
       "      <td>NaN</td>\n",
       "    </tr>\n",
       "  </tbody>\n",
       "</table>\n",
       "</div>"
      ],
      "text/plain": [
       "         ID  Product_ID  Age                           Review_Title  \\\n",
       "2696   9444          72   25                   My favorite socks!!!   \n",
       "4653  16221         152   37                                  Love!   \n",
       "6216  21532         665   43                           So worth it!   \n",
       "6638  22997         136   47  Charcoal, pale gray, a bit of silver!   \n",
       "6640  23006         136   33                        Cute itsy socks   \n",
       "\n",
       "                                            Review_Text  Rating  \\\n",
       "2696  I never write reviews, but these socks are so ...       5   \n",
       "4653  I am loving these. they are quite long but are...       5   \n",
       "6216  Got these on sale...absolutely love eberjey! f...       5   \n",
       "6638  These socks are soft and comfortable, and they...       5   \n",
       "6640  Love polkadots, love sparkle. these little soc...       5   \n",
       "\n",
       "      Positive_Feedback_Count Division Department Type  \n",
       "2696                        0      NaN        NaN  NaN  \n",
       "4653                        0      NaN        NaN  NaN  \n",
       "6216                        0      NaN        NaN  NaN  \n",
       "6638                        1      NaN        NaN  NaN  \n",
       "6640                        0      NaN        NaN  NaN  "
      ]
     },
     "execution_count": 21,
     "metadata": {},
     "output_type": "execute_result"
    }
   ],
   "source": [
    "# check which line of Division has missing value\n",
    "review_test.loc[review_test['Division'].isnull()]"
   ]
  },
  {
   "cell_type": "code",
   "execution_count": 22,
   "metadata": {},
   "outputs": [],
   "source": [
    "# fill in the missing value\n",
    "review_test.loc[2696,['Division', 'Department', 'Type']] = ['Initmates', 'Intimate', 'Legwear']\n",
    "review_test.loc[4653,['Division', 'Department', 'Type']] = ['Initmates', 'Intimate', 'Legwear']\n",
    "review_test.loc[6216,['Division', 'Department', 'Type']] = ['General Petite', 'Tops', 'Knits']\n",
    "review_test.loc[6638,['Division', 'Department', 'Type']] = ['Initmates', 'Intimate', 'Legwear']\n",
    "review_test.loc[6640,['Division', 'Department', 'Type']] = ['Initmates', 'Intimate', 'Legwear']"
   ]
  },
  {
   "cell_type": "code",
   "execution_count": 23,
   "metadata": {},
   "outputs": [
    {
     "data": {
      "text/plain": [
       "ID                         0\n",
       "Product_ID                 0\n",
       "Age                        0\n",
       "Review_Title               0\n",
       "Review_Text                0\n",
       "Rating                     0\n",
       "Positive_Feedback_Count    0\n",
       "Division                   0\n",
       "Department                 0\n",
       "Type                       0\n",
       "dtype: int64"
      ]
     },
     "execution_count": 23,
     "metadata": {},
     "output_type": "execute_result"
    }
   ],
   "source": [
    "review_test.isnull().sum()"
   ]
  },
  {
   "cell_type": "code",
   "execution_count": 24,
   "metadata": {},
   "outputs": [
    {
     "data": {
      "text/plain": [
       "(6803, 10)"
      ]
     },
     "execution_count": 24,
     "metadata": {},
     "output_type": "execute_result"
    }
   ],
   "source": [
    "np.shape(review_test)"
   ]
  },
  {
   "cell_type": "code",
   "execution_count": 25,
   "metadata": {},
   "outputs": [
    {
     "data": {
      "text/html": [
       "<div>\n",
       "<style scoped>\n",
       "    .dataframe tbody tr th:only-of-type {\n",
       "        vertical-align: middle;\n",
       "    }\n",
       "\n",
       "    .dataframe tbody tr th {\n",
       "        vertical-align: top;\n",
       "    }\n",
       "\n",
       "    .dataframe thead tr th {\n",
       "        text-align: left;\n",
       "    }\n",
       "\n",
       "    .dataframe thead tr:last-of-type th {\n",
       "        text-align: right;\n",
       "    }\n",
       "</style>\n",
       "<table border=\"1\" class=\"dataframe\">\n",
       "  <thead>\n",
       "    <tr>\n",
       "      <th></th>\n",
       "      <th></th>\n",
       "      <th></th>\n",
       "      <th></th>\n",
       "      <th>count</th>\n",
       "    </tr>\n",
       "    <tr>\n",
       "      <th></th>\n",
       "      <th></th>\n",
       "      <th></th>\n",
       "      <th></th>\n",
       "      <th>ID</th>\n",
       "    </tr>\n",
       "    <tr>\n",
       "      <th>Product_ID</th>\n",
       "      <th>Division</th>\n",
       "      <th>Department</th>\n",
       "      <th>Type</th>\n",
       "      <th></th>\n",
       "    </tr>\n",
       "  </thead>\n",
       "  <tbody>\n",
       "    <tr>\n",
       "      <th>1078</th>\n",
       "      <th>General</th>\n",
       "      <th>Dresses</th>\n",
       "      <th>Dresses</th>\n",
       "      <td>431</td>\n",
       "    </tr>\n",
       "    <tr>\n",
       "      <th>862</th>\n",
       "      <th>General</th>\n",
       "      <th>Tops</th>\n",
       "      <th>Knits</th>\n",
       "      <td>359</td>\n",
       "    </tr>\n",
       "    <tr>\n",
       "      <th>1094</th>\n",
       "      <th>General</th>\n",
       "      <th>Dresses</th>\n",
       "      <th>Dresses</th>\n",
       "      <td>314</td>\n",
       "    </tr>\n",
       "    <tr>\n",
       "      <th>1078</th>\n",
       "      <th>General Petite</th>\n",
       "      <th>Dresses</th>\n",
       "      <th>Dresses</th>\n",
       "      <td>287</td>\n",
       "    </tr>\n",
       "    <tr>\n",
       "      <th>1081</th>\n",
       "      <th>General Petite</th>\n",
       "      <th>Dresses</th>\n",
       "      <th>Dresses</th>\n",
       "      <td>280</td>\n",
       "    </tr>\n",
       "    <tr>\n",
       "      <th>...</th>\n",
       "      <th>...</th>\n",
       "      <th>...</th>\n",
       "      <th>...</th>\n",
       "      <td>...</td>\n",
       "    </tr>\n",
       "    <tr>\n",
       "      <th>495</th>\n",
       "      <th>General</th>\n",
       "      <th>Bottoms</th>\n",
       "      <th>Shorts</th>\n",
       "      <td>1</td>\n",
       "    </tr>\n",
       "    <tr>\n",
       "      <th>496</th>\n",
       "      <th>General</th>\n",
       "      <th>Bottoms</th>\n",
       "      <th>Shorts</th>\n",
       "      <td>1</td>\n",
       "    </tr>\n",
       "    <tr>\n",
       "      <th>497</th>\n",
       "      <th>Initmates</th>\n",
       "      <th>Intimate</th>\n",
       "      <th>Lounge</th>\n",
       "      <td>1</td>\n",
       "    </tr>\n",
       "    <tr>\n",
       "      <th>499</th>\n",
       "      <th>Initmates</th>\n",
       "      <th>Intimate</th>\n",
       "      <th>Layering</th>\n",
       "      <td>1</td>\n",
       "    </tr>\n",
       "    <tr>\n",
       "      <th>0</th>\n",
       "      <th>General</th>\n",
       "      <th>Jackets</th>\n",
       "      <th>Outerwear</th>\n",
       "      <td>1</td>\n",
       "    </tr>\n",
       "  </tbody>\n",
       "</table>\n",
       "<p>1226 rows × 1 columns</p>\n",
       "</div>"
      ],
      "text/plain": [
       "                                               count\n",
       "                                                  ID\n",
       "Product_ID Division       Department Type           \n",
       "1078       General        Dresses    Dresses     431\n",
       "862        General        Tops       Knits       359\n",
       "1094       General        Dresses    Dresses     314\n",
       "1078       General Petite Dresses    Dresses     287\n",
       "1081       General Petite Dresses    Dresses     280\n",
       "...                                              ...\n",
       "495        General        Bottoms    Shorts        1\n",
       "496        General        Bottoms    Shorts        1\n",
       "497        Initmates      Intimate   Lounge        1\n",
       "499        Initmates      Intimate   Layering      1\n",
       "0          General        Jackets    Outerwear     1\n",
       "\n",
       "[1226 rows x 1 columns]"
      ]
     },
     "execution_count": 25,
     "metadata": {},
     "output_type": "execute_result"
    }
   ],
   "source": [
    "# top sell products\n",
    "\n",
    "best_sell = review_clean.pivot_table(index = ['Product_ID', 'Division', 'Department', 'Type'],\n",
    "                                    values = ['ID'],\n",
    "                                    aggfunc = ['count'])\n",
    "best_sell.sort_values(by = ('count', 'ID'), ascending = False)\n",
    "\n",
    "# https://pandas.pydata.org/pandas-docs/stable/reference/api/pandas.pivot_table.html"
   ]
  },
  {
   "cell_type": "code",
   "execution_count": 26,
   "metadata": {},
   "outputs": [
    {
     "data": {
      "text/html": [
       "<div>\n",
       "<style scoped>\n",
       "    .dataframe tbody tr th:only-of-type {\n",
       "        vertical-align: middle;\n",
       "    }\n",
       "\n",
       "    .dataframe tbody tr th {\n",
       "        vertical-align: top;\n",
       "    }\n",
       "\n",
       "    .dataframe thead th {\n",
       "        text-align: right;\n",
       "    }\n",
       "</style>\n",
       "<table border=\"1\" class=\"dataframe\">\n",
       "  <thead>\n",
       "    <tr style=\"text-align: right;\">\n",
       "      <th></th>\n",
       "      <th></th>\n",
       "      <th></th>\n",
       "      <th></th>\n",
       "      <th>Age</th>\n",
       "      <th>Positive_Feedback_Count</th>\n",
       "      <th>Rating</th>\n",
       "      <th>Recommended</th>\n",
       "      <th>Sell_amount</th>\n",
       "    </tr>\n",
       "    <tr>\n",
       "      <th>Product_ID</th>\n",
       "      <th>Division</th>\n",
       "      <th>Department</th>\n",
       "      <th>Type</th>\n",
       "      <th></th>\n",
       "      <th></th>\n",
       "      <th></th>\n",
       "      <th></th>\n",
       "      <th></th>\n",
       "    </tr>\n",
       "  </thead>\n",
       "  <tbody>\n",
       "    <tr>\n",
       "      <th>1078</th>\n",
       "      <th>General</th>\n",
       "      <th>Dresses</th>\n",
       "      <th>Dresses</th>\n",
       "      <td>42.334107</td>\n",
       "      <td>2.679814</td>\n",
       "      <td>4.290023</td>\n",
       "      <td>0.863109</td>\n",
       "      <td>431</td>\n",
       "    </tr>\n",
       "    <tr>\n",
       "      <th>862</th>\n",
       "      <th>General</th>\n",
       "      <th>Tops</th>\n",
       "      <th>Knits</th>\n",
       "      <td>42.899721</td>\n",
       "      <td>2.203343</td>\n",
       "      <td>4.119777</td>\n",
       "      <td>0.807799</td>\n",
       "      <td>359</td>\n",
       "    </tr>\n",
       "    <tr>\n",
       "      <th>1094</th>\n",
       "      <th>General</th>\n",
       "      <th>Dresses</th>\n",
       "      <th>Dresses</th>\n",
       "      <td>40.990446</td>\n",
       "      <td>2.961783</td>\n",
       "      <td>4.308917</td>\n",
       "      <td>0.875796</td>\n",
       "      <td>314</td>\n",
       "    </tr>\n",
       "    <tr>\n",
       "      <th>1078</th>\n",
       "      <th>General Petite</th>\n",
       "      <th>Dresses</th>\n",
       "      <th>Dresses</th>\n",
       "      <td>42.839721</td>\n",
       "      <td>3.104530</td>\n",
       "      <td>4.059233</td>\n",
       "      <td>0.756098</td>\n",
       "      <td>287</td>\n",
       "    </tr>\n",
       "    <tr>\n",
       "      <th>1081</th>\n",
       "      <th>General Petite</th>\n",
       "      <th>Dresses</th>\n",
       "      <th>Dresses</th>\n",
       "      <td>41.521429</td>\n",
       "      <td>2.989286</td>\n",
       "      <td>4.328571</td>\n",
       "      <td>0.860714</td>\n",
       "      <td>280</td>\n",
       "    </tr>\n",
       "    <tr>\n",
       "      <th>...</th>\n",
       "      <th>...</th>\n",
       "      <th>...</th>\n",
       "      <th>...</th>\n",
       "      <td>...</td>\n",
       "      <td>...</td>\n",
       "      <td>...</td>\n",
       "      <td>...</td>\n",
       "      <td>...</td>\n",
       "    </tr>\n",
       "    <tr>\n",
       "      <th>495</th>\n",
       "      <th>General</th>\n",
       "      <th>Bottoms</th>\n",
       "      <th>Shorts</th>\n",
       "      <td>39.000000</td>\n",
       "      <td>2.000000</td>\n",
       "      <td>1.000000</td>\n",
       "      <td>0.000000</td>\n",
       "      <td>1</td>\n",
       "    </tr>\n",
       "    <tr>\n",
       "      <th>496</th>\n",
       "      <th>General</th>\n",
       "      <th>Bottoms</th>\n",
       "      <th>Shorts</th>\n",
       "      <td>37.000000</td>\n",
       "      <td>0.000000</td>\n",
       "      <td>5.000000</td>\n",
       "      <td>1.000000</td>\n",
       "      <td>1</td>\n",
       "    </tr>\n",
       "    <tr>\n",
       "      <th>497</th>\n",
       "      <th>Initmates</th>\n",
       "      <th>Intimate</th>\n",
       "      <th>Lounge</th>\n",
       "      <td>25.000000</td>\n",
       "      <td>2.000000</td>\n",
       "      <td>4.000000</td>\n",
       "      <td>1.000000</td>\n",
       "      <td>1</td>\n",
       "    </tr>\n",
       "    <tr>\n",
       "      <th>499</th>\n",
       "      <th>Initmates</th>\n",
       "      <th>Intimate</th>\n",
       "      <th>Layering</th>\n",
       "      <td>35.000000</td>\n",
       "      <td>1.000000</td>\n",
       "      <td>5.000000</td>\n",
       "      <td>1.000000</td>\n",
       "      <td>1</td>\n",
       "    </tr>\n",
       "    <tr>\n",
       "      <th>0</th>\n",
       "      <th>General</th>\n",
       "      <th>Jackets</th>\n",
       "      <th>Outerwear</th>\n",
       "      <td>26.000000</td>\n",
       "      <td>0.000000</td>\n",
       "      <td>5.000000</td>\n",
       "      <td>1.000000</td>\n",
       "      <td>1</td>\n",
       "    </tr>\n",
       "  </tbody>\n",
       "</table>\n",
       "<p>1226 rows × 5 columns</p>\n",
       "</div>"
      ],
      "text/plain": [
       "                                                      Age  \\\n",
       "Product_ID Division       Department Type                   \n",
       "1078       General        Dresses    Dresses    42.334107   \n",
       "862        General        Tops       Knits      42.899721   \n",
       "1094       General        Dresses    Dresses    40.990446   \n",
       "1078       General Petite Dresses    Dresses    42.839721   \n",
       "1081       General Petite Dresses    Dresses    41.521429   \n",
       "...                                                   ...   \n",
       "495        General        Bottoms    Shorts     39.000000   \n",
       "496        General        Bottoms    Shorts     37.000000   \n",
       "497        Initmates      Intimate   Lounge     25.000000   \n",
       "499        Initmates      Intimate   Layering   35.000000   \n",
       "0          General        Jackets    Outerwear  26.000000   \n",
       "\n",
       "                                                Positive_Feedback_Count  \\\n",
       "Product_ID Division       Department Type                                 \n",
       "1078       General        Dresses    Dresses                   2.679814   \n",
       "862        General        Tops       Knits                     2.203343   \n",
       "1094       General        Dresses    Dresses                   2.961783   \n",
       "1078       General Petite Dresses    Dresses                   3.104530   \n",
       "1081       General Petite Dresses    Dresses                   2.989286   \n",
       "...                                                                 ...   \n",
       "495        General        Bottoms    Shorts                    2.000000   \n",
       "496        General        Bottoms    Shorts                    0.000000   \n",
       "497        Initmates      Intimate   Lounge                    2.000000   \n",
       "499        Initmates      Intimate   Layering                  1.000000   \n",
       "0          General        Jackets    Outerwear                 0.000000   \n",
       "\n",
       "                                                  Rating  Recommended  \\\n",
       "Product_ID Division       Department Type                               \n",
       "1078       General        Dresses    Dresses    4.290023     0.863109   \n",
       "862        General        Tops       Knits      4.119777     0.807799   \n",
       "1094       General        Dresses    Dresses    4.308917     0.875796   \n",
       "1078       General Petite Dresses    Dresses    4.059233     0.756098   \n",
       "1081       General Petite Dresses    Dresses    4.328571     0.860714   \n",
       "...                                                  ...          ...   \n",
       "495        General        Bottoms    Shorts     1.000000     0.000000   \n",
       "496        General        Bottoms    Shorts     5.000000     1.000000   \n",
       "497        Initmates      Intimate   Lounge     4.000000     1.000000   \n",
       "499        Initmates      Intimate   Layering   5.000000     1.000000   \n",
       "0          General        Jackets    Outerwear  5.000000     1.000000   \n",
       "\n",
       "                                                Sell_amount  \n",
       "Product_ID Division       Department Type                    \n",
       "1078       General        Dresses    Dresses            431  \n",
       "862        General        Tops       Knits              359  \n",
       "1094       General        Dresses    Dresses            314  \n",
       "1078       General Petite Dresses    Dresses            287  \n",
       "1081       General Petite Dresses    Dresses            280  \n",
       "...                                                     ...  \n",
       "495        General        Bottoms    Shorts               1  \n",
       "496        General        Bottoms    Shorts               1  \n",
       "497        Initmates      Intimate   Lounge               1  \n",
       "499        Initmates      Intimate   Layering             1  \n",
       "0          General        Jackets    Outerwear            1  \n",
       "\n",
       "[1226 rows x 5 columns]"
      ]
     },
     "execution_count": 26,
     "metadata": {},
     "output_type": "execute_result"
    }
   ],
   "source": [
    "# Top five products and their characteristics with average age,positive_feedback_count,rating,recommended,sell_amount\n",
    "best_sell_char = review_clean.pivot_table(index = ['Product_ID', 'Division', 'Department', 'Type'],\n",
    "                                    values = ['Age', 'Recommended','Rating', 'Positive_Feedback_Count'],\n",
    "                                    aggfunc = np.mean)\n",
    "best_sell_char['Sell_amount'] = best_sell[('count', 'ID')]\n",
    "best_sell_char.sort_values(by = 'Sell_amount', ascending = False)"
   ]
  },
  {
   "cell_type": "markdown",
   "metadata": {},
   "source": [
    "\n",
    "\n",
    "## EDA\n",
    "- Recommendation across departments and product types\n",
    "- Rating patterns across departments and product types\n",
    "- Buying behavior of different age groups\n",
    "- Reviewing behavior of different age groups\n",
    "\n"
   ]
  },
  {
   "cell_type": "code",
   "execution_count": 27,
   "metadata": {},
   "outputs": [
    {
     "data": {
      "image/png": "[encoded data removed]",
      "text/plain": [
       "<Figure size 432x288 with 1 Axes>"
      ]
     },
     "metadata": {
      "needs_background": "light"
     },
     "output_type": "display_data"
    }
   ],
   "source": [
    "# distribution of the target variable Recommended\n",
    "plt.hist(review_clean['Recommended'])\n",
    "plt.title('Distribution of Recommended', fontsize = 18)\n",
    "plt.xlabel('Recommended')\n",
    "plt.ylabel('Count')\n",
    "plt.show()"
   ]
  },
  {
   "cell_type": "code",
   "execution_count": 28,
   "metadata": {},
   "outputs": [
    {
     "data": {
      "text/plain": [
       "1    13538\n",
       "0     2893\n",
       "Name: Recommended, dtype: int64"
      ]
     },
     "execution_count": 28,
     "metadata": {},
     "output_type": "execute_result"
    }
   ],
   "source": [
    "# count number of customers recommend the products and number of customers not recommend it.\n",
    "review_clean['Recommended'].value_counts()"
   ]
  },
  {
   "cell_type": "code",
   "execution_count": 29,
   "metadata": {},
   "outputs": [
    {
     "name": "stdout",
     "output_type": "stream",
     "text": [
      "NumExpr defaulting to 4 threads.\n"
     ]
    },
    {
     "data": {
      "text/plain": [
       "1    0.82393\n",
       "0    0.17607\n",
       "Name: Recommended, dtype: float64"
      ]
     },
     "execution_count": 29,
     "metadata": {},
     "output_type": "execute_result"
    }
   ],
   "source": [
    "# percentage of recommendation\n",
    "review_clean['Recommended'].value_counts() / review_clean['Recommended'].count()"
   ]
  },
  {
   "cell_type": "code",
   "execution_count": 30,
   "metadata": {},
   "outputs": [],
   "source": [
    "# distribution of the category variables, Division, Department, Type, and their relation with recommended"
   ]
  },
  {
   "cell_type": "code",
   "execution_count": 31,
   "metadata": {},
   "outputs": [
    {
     "data": {
      "image/png": "[encoded data removed]",
      "text/plain": [
       "<Figure size 432x288 with 1 Axes>"
      ]
     },
     "metadata": {
      "needs_background": "light"
     },
     "output_type": "display_data"
    }
   ],
   "source": [
    "# Division\n",
    "\n",
    "sns.countplot(review_clean['Division'])\n",
    "plt.title('Distribution of Division', fontsize = 18)\n",
    "plt.show()\n",
    "\n",
    "# https://seaborn.pydata.org/generated/seaborn.countplot.html"
   ]
  },
  {
   "cell_type": "code",
   "execution_count": 32,
   "metadata": {},
   "outputs": [
    {
     "data": {
      "image/png": "[encoded data removed]",
      "text/plain": [
       "<Figure size 432x288 with 1 Axes>"
      ]
     },
     "metadata": {
      "needs_background": "light"
     },
     "output_type": "display_data"
    }
   ],
   "source": [
    "# number of recommended and non-recommended for each division\n",
    "plt.hist([review_clean[review_clean['Recommended'] == 1]['Division']], alpha = 0.7, label = ['Recommended'])\n",
    "plt.hist([review_clean[review_clean['Recommended'] == 0]['Division']], label = ['Not-recommended'])\n",
    "plt.title('Distribution of Division', fontsize = 18)\n",
    "plt.xlabel('Division')\n",
    "plt.ylabel('Count')\n",
    "plt.legend()\n",
    "plt.show()"
   ]
  },
  {
   "cell_type": "code",
   "execution_count": 33,
   "metadata": {},
   "outputs": [
    {
     "data": {
      "text/html": [
       "<div>\n",
       "<style scoped>\n",
       "    .dataframe tbody tr th:only-of-type {\n",
       "        vertical-align: middle;\n",
       "    }\n",
       "\n",
       "    .dataframe tbody tr th {\n",
       "        vertical-align: top;\n",
       "    }\n",
       "\n",
       "    .dataframe thead th {\n",
       "        text-align: right;\n",
       "    }\n",
       "</style>\n",
       "<table border=\"1\" class=\"dataframe\">\n",
       "  <thead>\n",
       "    <tr style=\"text-align: right;\">\n",
       "      <th>Division</th>\n",
       "      <th>General</th>\n",
       "      <th>General Petite</th>\n",
       "      <th>Initmates</th>\n",
       "    </tr>\n",
       "    <tr>\n",
       "      <th>Recommended</th>\n",
       "      <th></th>\n",
       "      <th></th>\n",
       "      <th></th>\n",
       "    </tr>\n",
       "  </thead>\n",
       "  <tbody>\n",
       "    <tr>\n",
       "      <th>0</th>\n",
       "      <td>1729</td>\n",
       "      <td>1002</td>\n",
       "      <td>162</td>\n",
       "    </tr>\n",
       "    <tr>\n",
       "      <th>1</th>\n",
       "      <td>7948</td>\n",
       "      <td>4678</td>\n",
       "      <td>912</td>\n",
       "    </tr>\n",
       "  </tbody>\n",
       "</table>\n",
       "</div>"
      ],
      "text/plain": [
       "Division     General  General Petite  Initmates\n",
       "Recommended                                    \n",
       "0               1729            1002        162\n",
       "1               7948            4678        912"
      ]
     },
     "execution_count": 33,
     "metadata": {},
     "output_type": "execute_result"
    }
   ],
   "source": [
    "pd.crosstab(review_clean['Recommended'],review_clean['Division'])\n",
    "\n",
    "# https://pandas.pydata.org/pandas-docs/stable/reference/api/pandas.crosstab.html"
   ]
  },
  {
   "cell_type": "code",
   "execution_count": 34,
   "metadata": {},
   "outputs": [
    {
     "data": {
      "text/plain": [
       "Division\n",
       "General           0.821329\n",
       "General Petite    0.823592\n",
       "Initmates         0.849162\n",
       "Name: Recommended, dtype: float64"
      ]
     },
     "execution_count": 34,
     "metadata": {},
     "output_type": "execute_result"
    }
   ],
   "source": [
    "review_clean.groupby('Division').mean()['Recommended']"
   ]
  },
  {
   "cell_type": "code",
   "execution_count": 35,
   "metadata": {},
   "outputs": [
    {
     "data": {
      "text/plain": [
       "Tops        7288\n",
       "Dresses     4475\n",
       "Bottoms     2620\n",
       "Intimate    1235\n",
       "Jackets      732\n",
       "Trend         81\n",
       "Name: Department, dtype: int64"
      ]
     },
     "execution_count": 35,
     "metadata": {},
     "output_type": "execute_result"
    }
   ],
   "source": [
    "# Department\n",
    "\n",
    "review_clean['Department'].value_counts()"
   ]
  },
  {
   "cell_type": "code",
   "execution_count": 36,
   "metadata": {},
   "outputs": [
    {
     "data": {
      "image/png": "[encoded data removed]",
      "text/plain": [
       "<Figure size 432x288 with 1 Axes>"
      ]
     },
     "metadata": {
      "needs_background": "light"
     },
     "output_type": "display_data"
    }
   ],
   "source": [
    "# distribution of department\n",
    "sns.countplot(review_clean['Department'])\n",
    "plt.title('Distribution of Department', fontsize = 18)\n",
    "plt.show()"
   ]
  },
  {
   "cell_type": "code",
   "execution_count": 37,
   "metadata": {},
   "outputs": [
    {
     "data": {
      "text/html": [
       "<div>\n",
       "<style scoped>\n",
       "    .dataframe tbody tr th:only-of-type {\n",
       "        vertical-align: middle;\n",
       "    }\n",
       "\n",
       "    .dataframe tbody tr th {\n",
       "        vertical-align: top;\n",
       "    }\n",
       "\n",
       "    .dataframe thead th {\n",
       "        text-align: right;\n",
       "    }\n",
       "</style>\n",
       "<table border=\"1\" class=\"dataframe\">\n",
       "  <thead>\n",
       "    <tr style=\"text-align: right;\">\n",
       "      <th>Recommended</th>\n",
       "      <th>0</th>\n",
       "      <th>1</th>\n",
       "    </tr>\n",
       "    <tr>\n",
       "      <th>Department</th>\n",
       "      <th></th>\n",
       "      <th></th>\n",
       "    </tr>\n",
       "  </thead>\n",
       "  <tbody>\n",
       "    <tr>\n",
       "      <th>Tops</th>\n",
       "      <td>1325</td>\n",
       "      <td>5963</td>\n",
       "    </tr>\n",
       "    <tr>\n",
       "      <th>Dresses</th>\n",
       "      <td>865</td>\n",
       "      <td>3610</td>\n",
       "    </tr>\n",
       "    <tr>\n",
       "      <th>Bottoms</th>\n",
       "      <td>381</td>\n",
       "      <td>2239</td>\n",
       "    </tr>\n",
       "    <tr>\n",
       "      <th>Intimate</th>\n",
       "      <td>189</td>\n",
       "      <td>1046</td>\n",
       "    </tr>\n",
       "    <tr>\n",
       "      <th>Jackets</th>\n",
       "      <td>114</td>\n",
       "      <td>618</td>\n",
       "    </tr>\n",
       "    <tr>\n",
       "      <th>Trend</th>\n",
       "      <td>19</td>\n",
       "      <td>62</td>\n",
       "    </tr>\n",
       "  </tbody>\n",
       "</table>\n",
       "</div>"
      ],
      "text/plain": [
       "Recommended     0     1\n",
       "Department             \n",
       "Tops         1325  5963\n",
       "Dresses       865  3610\n",
       "Bottoms       381  2239\n",
       "Intimate      189  1046\n",
       "Jackets       114   618\n",
       "Trend          19    62"
      ]
     },
     "execution_count": 37,
     "metadata": {},
     "output_type": "execute_result"
    }
   ],
   "source": [
    "pd.crosstab(review_clean['Department'],review_clean['Recommended']).sort_values(by = 1, ascending = False)"
   ]
  },
  {
   "cell_type": "code",
   "execution_count": 38,
   "metadata": {},
   "outputs": [
    {
     "data": {
      "image/png": "[encoded data removed]",
      "text/plain": [
       "<Figure size 432x288 with 1 Axes>"
      ]
     },
     "metadata": {
      "needs_background": "light"
     },
     "output_type": "display_data"
    }
   ],
   "source": [
    "# number of recommended and non-recommended for each department\n",
    "x_value = pd.crosstab(review_clean['Department'],review_clean['Recommended']).sort_values(by = 1, ascending = False)\n",
    "plt.bar(x_value.index, x_value[1], label = '1')\n",
    "plt.bar(x_value.index, x_value[0], label = '0')\n",
    "plt.title('Recommended across departments', fontsize = 18)\n",
    "plt.xlabel('Department')\n",
    "plt.ylabel('Count')\n",
    "plt.legend()\n",
    "plt.show()"
   ]
  },
  {
   "cell_type": "code",
   "execution_count": 39,
   "metadata": {},
   "outputs": [
    {
     "data": {
      "text/html": [
       "<div>\n",
       "<style scoped>\n",
       "    .dataframe tbody tr th:only-of-type {\n",
       "        vertical-align: middle;\n",
       "    }\n",
       "\n",
       "    .dataframe tbody tr th {\n",
       "        vertical-align: top;\n",
       "    }\n",
       "\n",
       "    .dataframe thead th {\n",
       "        text-align: right;\n",
       "    }\n",
       "</style>\n",
       "<table border=\"1\" class=\"dataframe\">\n",
       "  <thead>\n",
       "    <tr style=\"text-align: right;\">\n",
       "      <th>Department</th>\n",
       "      <th>Bottoms</th>\n",
       "      <th>Dresses</th>\n",
       "      <th>Intimate</th>\n",
       "      <th>Jackets</th>\n",
       "      <th>Tops</th>\n",
       "      <th>Trend</th>\n",
       "    </tr>\n",
       "    <tr>\n",
       "      <th>Recommended</th>\n",
       "      <th></th>\n",
       "      <th></th>\n",
       "      <th></th>\n",
       "      <th></th>\n",
       "      <th></th>\n",
       "      <th></th>\n",
       "    </tr>\n",
       "  </thead>\n",
       "  <tbody>\n",
       "    <tr>\n",
       "      <th>0</th>\n",
       "      <td>381</td>\n",
       "      <td>865</td>\n",
       "      <td>189</td>\n",
       "      <td>114</td>\n",
       "      <td>1325</td>\n",
       "      <td>19</td>\n",
       "    </tr>\n",
       "    <tr>\n",
       "      <th>1</th>\n",
       "      <td>2239</td>\n",
       "      <td>3610</td>\n",
       "      <td>1046</td>\n",
       "      <td>618</td>\n",
       "      <td>5963</td>\n",
       "      <td>62</td>\n",
       "    </tr>\n",
       "  </tbody>\n",
       "</table>\n",
       "</div>"
      ],
      "text/plain": [
       "Department   Bottoms  Dresses  Intimate  Jackets  Tops  Trend\n",
       "Recommended                                                  \n",
       "0                381      865       189      114  1325     19\n",
       "1               2239     3610      1046      618  5963     62"
      ]
     },
     "execution_count": 39,
     "metadata": {},
     "output_type": "execute_result"
    }
   ],
   "source": [
    "pd.crosstab(review_clean['Recommended'],review_clean['Department'])"
   ]
  },
  {
   "cell_type": "code",
   "execution_count": 40,
   "metadata": {},
   "outputs": [
    {
     "data": {
      "text/plain": [
       "Department\n",
       "Trend       0.765432\n",
       "Dresses     0.806704\n",
       "Tops        0.818194\n",
       "Jackets     0.844262\n",
       "Intimate    0.846964\n",
       "Bottoms     0.854580\n",
       "Name: Recommended, dtype: float64"
      ]
     },
     "execution_count": 40,
     "metadata": {},
     "output_type": "execute_result"
    }
   ],
   "source": [
    "review_clean.groupby('Department').mean()['Recommended'].sort_values()"
   ]
  },
  {
   "cell_type": "code",
   "execution_count": 41,
   "metadata": {},
   "outputs": [
    {
     "data": {
      "text/plain": [
       "Dresses           4475\n",
       "Knits             3393\n",
       "Blouses           2129\n",
       "Sweaters          1003\n",
       "Pants              943\n",
       "Jeans              801\n",
       "Fine gauge         763\n",
       "Skirts             652\n",
       "Jackets            496\n",
       "Lounge             493\n",
       "Swim               249\n",
       "Outerwear          236\n",
       "Shorts             223\n",
       "Sleep              166\n",
       "Legwear            116\n",
       "Intimates          107\n",
       "Layering           103\n",
       "Trend               81\n",
       "Casual bottoms       1\n",
       "Chemises             1\n",
       "Name: Type, dtype: int64"
      ]
     },
     "execution_count": 41,
     "metadata": {},
     "output_type": "execute_result"
    }
   ],
   "source": [
    "# Type\n",
    "\n",
    "review_clean['Type'].value_counts()"
   ]
  },
  {
   "cell_type": "code",
   "execution_count": 42,
   "metadata": {},
   "outputs": [
    {
     "data": {
      "image/png": "[encoded data removed]",
      "text/plain": [
       "<Figure size 1440x360 with 1 Axes>"
      ]
     },
     "metadata": {
      "needs_background": "light"
     },
     "output_type": "display_data"
    }
   ],
   "source": [
    "# distribution of type\n",
    "plt.figure(figsize=(20,5))\n",
    "sns.countplot(review_clean['Type'])\n",
    "plt.title('Distribution of Type', fontsize = 18)\n",
    "plt.xticks(rotation = 45)\n",
    "figsize=(10,10)\n",
    "plt.show()"
   ]
  },
  {
   "cell_type": "code",
   "execution_count": 43,
   "metadata": {},
   "outputs": [
    {
     "data": {
      "image/png": "[encoded data removed]",
      "text/plain": [
       "<Figure size 720x360 with 1 Axes>"
      ]
     },
     "metadata": {
      "needs_background": "light"
     },
     "output_type": "display_data"
    }
   ],
   "source": [
    "# number of recommended and non-recommended for each Type\n",
    "x_value = pd.crosstab(review_clean['Type'], review_clean['Recommended']).sort_values(by = 1, ascending = False)\n",
    "\n",
    "plt.figure(figsize=(10,5))\n",
    "plt.bar(x_value.index, x_value[1], label = 'Recommended', alpha = 0.5)\n",
    "plt.bar(x_value.index, x_value[0], label = 'Non-recommended')\n",
    "plt.title('Distribution of recommended across types', fontsize = 18)\n",
    "plt.xticks(rotation = 45)\n",
    "plt.xlabel('Type')\n",
    "plt.ylabel('Count')\n",
    "plt.legend()\n",
    "plt.show()"
   ]
  },
  {
   "cell_type": "code",
   "execution_count": 44,
   "metadata": {},
   "outputs": [
    {
     "data": {
      "text/plain": [
       "Type\n",
       "Trend             0.765432\n",
       "Swim              0.803213\n",
       "Sweaters          0.805583\n",
       "Dresses           0.806704\n",
       "Blouses           0.807891\n",
       "Outerwear         0.817797\n",
       "Knits             0.823460\n",
       "Pants             0.827147\n",
       "Shorts            0.838565\n",
       "Fine gauge        0.840105\n",
       "Legwear           0.844828\n",
       "Lounge            0.853955\n",
       "Sleep             0.855422\n",
       "Jackets           0.856855\n",
       "Skirts            0.858896\n",
       "Intimates         0.859813\n",
       "Jeans             0.887640\n",
       "Layering          0.893204\n",
       "Chemises          1.000000\n",
       "Casual bottoms    1.000000\n",
       "Name: Recommended, dtype: float64"
      ]
     },
     "execution_count": 44,
     "metadata": {},
     "output_type": "execute_result"
    }
   ],
   "source": [
    "review_clean.groupby('Type').mean()['Recommended'].sort_values()"
   ]
  },
  {
   "cell_type": "code",
   "execution_count": 45,
   "metadata": {},
   "outputs": [],
   "source": [
    "# Numerical variables: product_ID,age, rating, positive_feedback_count"
   ]
  },
  {
   "cell_type": "code",
   "execution_count": 46,
   "metadata": {},
   "outputs": [
    {
     "data": {
      "text/plain": [
       "-0.015704831512457076"
      ]
     },
     "execution_count": 46,
     "metadata": {},
     "output_type": "execute_result"
    }
   ],
   "source": [
    "review_clean.corr()['Product_ID']['Recommended']"
   ]
  },
  {
   "cell_type": "code",
   "execution_count": 47,
   "metadata": {},
   "outputs": [
    {
     "data": {
      "text/plain": [
       "0.03477030201888198"
      ]
     },
     "execution_count": 47,
     "metadata": {},
     "output_type": "execute_result"
    }
   ],
   "source": [
    "review_clean.corr()['Age']['Recommended']"
   ]
  },
  {
   "cell_type": "code",
   "execution_count": 48,
   "metadata": {},
   "outputs": [
    {
     "data": {
      "text/plain": [
       "0.7945696491747295"
      ]
     },
     "execution_count": 48,
     "metadata": {},
     "output_type": "execute_result"
    }
   ],
   "source": [
    "review_clean.corr()['Rating']['Recommended']"
   ]
  },
  {
   "cell_type": "code",
   "execution_count": 49,
   "metadata": {},
   "outputs": [
    {
     "data": {
      "text/plain": [
       "-0.06854714330865812"
      ]
     },
     "execution_count": 49,
     "metadata": {},
     "output_type": "execute_result"
    }
   ],
   "source": [
    "review_clean.corr()['Positive_Feedback_Count']['Recommended']"
   ]
  },
  {
   "cell_type": "code",
   "execution_count": 50,
   "metadata": {},
   "outputs": [
    {
     "data": {
      "text/plain": [
       "count    16431.000000\n",
       "mean       918.695210\n",
       "std        203.484559\n",
       "min          0.000000\n",
       "25%        861.000000\n",
       "50%        936.000000\n",
       "75%       1078.000000\n",
       "max       1205.000000\n",
       "Name: Product_ID, dtype: float64"
      ]
     },
     "execution_count": 50,
     "metadata": {},
     "output_type": "execute_result"
    }
   ],
   "source": [
    "review_clean['Product_ID'].describe()"
   ]
  },
  {
   "cell_type": "code",
   "execution_count": 51,
   "metadata": {},
   "outputs": [
    {
     "data": {
      "text/plain": [
       "count    16431.000000\n",
       "mean        43.196945\n",
       "std         12.274063\n",
       "min         18.000000\n",
       "25%         34.000000\n",
       "50%         41.000000\n",
       "75%         52.000000\n",
       "max         99.000000\n",
       "Name: Age, dtype: float64"
      ]
     },
     "execution_count": 51,
     "metadata": {},
     "output_type": "execute_result"
    }
   ],
   "source": [
    "# Age\n",
    "\n",
    "review_clean['Age'].describe()"
   ]
  },
  {
   "cell_type": "code",
   "execution_count": 52,
   "metadata": {},
   "outputs": [
    {
     "data": {
      "image/png": "[encoded data removed]",
      "text/plain": [
       "<Figure size 432x288 with 1 Axes>"
      ]
     },
     "metadata": {
      "needs_background": "light"
     },
     "output_type": "display_data"
    }
   ],
   "source": [
    "plt.hist(review_clean['Age'])\n",
    "plt.title('Age distribution', fontsize = 18)\n",
    "plt.xlabel('Age')\n",
    "plt.ylabel('Count')\n",
    "plt.show()"
   ]
  },
  {
   "cell_type": "code",
   "execution_count": 53,
   "metadata": {},
   "outputs": [
    {
     "data": {
      "image/png": "[encoded data removed]",
      "text/plain": [
       "<Figure size 432x288 with 1 Axes>"
      ]
     },
     "metadata": {
      "needs_background": "light"
     },
     "output_type": "display_data"
    }
   ],
   "source": [
    "plt.boxplot(review_clean['Age'])\n",
    "plt.title('Age', fontsize = 18)\n",
    "plt.ylabel('Age')\n",
    "plt.show()"
   ]
  },
  {
   "cell_type": "code",
   "execution_count": 54,
   "metadata": {},
   "outputs": [
    {
     "data": {
      "text/plain": [
       "(77, 11)"
      ]
     },
     "execution_count": 54,
     "metadata": {},
     "output_type": "execute_result"
    }
   ],
   "source": [
    "# number of outliers in Age, only 77 outliers, so can keep it and it will not have much affect on final results\n",
    "age_outlier = review_clean[review_clean['Age'] >= 80]\n",
    "np.shape(age_outlier)"
   ]
  },
  {
   "cell_type": "code",
   "execution_count": 55,
   "metadata": {},
   "outputs": [
    {
     "data": {
      "image/png": "[encoded data removed]",
      "text/plain": [
       "<Figure size 432x288 with 1 Axes>"
      ]
     },
     "metadata": {
      "needs_background": "light"
     },
     "output_type": "display_data"
    }
   ],
   "source": [
    "plt.scatter(review_clean['Recommended'], review_clean['Age'])\n",
    "plt.title('Recommended vs Age', fontsize = 18)\n",
    "plt.xlabel('Recommended')\n",
    "plt.ylabel('Age')\n",
    "plt.show()"
   ]
  },
  {
   "cell_type": "code",
   "execution_count": 56,
   "metadata": {},
   "outputs": [
    {
     "data": {
      "text/plain": [
       "count    16431.000000\n",
       "mean         2.564786\n",
       "std          5.911998\n",
       "min          0.000000\n",
       "25%          0.000000\n",
       "50%          1.000000\n",
       "75%          3.000000\n",
       "max        122.000000\n",
       "Name: Positive_Feedback_Count, dtype: float64"
      ]
     },
     "execution_count": 56,
     "metadata": {},
     "output_type": "execute_result"
    }
   ],
   "source": [
    "# Positive_Feedback_Count\n",
    "\n",
    "review_clean['Positive_Feedback_Count'].describe()"
   ]
  },
  {
   "cell_type": "code",
   "execution_count": 57,
   "metadata": {},
   "outputs": [
    {
     "data": {
      "image/png": "[encoded data removed]",
      "text/plain": [
       "<Figure size 432x288 with 1 Axes>"
      ]
     },
     "metadata": {
      "needs_background": "light"
     },
     "output_type": "display_data"
    }
   ],
   "source": [
    "plt.hist(review_clean['Positive_Feedback_Count'])\n",
    "plt.title('Positive_Feedback_Count distribution', fontsize = 18)\n",
    "plt.xlabel('Positive_Feedback_Count')\n",
    "plt.ylabel('Count')\n",
    "plt.show()"
   ]
  },
  {
   "cell_type": "code",
   "execution_count": 58,
   "metadata": {},
   "outputs": [
    {
     "data": {
      "image/png": "[encoded data removed]",
      "text/plain": [
       "<Figure size 432x288 with 1 Axes>"
      ]
     },
     "metadata": {
      "needs_background": "light"
     },
     "output_type": "display_data"
    }
   ],
   "source": [
    "plt.boxplot(review_clean['Positive_Feedback_Count'])\n",
    "plt.title('Positive_Feedback_Count', fontsize = 18)\n",
    "plt.ylabel('Positive_Feedback_Count')\n",
    "plt.show()"
   ]
  },
  {
   "cell_type": "code",
   "execution_count": 59,
   "metadata": {},
   "outputs": [
    {
     "data": {
      "text/plain": [
       "count    16431.000000\n",
       "mean         4.203274\n",
       "std          1.106311\n",
       "min          1.000000\n",
       "25%          4.000000\n",
       "50%          5.000000\n",
       "75%          5.000000\n",
       "max          5.000000\n",
       "Name: Rating, dtype: float64"
      ]
     },
     "execution_count": 59,
     "metadata": {},
     "output_type": "execute_result"
    }
   ],
   "source": [
    "# Rating\n",
    "\n",
    "review_clean['Rating'].describe()"
   ]
  },
  {
   "cell_type": "code",
   "execution_count": 60,
   "metadata": {},
   "outputs": [
    {
     "data": {
      "image/png": "[encoded data removed]",
      "text/plain": [
       "<Figure size 432x288 with 1 Axes>"
      ]
     },
     "metadata": {
      "needs_background": "light"
     },
     "output_type": "display_data"
    }
   ],
   "source": [
    "# distribution for rating\n",
    "plt.hist(review_clean['Rating'])\n",
    "plt.title('Rating distribution', fontsize = 18)\n",
    "plt.xlabel('Rating')\n",
    "plt.ylabel('Count')\n",
    "plt.show()"
   ]
  },
  {
   "cell_type": "code",
   "execution_count": 61,
   "metadata": {},
   "outputs": [
    {
     "data": {
      "image/png": "[encoded data removed]",
      "text/plain": [
       "<Figure size 432x288 with 1 Axes>"
      ]
     },
     "metadata": {
      "needs_background": "light"
     },
     "output_type": "display_data"
    }
   ],
   "source": [
    "# boxplot for rating, find the outliers in the data\n",
    "plt.boxplot(review_clean['Rating'])\n",
    "plt.title('Rating', fontsize = 18)\n",
    "plt.ylabel('Rating')\n",
    "plt.show()"
   ]
  },
  {
   "cell_type": "code",
   "execution_count": 62,
   "metadata": {},
   "outputs": [
    {
     "data": {
      "text/plain": [
       "(3641, 11)"
      ]
     },
     "execution_count": 62,
     "metadata": {},
     "output_type": "execute_result"
    }
   ],
   "source": [
    "# number of outliers for rating\n",
    "rating_outlier = review_clean[review_clean['Rating'] <= 3]\n",
    "np.shape(rating_outlier)"
   ]
  },
  {
   "cell_type": "code",
   "execution_count": 63,
   "metadata": {},
   "outputs": [
    {
     "data": {
      "image/png": "[encoded data removed]",
      "text/plain": [
       "<Figure size 432x288 with 1 Axes>"
      ]
     },
     "metadata": {
      "needs_background": "light"
     },
     "output_type": "display_data"
    }
   ],
   "source": [
    "# scatter plot for rating, check the relation between rating and recommended\n",
    "plt.scatter(review_clean['Recommended'], review_clean['Rating'])\n",
    "plt.title('Recommended vs Rating', fontsize = 18)\n",
    "plt.xlabel('Recommended')\n",
    "plt.ylabel('Rating')\n",
    "plt.show()"
   ]
  },
  {
   "cell_type": "code",
   "execution_count": 64,
   "metadata": {},
   "outputs": [
    {
     "data": {
      "text/plain": [
       "5    9233\n",
       "4    3557\n",
       "3    1968\n",
       "2    1094\n",
       "1     579\n",
       "Name: Rating, dtype: int64"
      ]
     },
     "execution_count": 64,
     "metadata": {},
     "output_type": "execute_result"
    }
   ],
   "source": [
    "review_clean['Rating'].value_counts()"
   ]
  },
  {
   "cell_type": "code",
   "execution_count": 65,
   "metadata": {},
   "outputs": [
    {
     "data": {
      "text/html": [
       "<div>\n",
       "<style scoped>\n",
       "    .dataframe tbody tr th:only-of-type {\n",
       "        vertical-align: middle;\n",
       "    }\n",
       "\n",
       "    .dataframe tbody tr th {\n",
       "        vertical-align: top;\n",
       "    }\n",
       "\n",
       "    .dataframe thead th {\n",
       "        text-align: right;\n",
       "    }\n",
       "</style>\n",
       "<table border=\"1\" class=\"dataframe\">\n",
       "  <thead>\n",
       "    <tr style=\"text-align: right;\">\n",
       "      <th>Rating</th>\n",
       "      <th>1</th>\n",
       "      <th>2</th>\n",
       "      <th>3</th>\n",
       "      <th>4</th>\n",
       "      <th>5</th>\n",
       "    </tr>\n",
       "    <tr>\n",
       "      <th>Recommended</th>\n",
       "      <th></th>\n",
       "      <th></th>\n",
       "      <th></th>\n",
       "      <th></th>\n",
       "      <th></th>\n",
       "    </tr>\n",
       "  </thead>\n",
       "  <tbody>\n",
       "    <tr>\n",
       "      <th>0</th>\n",
       "      <td>568</td>\n",
       "      <td>1029</td>\n",
       "      <td>1166</td>\n",
       "      <td>115</td>\n",
       "      <td>15</td>\n",
       "    </tr>\n",
       "    <tr>\n",
       "      <th>1</th>\n",
       "      <td>11</td>\n",
       "      <td>65</td>\n",
       "      <td>802</td>\n",
       "      <td>3442</td>\n",
       "      <td>9218</td>\n",
       "    </tr>\n",
       "  </tbody>\n",
       "</table>\n",
       "</div>"
      ],
      "text/plain": [
       "Rating         1     2     3     4     5\n",
       "Recommended                             \n",
       "0            568  1029  1166   115    15\n",
       "1             11    65   802  3442  9218"
      ]
     },
     "execution_count": 65,
     "metadata": {},
     "output_type": "execute_result"
    }
   ],
   "source": [
    "pd.crosstab(review_clean['Recommended'],review_clean['Rating'])"
   ]
  },
  {
   "cell_type": "code",
   "execution_count": 66,
   "metadata": {},
   "outputs": [
    {
     "data": {
      "image/png": "[encoded data removed]",
      "text/plain": [
       "<Figure size 432x288 with 1 Axes>"
      ]
     },
     "metadata": {
      "needs_background": "light"
     },
     "output_type": "display_data"
    }
   ],
   "source": [
    "# boxplot for rating with recommended = 0\n",
    "plt.boxplot([review_clean[review_clean['Recommended'] == 0]['Rating']])\n",
    "plt.title('Rating for non-recommended', fontsize = 18)\n",
    "plt.ylabel('Rating')\n",
    "plt.show()"
   ]
  },
  {
   "cell_type": "code",
   "execution_count": 67,
   "metadata": {},
   "outputs": [
    {
     "data": {
      "image/png": "[encoded data removed]",
      "text/plain": [
       "<Figure size 432x288 with 1 Axes>"
      ]
     },
     "metadata": {
      "needs_background": "light"
     },
     "output_type": "display_data"
    }
   ],
   "source": [
    "# boxplot for rating with recommended = 1\n",
    "plt.boxplot([review_clean[review_clean['Recommended'] == 1]['Rating']])\n",
    "plt.title('Rating for recommended', fontsize = 18)\n",
    "plt.ylabel('Rating')\n",
    "plt.show()"
   ]
  },
  {
   "cell_type": "code",
   "execution_count": 68,
   "metadata": {},
   "outputs": [
    {
     "data": {
      "text/html": [
       "<div>\n",
       "<style scoped>\n",
       "    .dataframe tbody tr th:only-of-type {\n",
       "        vertical-align: middle;\n",
       "    }\n",
       "\n",
       "    .dataframe tbody tr th {\n",
       "        vertical-align: top;\n",
       "    }\n",
       "\n",
       "    .dataframe thead th {\n",
       "        text-align: right;\n",
       "    }\n",
       "</style>\n",
       "<table border=\"1\" class=\"dataframe\">\n",
       "  <thead>\n",
       "    <tr style=\"text-align: right;\">\n",
       "      <th></th>\n",
       "      <th>ID</th>\n",
       "      <th>Product_ID</th>\n",
       "      <th>Age</th>\n",
       "      <th>Review_Title</th>\n",
       "      <th>Review_Text</th>\n",
       "      <th>Rating</th>\n",
       "      <th>Recommended</th>\n",
       "      <th>Positive_Feedback_Count</th>\n",
       "      <th>Division</th>\n",
       "      <th>Department</th>\n",
       "      <th>Type</th>\n",
       "    </tr>\n",
       "  </thead>\n",
       "  <tbody>\n",
       "    <tr>\n",
       "      <th>5</th>\n",
       "      <td>19166</td>\n",
       "      <td>1121</td>\n",
       "      <td>25</td>\n",
       "      <td>Beautiful design, poor execution</td>\n",
       "      <td>I knew i needed to buy this trench from the mo...</td>\n",
       "      <td>1</td>\n",
       "      <td>0</td>\n",
       "      <td>4</td>\n",
       "      <td>General</td>\n",
       "      <td>Jackets</td>\n",
       "      <td>Outerwear</td>\n",
       "    </tr>\n",
       "    <tr>\n",
       "      <th>10</th>\n",
       "      <td>19003</td>\n",
       "      <td>1052</td>\n",
       "      <td>42</td>\n",
       "      <td>Boxy</td>\n",
       "      <td>Great color and quality but very boxy. even wi...</td>\n",
       "      <td>3</td>\n",
       "      <td>0</td>\n",
       "      <td>0</td>\n",
       "      <td>General Petite</td>\n",
       "      <td>Bottoms</td>\n",
       "      <td>Pants</td>\n",
       "    </tr>\n",
       "    <tr>\n",
       "      <th>12</th>\n",
       "      <td>4282</td>\n",
       "      <td>1081</td>\n",
       "      <td>53</td>\n",
       "      <td>Neckline bothers me</td>\n",
       "      <td>I like the fabric - very smooth and feels nice...</td>\n",
       "      <td>3</td>\n",
       "      <td>0</td>\n",
       "      <td>28</td>\n",
       "      <td>General</td>\n",
       "      <td>Dresses</td>\n",
       "      <td>Dresses</td>\n",
       "    </tr>\n",
       "    <tr>\n",
       "      <th>14</th>\n",
       "      <td>23287</td>\n",
       "      <td>823</td>\n",
       "      <td>45</td>\n",
       "      <td>Too much fabric, shoulders won't stay down</td>\n",
       "      <td>This is a gorgeous print, but i found it too f...</td>\n",
       "      <td>2</td>\n",
       "      <td>0</td>\n",
       "      <td>0</td>\n",
       "      <td>General</td>\n",
       "      <td>Tops</td>\n",
       "      <td>Blouses</td>\n",
       "    </tr>\n",
       "    <tr>\n",
       "      <th>25</th>\n",
       "      <td>20217</td>\n",
       "      <td>1078</td>\n",
       "      <td>48</td>\n",
       "      <td>Cute, but...</td>\n",
       "      <td>Wanted to love this dress, bit it wasn't to be...</td>\n",
       "      <td>2</td>\n",
       "      <td>0</td>\n",
       "      <td>0</td>\n",
       "      <td>General</td>\n",
       "      <td>Dresses</td>\n",
       "      <td>Dresses</td>\n",
       "    </tr>\n",
       "  </tbody>\n",
       "</table>\n",
       "</div>"
      ],
      "text/plain": [
       "       ID  Product_ID  Age                                Review_Title  \\\n",
       "5   19166        1121   25            Beautiful design, poor execution   \n",
       "10  19003        1052   42                                        Boxy   \n",
       "12   4282        1081   53                         Neckline bothers me   \n",
       "14  23287         823   45  Too much fabric, shoulders won't stay down   \n",
       "25  20217        1078   48                                Cute, but...   \n",
       "\n",
       "                                          Review_Text  Rating  Recommended  \\\n",
       "5   I knew i needed to buy this trench from the mo...       1            0   \n",
       "10  Great color and quality but very boxy. even wi...       3            0   \n",
       "12  I like the fabric - very smooth and feels nice...       3            0   \n",
       "14  This is a gorgeous print, but i found it too f...       2            0   \n",
       "25  Wanted to love this dress, bit it wasn't to be...       2            0   \n",
       "\n",
       "    Positive_Feedback_Count        Division Department       Type  \n",
       "5                         4         General    Jackets  Outerwear  \n",
       "10                        0  General Petite    Bottoms      Pants  \n",
       "12                       28         General    Dresses    Dresses  \n",
       "14                        0         General       Tops    Blouses  \n",
       "25                        0         General    Dresses    Dresses  "
      ]
     },
     "execution_count": 68,
     "metadata": {},
     "output_type": "execute_result"
    }
   ],
   "source": [
    "# drop the outliers in recommended and nonrecommended data seperately and combine the dataset\n",
    "without_nr = review_clean[(review_clean['Recommended'] == 0) & (review_clean['Rating'] <= 4)]\n",
    "without_r = review_clean[(review_clean['Recommended'] == 1) & (review_clean['Rating'] >= 3)]\n",
    "review_train = pd.concat([without_nr, without_r])\n",
    "review_train.head()"
   ]
  },
  {
   "cell_type": "code",
   "execution_count": 69,
   "metadata": {},
   "outputs": [
    {
     "data": {
      "text/plain": [
       "(16340, 11)"
      ]
     },
     "execution_count": 69,
     "metadata": {},
     "output_type": "execute_result"
    }
   ],
   "source": [
    "# shape of the final dataset after dealing with the outliers and missing values\n",
    "np.shape(review_train)"
   ]
  },
  {
   "cell_type": "code",
   "execution_count": 70,
   "metadata": {},
   "outputs": [
    {
     "data": {
      "text/html": [
       "<div>\n",
       "<style scoped>\n",
       "    .dataframe tbody tr th:only-of-type {\n",
       "        vertical-align: middle;\n",
       "    }\n",
       "\n",
       "    .dataframe tbody tr th {\n",
       "        vertical-align: top;\n",
       "    }\n",
       "\n",
       "    .dataframe thead th {\n",
       "        text-align: right;\n",
       "    }\n",
       "</style>\n",
       "<table border=\"1\" class=\"dataframe\">\n",
       "  <thead>\n",
       "    <tr style=\"text-align: right;\">\n",
       "      <th>Rating</th>\n",
       "      <th>1</th>\n",
       "      <th>2</th>\n",
       "      <th>3</th>\n",
       "      <th>4</th>\n",
       "      <th>5</th>\n",
       "    </tr>\n",
       "    <tr>\n",
       "      <th>Department</th>\n",
       "      <th></th>\n",
       "      <th></th>\n",
       "      <th></th>\n",
       "      <th></th>\n",
       "      <th></th>\n",
       "    </tr>\n",
       "  </thead>\n",
       "  <tbody>\n",
       "    <tr>\n",
       "      <th>Bottoms</th>\n",
       "      <td>70</td>\n",
       "      <td>129</td>\n",
       "      <td>293</td>\n",
       "      <td>558</td>\n",
       "      <td>1556</td>\n",
       "    </tr>\n",
       "    <tr>\n",
       "      <th>Dresses</th>\n",
       "      <td>165</td>\n",
       "      <td>308</td>\n",
       "      <td>578</td>\n",
       "      <td>988</td>\n",
       "      <td>2414</td>\n",
       "    </tr>\n",
       "    <tr>\n",
       "      <th>Intimate</th>\n",
       "      <td>42</td>\n",
       "      <td>66</td>\n",
       "      <td>126</td>\n",
       "      <td>264</td>\n",
       "      <td>731</td>\n",
       "    </tr>\n",
       "    <tr>\n",
       "      <th>Jackets</th>\n",
       "      <td>36</td>\n",
       "      <td>39</td>\n",
       "      <td>55</td>\n",
       "      <td>147</td>\n",
       "      <td>451</td>\n",
       "    </tr>\n",
       "    <tr>\n",
       "      <th>Tops</th>\n",
       "      <td>250</td>\n",
       "      <td>481</td>\n",
       "      <td>902</td>\n",
       "      <td>1579</td>\n",
       "      <td>4032</td>\n",
       "    </tr>\n",
       "    <tr>\n",
       "      <th>Trend</th>\n",
       "      <td>5</td>\n",
       "      <td>6</td>\n",
       "      <td>14</td>\n",
       "      <td>21</td>\n",
       "      <td>34</td>\n",
       "    </tr>\n",
       "  </tbody>\n",
       "</table>\n",
       "</div>"
      ],
      "text/plain": [
       "Rating        1    2    3     4     5\n",
       "Department                           \n",
       "Bottoms      70  129  293   558  1556\n",
       "Dresses     165  308  578   988  2414\n",
       "Intimate     42   66  126   264   731\n",
       "Jackets      36   39   55   147   451\n",
       "Tops        250  481  902  1579  4032\n",
       "Trend         5    6   14    21    34"
      ]
     },
     "execution_count": 70,
     "metadata": {},
     "output_type": "execute_result"
    }
   ],
   "source": [
    "# rating patterns across departments and types\n",
    "\n",
    "pd.crosstab(review_train['Department'],review_train['Rating'])"
   ]
  },
  {
   "cell_type": "code",
   "execution_count": 71,
   "metadata": {},
   "outputs": [
    {
     "data": {
      "image/png": "[encoded data removed]",
      "text/plain": [
       "<Figure size 432x288 with 1 Axes>"
      ]
     },
     "metadata": {
      "needs_background": "light"
     },
     "output_type": "display_data"
    }
   ],
   "source": [
    "# distribution of rating across departments\n",
    "x_value = pd.crosstab(review_train['Department'],review_train['Rating']).sort_values(by = 5, ascending = False)\n",
    "plt.bar(x_value.index, x_value[5], label = '5', alpha = 0.4)\n",
    "plt.bar(x_value.index, x_value[4], label = '4', alpha = 0.6)\n",
    "plt.bar(x_value.index, x_value[3], label = '3', alpha = 0.6)\n",
    "plt.bar(x_value.index, x_value[2], label = '2', alpha = 0.8)\n",
    "plt.bar(x_value.index, x_value[1], label = '1')\n",
    "plt.title('Rating across departments', fontsize = 18)\n",
    "plt.xlabel('Department')\n",
    "plt.ylabel('Count')\n",
    "plt.legend()\n",
    "plt.show()"
   ]
  },
  {
   "cell_type": "code",
   "execution_count": 72,
   "metadata": {},
   "outputs": [
    {
     "data": {
      "image/png": "[encoded data removed]",
      "text/plain": [
       "<Figure size 720x360 with 1 Axes>"
      ]
     },
     "metadata": {
      "needs_background": "light"
     },
     "output_type": "display_data"
    }
   ],
   "source": [
    "# distribution of rating across types\n",
    "x_value = pd.crosstab(review_train['Type'],review_train['Rating']).sort_values(by = 5, ascending = False)\n",
    "plt.figure(figsize=(10,5))\n",
    "plt.bar(x_value.index, x_value[5], label = '5', alpha = 0.5)\n",
    "plt.bar(x_value.index, x_value[4], label = '4', alpha = 0.7)\n",
    "plt.bar(x_value.index, x_value[3], label = '3', alpha = 0.6)\n",
    "plt.bar(x_value.index, x_value[2], label = '2', alpha = 0.8)\n",
    "plt.bar(x_value.index, x_value[1], label = '1')\n",
    "plt.title('Rating across types', fontsize = 18)\n",
    "plt.xticks(rotation = 60)\n",
    "plt.xlabel('Type')\n",
    "plt.ylabel('Count')\n",
    "plt.legend()\n",
    "plt.show()"
   ]
  },
  {
   "cell_type": "code",
   "execution_count": 73,
   "metadata": {},
   "outputs": [],
   "source": [
    "# reviewing and buying behaviour for different age group"
   ]
  },
  {
   "cell_type": "code",
   "execution_count": 74,
   "metadata": {},
   "outputs": [
    {
     "data": {
      "text/plain": [
       "count    16340.000000\n",
       "mean        43.185496\n",
       "std         12.272332\n",
       "min         18.000000\n",
       "25%         34.000000\n",
       "50%         41.000000\n",
       "75%         52.000000\n",
       "max         99.000000\n",
       "Name: Age, dtype: float64"
      ]
     },
     "execution_count": 74,
     "metadata": {},
     "output_type": "execute_result"
    }
   ],
   "source": [
    "review_train['Age'].describe()"
   ]
  },
  {
   "cell_type": "code",
   "execution_count": 75,
   "metadata": {},
   "outputs": [
    {
     "data": {
      "image/png": "[encoded data removed]",
      "text/plain": [
       "<Figure size 432x288 with 1 Axes>"
      ]
     },
     "metadata": {
      "needs_background": "light"
     },
     "output_type": "display_data"
    }
   ],
   "source": [
    "# distribution of age\n",
    "plt.hist(review_train['Age'])\n",
    "plt.title('Age distribution', fontsize = 18)\n",
    "plt.xlabel('Age')\n",
    "plt.ylabel('Count')\n",
    "plt.show()"
   ]
  },
  {
   "cell_type": "code",
   "execution_count": 76,
   "metadata": {},
   "outputs": [
    {
     "data": {
      "text/html": [
       "<div>\n",
       "<style scoped>\n",
       "    .dataframe tbody tr th:only-of-type {\n",
       "        vertical-align: middle;\n",
       "    }\n",
       "\n",
       "    .dataframe tbody tr th {\n",
       "        vertical-align: top;\n",
       "    }\n",
       "\n",
       "    .dataframe thead th {\n",
       "        text-align: right;\n",
       "    }\n",
       "</style>\n",
       "<table border=\"1\" class=\"dataframe\">\n",
       "  <thead>\n",
       "    <tr style=\"text-align: right;\">\n",
       "      <th></th>\n",
       "      <th>ID</th>\n",
       "      <th>Product_ID</th>\n",
       "      <th>Age</th>\n",
       "      <th>Review_Text</th>\n",
       "      <th>Department</th>\n",
       "      <th>Age_interval</th>\n",
       "    </tr>\n",
       "  </thead>\n",
       "  <tbody>\n",
       "    <tr>\n",
       "      <th>5</th>\n",
       "      <td>19166</td>\n",
       "      <td>1121</td>\n",
       "      <td>25</td>\n",
       "      <td>I knew i needed to buy this trench from the mo...</td>\n",
       "      <td>Jackets</td>\n",
       "      <td>(20, 30]</td>\n",
       "    </tr>\n",
       "    <tr>\n",
       "      <th>10</th>\n",
       "      <td>19003</td>\n",
       "      <td>1052</td>\n",
       "      <td>42</td>\n",
       "      <td>Great color and quality but very boxy. even wi...</td>\n",
       "      <td>Bottoms</td>\n",
       "      <td>(40, 50]</td>\n",
       "    </tr>\n",
       "    <tr>\n",
       "      <th>12</th>\n",
       "      <td>4282</td>\n",
       "      <td>1081</td>\n",
       "      <td>53</td>\n",
       "      <td>I like the fabric - very smooth and feels nice...</td>\n",
       "      <td>Dresses</td>\n",
       "      <td>(50, 60]</td>\n",
       "    </tr>\n",
       "    <tr>\n",
       "      <th>14</th>\n",
       "      <td>23287</td>\n",
       "      <td>823</td>\n",
       "      <td>45</td>\n",
       "      <td>This is a gorgeous print, but i found it too f...</td>\n",
       "      <td>Tops</td>\n",
       "      <td>(40, 50]</td>\n",
       "    </tr>\n",
       "    <tr>\n",
       "      <th>25</th>\n",
       "      <td>20217</td>\n",
       "      <td>1078</td>\n",
       "      <td>48</td>\n",
       "      <td>Wanted to love this dress, bit it wasn't to be...</td>\n",
       "      <td>Dresses</td>\n",
       "      <td>(40, 50]</td>\n",
       "    </tr>\n",
       "  </tbody>\n",
       "</table>\n",
       "</div>"
      ],
      "text/plain": [
       "       ID  Product_ID  Age                                        Review_Text  \\\n",
       "5   19166        1121   25  I knew i needed to buy this trench from the mo...   \n",
       "10  19003        1052   42  Great color and quality but very boxy. even wi...   \n",
       "12   4282        1081   53  I like the fabric - very smooth and feels nice...   \n",
       "14  23287         823   45  This is a gorgeous print, but i found it too f...   \n",
       "25  20217        1078   48  Wanted to love this dress, bit it wasn't to be...   \n",
       "\n",
       "   Department Age_interval  \n",
       "5     Jackets     (20, 30]  \n",
       "10    Bottoms     (40, 50]  \n",
       "12    Dresses     (50, 60]  \n",
       "14       Tops     (40, 50]  \n",
       "25    Dresses     (40, 50]  "
      ]
     },
     "execution_count": 76,
     "metadata": {},
     "output_type": "execute_result"
    }
   ],
   "source": [
    "# Buying and reviewing behaviour for different age groups\n",
    "# create a new dataset with the data from original dataset and add a new column: age interval\n",
    "\n",
    "age_interval = [10, 20, 30, 40, 50, 60, 70, 80, 100]\n",
    "customers_beh = review_train[['ID', 'Product_ID', 'Age', 'Review_Text', 'Department']]\n",
    "customers_beh['Age_interval'] = pd.cut(customers_beh['Age'], age_interval).astype(str)\n",
    "customers_beh.head()"
   ]
  },
  {
   "cell_type": "code",
   "execution_count": 77,
   "metadata": {},
   "outputs": [
    {
     "data": {
      "text/plain": [
       "Tops        7244\n",
       "Dresses     4453\n",
       "Bottoms     2606\n",
       "Intimate    1229\n",
       "Jackets      728\n",
       "Trend         80\n",
       "Name: Department, dtype: int64"
      ]
     },
     "execution_count": 77,
     "metadata": {},
     "output_type": "execute_result"
    }
   ],
   "source": [
    "customers_beh['Department'].value_counts()"
   ]
  },
  {
   "cell_type": "code",
   "execution_count": 78,
   "metadata": {},
   "outputs": [
    {
     "data": {
      "image/png": "[encoded data removed]",
      "text/plain": [
       "<Figure size 720x360 with 1 Axes>"
      ]
     },
     "metadata": {
      "needs_background": "light"
     },
     "output_type": "display_data"
    }
   ],
   "source": [
    "# distribution of age group across departments\n",
    "x_value = pd.crosstab(customers_beh['Age_interval'],customers_beh['Department']).sort_values(\n",
    "    by = 'Tops', ascending = False)\n",
    "plt.figure(figsize=(10,5))\n",
    "plt.bar(x_value.index, x_value['Tops'], label = 'Tops')\n",
    "plt.bar(x_value.index, x_value['Dresses'], label = 'Dresses')\n",
    "plt.bar(x_value.index, x_value['Bottoms'], label = 'Bottoms')\n",
    "plt.bar(x_value.index, x_value['Intimate'], label = 'Intimate')\n",
    "plt.bar(x_value.index, x_value['Jackets'], label = 'Jackets')\n",
    "plt.bar(x_value.index, x_value['Trend'], label = 'Trend')\n",
    "plt.title('Buying behaviour for different age group', fontsize = 18)\n",
    "plt.xticks(rotation = 60)\n",
    "plt.xlabel('Age group')\n",
    "plt.ylabel('Count')\n",
    "plt.legend()\n",
    "plt.show()"
   ]
  },
  {
   "cell_type": "code",
   "execution_count": 79,
   "metadata": {},
   "outputs": [],
   "source": [
    "# Text variables: Review_Title, Review_Text\n",
    "\n",
    "from mpl_toolkits.mplot3d import Axes3D\n",
    "from scipy.sparse import hstack"
   ]
  },
  {
   "cell_type": "code",
   "execution_count": 80,
   "metadata": {},
   "outputs": [],
   "source": [
    "# relationship between review length and recommended\n",
    "text_var = review_train[['Review_Title','Review_Text', 'Recommended']]\n",
    "text_var['Title_len'] = text_var['Review_Title'].str.split(\" \").str.len()\n",
    "text_var['Text_len'] = text_var['Review_Text'].str.split(\" \").str.len()"
   ]
  },
  {
   "cell_type": "code",
   "execution_count": 81,
   "metadata": {},
   "outputs": [
    {
     "data": {
      "text/plain": [
       "-0.08709284550360559"
      ]
     },
     "execution_count": 81,
     "metadata": {},
     "output_type": "execute_result"
    }
   ],
   "source": [
    "text_var.corr()['Title_len']['Recommended']"
   ]
  },
  {
   "cell_type": "code",
   "execution_count": 82,
   "metadata": {},
   "outputs": [
    {
     "data": {
      "text/plain": [
       "-0.05087410125017878"
      ]
     },
     "execution_count": 82,
     "metadata": {},
     "output_type": "execute_result"
    }
   ],
   "source": [
    "text_var.corr()['Text_len']['Recommended']"
   ]
  },
  {
   "cell_type": "code",
   "execution_count": 83,
   "metadata": {},
   "outputs": [
    {
     "name": "stderr",
     "output_type": "stream",
     "text": [
      "WARNING: pip is being invoked by an old script wrapper. This will fail in a future version of pip.\n",
      "Please see https://github.com/pypa/pip/issues/5599 for advice on fixing the underlying issue.\n",
      "To avoid this problem you can invoke Python with '-m pip' instead of running pip directly.\n"
     ]
    },
    {
     "name": "stdout",
     "output_type": "stream",
     "text": [
      "Requirement already satisfied: vaderSentiment in /Users/yanziyuan/opt/anaconda3/lib/python3.7/site-packages (3.3.2)\n",
      "Requirement already satisfied: requests in /Users/yanziyuan/opt/anaconda3/lib/python3.7/site-packages (from vaderSentiment) (2.22.0)\n",
      "Requirement already satisfied: urllib3!=1.25.0,!=1.25.1,<1.26,>=1.21.1 in /Users/yanziyuan/opt/anaconda3/lib/python3.7/site-packages (from requests->vaderSentiment) (1.25.8)\n",
      "Requirement already satisfied: idna<2.9,>=2.5 in /Users/yanziyuan/opt/anaconda3/lib/python3.7/site-packages (from requests->vaderSentiment) (2.8)\n",
      "Requirement already satisfied: chardet<3.1.0,>=3.0.2 in /Users/yanziyuan/opt/anaconda3/lib/python3.7/site-packages (from requests->vaderSentiment) (3.0.4)\n",
      "Requirement already satisfied: certifi>=2017.4.17 in /Users/yanziyuan/opt/anaconda3/lib/python3.7/site-packages (from requests->vaderSentiment) (2019.11.28)\n"
     ]
    },
    {
     "data": {
      "text/plain": [
       "0"
      ]
     },
     "execution_count": 83,
     "metadata": {},
     "output_type": "execute_result"
    }
   ],
   "source": [
    "import pip\n",
    "pip.main(['install','vaderSentiment'])"
   ]
  },
  {
   "cell_type": "code",
   "execution_count": 84,
   "metadata": {},
   "outputs": [],
   "source": [
    "from vaderSentiment.vaderSentiment import SentimentIntensityAnalyzer"
   ]
  },
  {
   "cell_type": "code",
   "execution_count": 85,
   "metadata": {},
   "outputs": [
    {
     "data": {
      "text/plain": [
       "[{'neg': 0.027, 'neu': 0.848, 'pos': 0.125, 'compound': 0.8807},\n",
       " {'neg': 0.131, 'neu': 0.749, 'pos': 0.119, 'compound': -0.0644},\n",
       " {'neg': 0.073, 'neu': 0.807, 'pos': 0.12, 'compound': 0.6204},\n",
       " {'neg': 0.076, 'neu': 0.794, 'pos': 0.129, 'compound': 0.3919},\n",
       " {'neg': 0.116, 'neu': 0.67, 'pos': 0.214, 'compound': 0.5826},\n",
       " {'neg': 0.146, 'neu': 0.854, 'pos': 0.0, 'compound': -0.9333},\n",
       " {'neg': 0.093, 'neu': 0.654, 'pos': 0.253, 'compound': 0.7647},\n",
       " {'neg': 0.033, 'neu': 0.846, 'pos': 0.121, 'compound': 0.6829},\n",
       " {'neg': 0.039, 'neu': 0.716, 'pos': 0.245, 'compound': 0.9819},\n",
       " {'neg': 0.082, 'neu': 0.754, 'pos': 0.164, 'compound': 0.6894},\n",
       " {'neg': 0.031, 'neu': 0.895, 'pos': 0.075, 'compound': 0.6119},\n",
       " {'neg': 0.03, 'neu': 0.888, 'pos': 0.082, 'compound': 0.5574},\n",
       " {'neg': 0.014, 'neu': 0.939, 'pos': 0.047, 'compound': 0.51},\n",
       " {'neg': 0.0, 'neu': 0.798, 'pos': 0.202, 'compound': 0.973},\n",
       " {'neg': 0.051, 'neu': 0.809, 'pos': 0.14, 'compound': 0.6494},\n",
       " {'neg': 0.185, 'neu': 0.67, 'pos': 0.145, 'compound': -0.2263},\n",
       " {'neg': 0.045, 'neu': 0.749, 'pos': 0.206, 'compound': 0.8641},\n",
       " {'neg': 0.042, 'neu': 0.889, 'pos': 0.069, 'compound': 0.1779},\n",
       " {'neg': 0.0, 'neu': 0.936, 'pos': 0.064, 'compound': 0.6369},\n",
       " {'neg': 0.0, 'neu': 0.794, 'pos': 0.206, 'compound': 0.5994},\n",
       " {'neg': 0.0, 'neu': 0.869, 'pos': 0.131, 'compound': 0.93},\n",
       " {'neg': 0.0, 'neu': 0.96, 'pos': 0.04, 'compound': 0.1901},\n",
       " {'neg': 0.0, 'neu': 1.0, 'pos': 0.0, 'compound': 0.0},\n",
       " {'neg': 0.037, 'neu': 0.839, 'pos': 0.123, 'compound': 0.7543},\n",
       " {'neg': 0.071, 'neu': 0.887, 'pos': 0.042, 'compound': -0.34},\n",
       " {'neg': 0.069, 'neu': 0.781, 'pos': 0.15, 'compound': 0.7936},\n",
       " {'neg': 0.057, 'neu': 0.884, 'pos': 0.059, 'compound': 0.0653},\n",
       " {'neg': 0.048, 'neu': 0.807, 'pos': 0.145, 'compound': 0.8759},\n",
       " {'neg': 0.109, 'neu': 0.625, 'pos': 0.266, 'compound': 0.8402},\n",
       " {'neg': 0.105, 'neu': 0.689, 'pos': 0.206, 'compound': 0.8719},\n",
       " {'neg': 0.065, 'neu': 0.69, 'pos': 0.245, 'compound': 0.9523},\n",
       " {'neg': 0.045, 'neu': 0.776, 'pos': 0.179, 'compound': 0.9278},\n",
       " {'neg': 0.145, 'neu': 0.682, 'pos': 0.173, 'compound': 0.3699},\n",
       " {'neg': 0.149, 'neu': 0.684, 'pos': 0.167, 'compound': 0.2051},\n",
       " {'neg': 0.087, 'neu': 0.849, 'pos': 0.065, 'compound': -0.1457},\n",
       " {'neg': 0.157, 'neu': 0.605, 'pos': 0.238, 'compound': 0.3469},\n",
       " {'neg': 0.194, 'neu': 0.722, 'pos': 0.084, 'compound': -0.5433},\n",
       " {'neg': 0.016, 'neu': 0.75, 'pos': 0.235, 'compound': 0.9834},\n",
       " {'neg': 0.07, 'neu': 0.749, 'pos': 0.181, 'compound': 0.87},\n",
       " {'neg': 0.105, 'neu': 0.81, 'pos': 0.086, 'compound': -0.1027},\n",
       " {'neg': 0.048, 'neu': 0.788, 'pos': 0.163, 'compound': 0.8816},\n",
       " {'neg': 0.0, 'neu': 0.889, 'pos': 0.111, 'compound': 0.6124},\n",
       " {'neg': 0.033, 'neu': 0.8, 'pos': 0.167, 'compound': 0.8554},\n",
       " {'neg': 0.103, 'neu': 0.718, 'pos': 0.179, 'compound': 0.7605},\n",
       " {'neg': 0.038, 'neu': 0.94, 'pos': 0.021, 'compound': -0.2086},\n",
       " {'neg': 0.191, 'neu': 0.737, 'pos': 0.073, 'compound': -0.9106},\n",
       " {'neg': 0.04, 'neu': 0.96, 'pos': 0.0, 'compound': -0.1779},\n",
       " {'neg': 0.074, 'neu': 0.745, 'pos': 0.181, 'compound': 0.829},\n",
       " {'neg': 0.045, 'neu': 0.871, 'pos': 0.084, 'compound': 0.4979},\n",
       " {'neg': 0.105, 'neu': 0.665, 'pos': 0.23, 'compound': 0.8072},\n",
       " {'neg': 0.037, 'neu': 0.838, 'pos': 0.125, 'compound': 0.8225},\n",
       " {'neg': 0.156, 'neu': 0.844, 'pos': 0.0, 'compound': -0.3412},\n",
       " {'neg': 0.104, 'neu': 0.833, 'pos': 0.063, 'compound': -0.3818},\n",
       " {'neg': 0.0, 'neu': 0.867, 'pos': 0.133, 'compound': 0.9253},\n",
       " {'neg': 0.15, 'neu': 0.787, 'pos': 0.062, 'compound': -0.8047},\n",
       " {'neg': 0.18, 'neu': 0.82, 'pos': 0.0, 'compound': -0.9383},\n",
       " {'neg': 0.0, 'neu': 0.893, 'pos': 0.107, 'compound': 0.2584},\n",
       " {'neg': 0.093, 'neu': 0.668, 'pos': 0.239, 'compound': 0.9218},\n",
       " {'neg': 0.076, 'neu': 0.879, 'pos': 0.045, 'compound': -0.296},\n",
       " {'neg': 0.147, 'neu': 0.716, 'pos': 0.136, 'compound': -0.1444},\n",
       " {'neg': 0.05, 'neu': 0.77, 'pos': 0.18, 'compound': 0.5499},\n",
       " {'neg': 0.256, 'neu': 0.744, 'pos': 0.0, 'compound': -0.6711},\n",
       " {'neg': 0.041, 'neu': 0.747, 'pos': 0.212, 'compound': 0.9684},\n",
       " {'neg': 0.688, 'neu': 0.312, 'pos': 0.0, 'compound': -0.296},\n",
       " {'neg': 0.0, 'neu': 0.581, 'pos': 0.419, 'compound': 0.7684},\n",
       " {'neg': 0.117, 'neu': 0.78, 'pos': 0.103, 'compound': -0.3597},\n",
       " {'neg': 0.0, 'neu': 1.0, 'pos': 0.0, 'compound': 0.0},\n",
       " {'neg': 0.173, 'neu': 0.592, 'pos': 0.235, 'compound': 0.4404},\n",
       " {'neg': 0.0, 'neu': 0.757, 'pos': 0.243, 'compound': 0.8098},\n",
       " {'neg': 0.084, 'neu': 0.757, 'pos': 0.159, 'compound': 0.431},\n",
       " {'neg': 0.119, 'neu': 0.75, 'pos': 0.131, 'compound': 0.059},\n",
       " {'neg': 0.103, 'neu': 0.725, 'pos': 0.172, 'compound': 0.7504},\n",
       " {'neg': 0.064, 'neu': 0.644, 'pos': 0.292, 'compound': 0.8906},\n",
       " {'neg': 0.064, 'neu': 0.719, 'pos': 0.217, 'compound': 0.9215},\n",
       " {'neg': 0.155, 'neu': 0.8, 'pos': 0.045, 'compound': -0.8431},\n",
       " {'neg': 0.078, 'neu': 0.636, 'pos': 0.286, 'compound': 0.9365},\n",
       " {'neg': 0.031, 'neu': 0.854, 'pos': 0.115, 'compound': 0.8462},\n",
       " {'neg': 0.118, 'neu': 0.882, 'pos': 0.0, 'compound': -0.5106},\n",
       " {'neg': 0.019, 'neu': 0.862, 'pos': 0.119, 'compound': 0.8899},\n",
       " {'neg': 0.688, 'neu': 0.312, 'pos': 0.0, 'compound': -0.296},\n",
       " {'neg': 0.0, 'neu': 0.868, 'pos': 0.132, 'compound': 0.802},\n",
       " {'neg': 0.078, 'neu': 0.777, 'pos': 0.145, 'compound': 0.3919},\n",
       " {'neg': 0.099, 'neu': 0.697, 'pos': 0.203, 'compound': 0.8617},\n",
       " {'neg': 0.035, 'neu': 0.883, 'pos': 0.082, 'compound': 0.7096},\n",
       " {'neg': 0.0, 'neu': 0.912, 'pos': 0.088, 'compound': 0.5562},\n",
       " {'neg': 0.075, 'neu': 0.858, 'pos': 0.067, 'compound': -0.167},\n",
       " {'neg': 0.0, 'neu': 0.935, 'pos': 0.065, 'compound': 0.6593},\n",
       " {'neg': 0.121, 'neu': 0.764, 'pos': 0.115, 'compound': -0.5635},\n",
       " {'neg': 0.108, 'neu': 0.892, 'pos': 0.0, 'compound': -0.6192},\n",
       " {'neg': 0.098, 'neu': 0.902, 'pos': 0.0, 'compound': -0.34},\n",
       " {'neg': 0.0, 'neu': 0.809, 'pos': 0.191, 'compound': 0.3182},\n",
       " {'neg': 0.04, 'neu': 0.835, 'pos': 0.126, 'compound': 0.8496},\n",
       " {'neg': 0.085, 'neu': 0.816, 'pos': 0.099, 'compound': 0.5587},\n",
       " {'neg': 0.087, 'neu': 0.791, 'pos': 0.121, 'compound': 0.4003},\n",
       " {'neg': 0.123, 'neu': 0.745, 'pos': 0.132, 'compound': 0.4228},\n",
       " {'neg': 0.0, 'neu': 0.719, 'pos': 0.281, 'compound': 0.9069},\n",
       " {'neg': 0.119, 'neu': 0.784, 'pos': 0.097, 'compound': -0.016},\n",
       " {'neg': 0.017, 'neu': 0.876, 'pos': 0.107, 'compound': 0.8245},\n",
       " {'neg': 0.0, 'neu': 0.55, 'pos': 0.45, 'compound': 0.9022},\n",
       " {'neg': 0.0, 'neu': 0.89, 'pos': 0.11, 'compound': 0.8335},\n",
       " {'neg': 0.053, 'neu': 0.721, 'pos': 0.226, 'compound': 0.8382},\n",
       " {'neg': 0.139, 'neu': 0.733, 'pos': 0.128, 'compound': -0.0516},\n",
       " {'neg': 0.025, 'neu': 0.935, 'pos': 0.039, 'compound': 0.277},\n",
       " {'neg': 0.023, 'neu': 0.709, 'pos': 0.269, 'compound': 0.9516},\n",
       " {'neg': 0.15, 'neu': 0.683, 'pos': 0.167, 'compound': 0.2192},\n",
       " {'neg': 0.125, 'neu': 0.836, 'pos': 0.039, 'compound': -0.5006},\n",
       " {'neg': 0.072, 'neu': 0.857, 'pos': 0.07, 'compound': -0.0247},\n",
       " {'neg': 0.074, 'neu': 0.795, 'pos': 0.131, 'compound': 0.5423},\n",
       " {'neg': 0.0, 'neu': 0.838, 'pos': 0.162, 'compound': 0.9334},\n",
       " {'neg': 0.0, 'neu': 1.0, 'pos': 0.0, 'compound': 0.0},\n",
       " {'neg': 0.065, 'neu': 0.786, 'pos': 0.149, 'compound': 0.7096},\n",
       " {'neg': 0.137, 'neu': 0.804, 'pos': 0.058, 'compound': -0.7717},\n",
       " {'neg': 0.02, 'neu': 0.946, 'pos': 0.035, 'compound': 0.25},\n",
       " {'neg': 0.0, 'neu': 0.869, 'pos': 0.131, 'compound': 0.8689},\n",
       " {'neg': 0.03, 'neu': 0.888, 'pos': 0.082, 'compound': 0.3489},\n",
       " {'neg': 0.0, 'neu': 0.881, 'pos': 0.119, 'compound': 0.7876},\n",
       " {'neg': 0.031, 'neu': 0.732, 'pos': 0.237, 'compound': 0.9747},\n",
       " {'neg': 0.0, 'neu': 0.934, 'pos': 0.066, 'compound': 0.624},\n",
       " {'neg': 0.097, 'neu': 0.725, 'pos': 0.178, 'compound': 0.7971},\n",
       " {'neg': 0.1, 'neu': 0.768, 'pos': 0.132, 'compound': 0.3921},\n",
       " {'neg': 0.032, 'neu': 0.854, 'pos': 0.115, 'compound': 0.7574},\n",
       " {'neg': 0.0, 'neu': 0.799, 'pos': 0.201, 'compound': 0.9062},\n",
       " {'neg': 0.067, 'neu': 0.826, 'pos': 0.107, 'compound': 0.4664},\n",
       " {'neg': 0.125, 'neu': 0.831, 'pos': 0.044, 'compound': -0.5464},\n",
       " {'neg': 0.066, 'neu': 0.85, 'pos': 0.083, 'compound': 0.2263},\n",
       " {'neg': 0.0, 'neu': 0.878, 'pos': 0.122, 'compound': 0.9377},\n",
       " {'neg': 0.021, 'neu': 0.804, 'pos': 0.175, 'compound': 0.9553},\n",
       " {'neg': 0.0, 'neu': 0.806, 'pos': 0.194, 'compound': 0.4383},\n",
       " {'neg': 0.145, 'neu': 0.581, 'pos': 0.273, 'compound': 0.8873},\n",
       " {'neg': 0.0, 'neu': 0.784, 'pos': 0.216, 'compound': 0.8442},\n",
       " {'neg': 0.053, 'neu': 0.822, 'pos': 0.125, 'compound': 0.6745},\n",
       " {'neg': 0.037, 'neu': 0.789, 'pos': 0.174, 'compound': 0.893},\n",
       " {'neg': 0.113, 'neu': 0.588, 'pos': 0.3, 'compound': 0.8201},\n",
       " {'neg': 0.0, 'neu': 0.784, 'pos': 0.216, 'compound': 0.7845},\n",
       " {'neg': 0.119, 'neu': 0.74, 'pos': 0.141, 'compound': 0.3944},\n",
       " {'neg': 0.0, 'neu': 0.82, 'pos': 0.18, 'compound': 0.8434},\n",
       " {'neg': 0.113, 'neu': 0.668, 'pos': 0.219, 'compound': 0.7814},\n",
       " {'neg': 0.688, 'neu': 0.312, 'pos': 0.0, 'compound': -0.296},\n",
       " {'neg': 0.195, 'neu': 0.514, 'pos': 0.291, 'compound': 0.4215},\n",
       " {'neg': 0.061, 'neu': 0.863, 'pos': 0.076, 'compound': -0.0815},\n",
       " {'neg': 0.033, 'neu': 0.82, 'pos': 0.147, 'compound': 0.8856},\n",
       " {'neg': 0.014, 'neu': 0.894, 'pos': 0.092, 'compound': 0.7801},\n",
       " {'neg': 0.0, 'neu': 0.796, 'pos': 0.204, 'compound': 0.4767},\n",
       " {'neg': 0.0, 'neu': 0.871, 'pos': 0.129, 'compound': 0.6705},\n",
       " {'neg': 0.0, 'neu': 0.769, 'pos': 0.231, 'compound': 0.9652},\n",
       " {'neg': 0.145, 'neu': 0.754, 'pos': 0.102, 'compound': -0.6391},\n",
       " {'neg': 0.082, 'neu': 0.918, 'pos': 0.0, 'compound': -0.1779},\n",
       " {'neg': 0.153, 'neu': 0.727, 'pos': 0.12, 'compound': -0.2139},\n",
       " {'neg': 0.0, 'neu': 0.873, 'pos': 0.127, 'compound': 0.6249},\n",
       " {'neg': 0.087, 'neu': 0.747, 'pos': 0.166, 'compound': 0.8567},\n",
       " {'neg': 0.084, 'neu': 0.804, 'pos': 0.112, 'compound': 0.5187},\n",
       " {'neg': 0.073, 'neu': 0.719, 'pos': 0.208, 'compound': 0.9189},\n",
       " {'neg': 0.07, 'neu': 0.703, 'pos': 0.227, 'compound': 0.9306},\n",
       " {'neg': 0.079, 'neu': 0.7, 'pos': 0.222, 'compound': 0.9673},\n",
       " {'neg': 0.297, 'neu': 0.424, 'pos': 0.28, 'compound': -0.5574},\n",
       " {'neg': 0.088, 'neu': 0.787, 'pos': 0.125, 'compound': 0.3563},\n",
       " {'neg': 0.119, 'neu': 0.658, 'pos': 0.223, 'compound': 0.6466},\n",
       " {'neg': 0.103, 'neu': 0.678, 'pos': 0.219, 'compound': 0.7569},\n",
       " {'neg': 0.036, 'neu': 0.908, 'pos': 0.056, 'compound': 0.4199},\n",
       " {'neg': 0.039, 'neu': 0.756, 'pos': 0.205, 'compound': 0.8522},\n",
       " {'neg': 0.063, 'neu': 0.879, 'pos': 0.059, 'compound': -0.078},\n",
       " {'neg': 0.078, 'neu': 0.86, 'pos': 0.063, 'compound': -0.0023},\n",
       " {'neg': 0.041, 'neu': 0.81, 'pos': 0.149, 'compound': 0.7382},\n",
       " {'neg': 0.09, 'neu': 0.579, 'pos': 0.332, 'compound': 0.9406},\n",
       " {'neg': 0.0, 'neu': 1.0, 'pos': 0.0, 'compound': 0.0},\n",
       " {'neg': 0.065, 'neu': 0.716, 'pos': 0.219, 'compound': 0.8856},\n",
       " {'neg': 0.045, 'neu': 0.717, 'pos': 0.238, 'compound': 0.9659},\n",
       " {'neg': 0.036, 'neu': 0.772, 'pos': 0.192, 'compound': 0.9539},\n",
       " {'neg': 0.078, 'neu': 0.761, 'pos': 0.16, 'compound': 0.567},\n",
       " {'neg': 0.128, 'neu': 0.793, 'pos': 0.079, 'compound': -0.3167},\n",
       " {'neg': 0.09, 'neu': 0.91, 'pos': 0.0, 'compound': -0.3517},\n",
       " {'neg': 0.148, 'neu': 0.772, 'pos': 0.08, 'compound': -0.7059},\n",
       " {'neg': 0.061, 'neu': 0.872, 'pos': 0.067, 'compound': 0.1682},\n",
       " {'neg': 0.0, 'neu': 0.867, 'pos': 0.133, 'compound': 0.6908},\n",
       " {'neg': 0.091, 'neu': 0.762, 'pos': 0.147, 'compound': 0.4702},\n",
       " {'neg': 0.613, 'neu': 0.387, 'pos': 0.0, 'compound': -0.8591},\n",
       " {'neg': 0.0, 'neu': 0.714, 'pos': 0.286, 'compound': 0.4215},\n",
       " {'neg': 0.059, 'neu': 0.831, 'pos': 0.11, 'compound': 0.655},\n",
       " {'neg': 0.104, 'neu': 0.862, 'pos': 0.034, 'compound': -0.6741},\n",
       " {'neg': 0.034, 'neu': 0.738, 'pos': 0.227, 'compound': 0.9523},\n",
       " {'neg': 0.11, 'neu': 0.739, 'pos': 0.152, 'compound': 0.726},\n",
       " {'neg': 0.137, 'neu': 0.799, 'pos': 0.063, 'compound': -0.7783},\n",
       " {'neg': 0.169, 'neu': 0.831, 'pos': 0.0, 'compound': -0.2584},\n",
       " {'neg': 0.052, 'neu': 0.777, 'pos': 0.171, 'compound': 0.9286},\n",
       " {'neg': 0.07, 'neu': 0.848, 'pos': 0.082, 'compound': 0.2244},\n",
       " {'neg': 0.018, 'neu': 0.828, 'pos': 0.154, 'compound': 0.9388},\n",
       " {'neg': 0.0, 'neu': 0.889, 'pos': 0.111, 'compound': 0.7677},\n",
       " {'neg': 0.067, 'neu': 0.734, 'pos': 0.199, 'compound': 0.6899},\n",
       " {'neg': 0.07, 'neu': 0.893, 'pos': 0.037, 'compound': -0.1649},\n",
       " {'neg': 0.05, 'neu': 0.859, 'pos': 0.091, 'compound': 0.2814},\n",
       " {'neg': 0.109, 'neu': 0.753, 'pos': 0.139, 'compound': 0.2936},\n",
       " {'neg': 0.0, 'neu': 0.692, 'pos': 0.308, 'compound': 0.7383},\n",
       " {'neg': 0.028, 'neu': 0.719, 'pos': 0.253, 'compound': 0.9545},\n",
       " {'neg': 0.094, 'neu': 0.809, 'pos': 0.097, 'compound': 0.0276},\n",
       " {'neg': 0.034, 'neu': 0.821, 'pos': 0.145, 'compound': 0.8679},\n",
       " {'neg': 0.054, 'neu': 0.872, 'pos': 0.074, 'compound': 0.2263},\n",
       " {'neg': 0.04, 'neu': 0.786, 'pos': 0.174, 'compound': 0.9443},\n",
       " {'neg': 0.298, 'neu': 0.525, 'pos': 0.177, 'compound': -0.5717},\n",
       " {'neg': 0.201, 'neu': 0.615, 'pos': 0.184, 'compound': -0.1145},\n",
       " {'neg': 0.032, 'neu': 0.762, 'pos': 0.206, 'compound': 0.9516},\n",
       " {'neg': 0.053, 'neu': 0.851, 'pos': 0.096, 'compound': 0.5919},\n",
       " {'neg': 0.115, 'neu': 0.826, 'pos': 0.059, 'compound': -0.6102},\n",
       " {'neg': 0.086, 'neu': 0.891, 'pos': 0.023, 'compound': -0.7296},\n",
       " {'neg': 0.158, 'neu': 0.674, 'pos': 0.168, 'compound': -0.0376},\n",
       " {'neg': 0.055, 'neu': 0.822, 'pos': 0.122, 'compound': 0.6683},\n",
       " {'neg': 0.0, 'neu': 0.901, 'pos': 0.099, 'compound': 0.7905},\n",
       " {'neg': 0.0, 'neu': 0.947, 'pos': 0.053, 'compound': 0.431},\n",
       " {'neg': 0.083, 'neu': 0.821, 'pos': 0.097, 'compound': 0.2303},\n",
       " {'neg': 0.0, 'neu': 0.824, 'pos': 0.176, 'compound': 0.9581},\n",
       " {'neg': 0.0, 'neu': 0.954, 'pos': 0.046, 'compound': 0.388},\n",
       " {'neg': 0.186, 'neu': 0.609, 'pos': 0.205, 'compound': 0.4176},\n",
       " {'neg': 0.265, 'neu': 0.61, 'pos': 0.125, 'compound': -0.4253},\n",
       " {'neg': 0.0, 'neu': 0.8, 'pos': 0.2, 'compound': 0.4588},\n",
       " {'neg': 0.173, 'neu': 0.748, 'pos': 0.079, 'compound': -0.6009},\n",
       " {'neg': 0.151, 'neu': 0.767, 'pos': 0.082, 'compound': -0.8502},\n",
       " {'neg': 0.061, 'neu': 0.778, 'pos': 0.161, 'compound': 0.7935},\n",
       " {'neg': 0.05, 'neu': 0.872, 'pos': 0.078, 'compound': 0.2419},\n",
       " {'neg': 0.059, 'neu': 0.791, 'pos': 0.15, 'compound': 0.7506},\n",
       " {'neg': 0.136, 'neu': 0.755, 'pos': 0.109, 'compound': -0.3565},\n",
       " {'neg': 0.022, 'neu': 0.947, 'pos': 0.031, 'compound': 0.1449},\n",
       " {'neg': 0.098, 'neu': 0.795, 'pos': 0.107, 'compound': -0.4199},\n",
       " {'neg': 0.103, 'neu': 0.79, 'pos': 0.108, 'compound': -0.1251},\n",
       " {'neg': 0.034, 'neu': 0.86, 'pos': 0.106, 'compound': 0.6844},\n",
       " {'neg': 0.0, 'neu': 0.794, 'pos': 0.206, 'compound': 0.8316},\n",
       " {'neg': 0.168, 'neu': 0.733, 'pos': 0.099, 'compound': -0.2899},\n",
       " {'neg': 0.0, 'neu': 0.659, 'pos': 0.341, 'compound': 0.8715},\n",
       " {'neg': 0.117, 'neu': 0.851, 'pos': 0.032, 'compound': -0.6838},\n",
       " {'neg': 0.047, 'neu': 0.788, 'pos': 0.165, 'compound': 0.8621},\n",
       " {'neg': 0.138, 'neu': 0.65, 'pos': 0.212, 'compound': 0.6768},\n",
       " {'neg': 0.0, 'neu': 0.921, 'pos': 0.079, 'compound': 0.4082},\n",
       " {'neg': 0.175, 'neu': 0.645, 'pos': 0.18, 'compound': -0.2192},\n",
       " {'neg': 0.688, 'neu': 0.312, 'pos': 0.0, 'compound': -0.296},\n",
       " {'neg': 0.022, 'neu': 0.868, 'pos': 0.109, 'compound': 0.8591},\n",
       " {'neg': 0.095, 'neu': 0.801, 'pos': 0.104, 'compound': 0.1845},\n",
       " {'neg': 0.07, 'neu': 0.882, 'pos': 0.048, 'compound': -0.17},\n",
       " {'neg': 0.113, 'neu': 0.821, 'pos': 0.066, 'compound': -0.542},\n",
       " {'neg': 0.069, 'neu': 0.785, 'pos': 0.146, 'compound': 0.7864},\n",
       " {'neg': 0.067, 'neu': 0.849, 'pos': 0.084, 'compound': 0.2887},\n",
       " {'neg': 0.0, 'neu': 0.826, 'pos': 0.174, 'compound': 0.8847},\n",
       " {'neg': 0.164, 'neu': 0.836, 'pos': 0.0, 'compound': -0.4449},\n",
       " {'neg': 0.072, 'neu': 0.814, 'pos': 0.114, 'compound': 0.2003},\n",
       " {'neg': 0.127, 'neu': 0.873, 'pos': 0.0, 'compound': -0.357},\n",
       " {'neg': 0.0, 'neu': 0.859, 'pos': 0.141, 'compound': 0.5998},\n",
       " {'neg': 0.138, 'neu': 0.71, 'pos': 0.152, 'compound': 0.2006},\n",
       " {'neg': 0.168, 'neu': 0.772, 'pos': 0.06, 'compound': -0.538},\n",
       " {'neg': 0.344, 'neu': 0.584, 'pos': 0.072, 'compound': -0.8532},\n",
       " {'neg': 0.688, 'neu': 0.312, 'pos': 0.0, 'compound': -0.296},\n",
       " {'neg': 0.104, 'neu': 0.702, 'pos': 0.195, 'compound': 0.8381},\n",
       " {'neg': 0.158, 'neu': 0.842, 'pos': 0.0, 'compound': -0.3875},\n",
       " {'neg': 0.066, 'neu': 0.766, 'pos': 0.168, 'compound': 0.8276},\n",
       " {'neg': 0.041, 'neu': 0.924, 'pos': 0.034, 'compound': -0.198},\n",
       " {'neg': 0.0, 'neu': 0.854, 'pos': 0.146, 'compound': 0.9377},\n",
       " {'neg': 0.062, 'neu': 0.845, 'pos': 0.094, 'compound': 0.4767},\n",
       " {'neg': 0.11, 'neu': 0.859, 'pos': 0.031, 'compound': -0.5546},\n",
       " {'neg': 0.141, 'neu': 0.739, 'pos': 0.12, 'compound': -0.2742},\n",
       " {'neg': 0.0, 'neu': 0.829, 'pos': 0.171, 'compound': 0.4767},\n",
       " {'neg': 0.188, 'neu': 0.732, 'pos': 0.08, 'compound': -0.4757},\n",
       " {'neg': 0.035, 'neu': 0.838, 'pos': 0.127, 'compound': 0.8477},\n",
       " {'neg': 0.122, 'neu': 0.78, 'pos': 0.098, 'compound': -0.3365},\n",
       " {'neg': 0.101, 'neu': 0.69, 'pos': 0.209, 'compound': 0.8959},\n",
       " {'neg': 0.016, 'neu': 0.904, 'pos': 0.08, 'compound': 0.6544},\n",
       " {'neg': 0.026, 'neu': 0.858, 'pos': 0.116, 'compound': 0.9009},\n",
       " {'neg': 0.0, 'neu': 0.651, 'pos': 0.349, 'compound': 0.963},\n",
       " {'neg': 0.025, 'neu': 0.847, 'pos': 0.128, 'compound': 0.8948},\n",
       " {'neg': 0.098, 'neu': 0.713, 'pos': 0.19, 'compound': 0.753},\n",
       " {'neg': 0.106, 'neu': 0.818, 'pos': 0.076, 'compound': -0.3818},\n",
       " {'neg': 0.068, 'neu': 0.751, 'pos': 0.181, 'compound': 0.8031},\n",
       " {'neg': 0.688, 'neu': 0.312, 'pos': 0.0, 'compound': -0.296},\n",
       " {'neg': 0.027, 'neu': 0.723, 'pos': 0.251, 'compound': 0.9643},\n",
       " {'neg': 0.037, 'neu': 0.705, 'pos': 0.258, 'compound': 0.9393},\n",
       " {'neg': 0.079, 'neu': 0.849, 'pos': 0.072, 'compound': -0.0701},\n",
       " {'neg': 0.02, 'neu': 0.81, 'pos': 0.17, 'compound': 0.9},\n",
       " {'neg': 0.0, 'neu': 0.849, 'pos': 0.151, 'compound': 0.8568},\n",
       " {'neg': 0.03, 'neu': 0.716, 'pos': 0.254, 'compound': 0.9255},\n",
       " {'neg': 0.126, 'neu': 0.874, 'pos': 0.0, 'compound': -0.3182},\n",
       " {'neg': 0.0, 'neu': 0.701, 'pos': 0.299, 'compound': 0.8926},\n",
       " {'neg': 0.026, 'neu': 0.868, 'pos': 0.106, 'compound': 0.8065},\n",
       " {'neg': 0.047, 'neu': 0.698, 'pos': 0.254, 'compound': 0.6515},\n",
       " {'neg': 0.0, 'neu': 0.922, 'pos': 0.078, 'compound': 0.6486},\n",
       " {'neg': 0.047, 'neu': 0.824, 'pos': 0.13, 'compound': 0.576},\n",
       " {'neg': 0.133, 'neu': 0.801, 'pos': 0.066, 'compound': -0.7186},\n",
       " {'neg': 0.068, 'neu': 0.836, 'pos': 0.096, 'compound': 0.2263},\n",
       " {'neg': 0.027, 'neu': 0.752, 'pos': 0.221, 'compound': 0.9688},\n",
       " {'neg': 0.688, 'neu': 0.312, 'pos': 0.0, 'compound': -0.296},\n",
       " {'neg': 0.015, 'neu': 0.947, 'pos': 0.038, 'compound': 0.289},\n",
       " {'neg': 0.078, 'neu': 0.808, 'pos': 0.114, 'compound': 0.2525},\n",
       " {'neg': 0.0, 'neu': 0.937, 'pos': 0.063, 'compound': 0.6288},\n",
       " {'neg': 0.162, 'neu': 0.764, 'pos': 0.075, 'compound': -0.8215},\n",
       " {'neg': 0.194, 'neu': 0.692, 'pos': 0.114, 'compound': -0.6196},\n",
       " {'neg': 0.15, 'neu': 0.75, 'pos': 0.1, 'compound': -0.2508},\n",
       " {'neg': 0.688, 'neu': 0.312, 'pos': 0.0, 'compound': -0.296},\n",
       " {'neg': 0.086, 'neu': 0.914, 'pos': 0.0, 'compound': -0.4767},\n",
       " {'neg': 0.118, 'neu': 0.743, 'pos': 0.139, 'compound': 0.21},\n",
       " {'neg': 0.234, 'neu': 0.766, 'pos': 0.0, 'compound': -0.9519},\n",
       " {'neg': 0.061, 'neu': 0.834, 'pos': 0.106, 'compound': 0.5187},\n",
       " {'neg': 0.048, 'neu': 0.887, 'pos': 0.065, 'compound': 0.4094},\n",
       " {'neg': 0.0, 'neu': 0.797, 'pos': 0.203, 'compound': 0.8481},\n",
       " {'neg': 0.021, 'neu': 0.785, 'pos': 0.193, 'compound': 0.9523},\n",
       " {'neg': 0.125, 'neu': 0.797, 'pos': 0.078, 'compound': -0.7421},\n",
       " {'neg': 0.048, 'neu': 0.802, 'pos': 0.15, 'compound': 0.7714},\n",
       " {'neg': 0.107, 'neu': 0.804, 'pos': 0.089, 'compound': -0.3595},\n",
       " {'neg': 0.123, 'neu': 0.877, 'pos': 0.0, 'compound': -0.2411},\n",
       " {'neg': 0.123, 'neu': 0.783, 'pos': 0.094, 'compound': -0.0772},\n",
       " {'neg': 0.0, 'neu': 0.9, 'pos': 0.1, 'compound': 0.8074},\n",
       " {'neg': 0.0, 'neu': 0.958, 'pos': 0.042, 'compound': 0.4939},\n",
       " {'neg': 0.048, 'neu': 0.865, 'pos': 0.086, 'compound': 0.5983},\n",
       " {'neg': 0.1, 'neu': 0.627, 'pos': 0.273, 'compound': 0.9023},\n",
       " {'neg': 0.019, 'neu': 0.874, 'pos': 0.107, 'compound': 0.9009},\n",
       " {'neg': 0.052, 'neu': 0.828, 'pos': 0.12, 'compound': 0.3499},\n",
       " {'neg': 0.046, 'neu': 0.812, 'pos': 0.141, 'compound': 0.863},\n",
       " {'neg': 0.0, 'neu': 0.731, 'pos': 0.269, 'compound': 0.9294},\n",
       " {'neg': 0.0, 'neu': 0.728, 'pos': 0.272, 'compound': 0.9302},\n",
       " {'neg': 0.485, 'neu': 0.515, 'pos': 0.0, 'compound': -0.7644},\n",
       " {'neg': 0.117, 'neu': 0.815, 'pos': 0.067, 'compound': -0.578},\n",
       " {'neg': 0.0, 'neu': 0.834, 'pos': 0.166, 'compound': 0.907},\n",
       " {'neg': 0.056, 'neu': 0.782, 'pos': 0.161, 'compound': 0.9282},\n",
       " {'neg': 0.19, 'neu': 0.718, 'pos': 0.091, 'compound': -0.8684},\n",
       " {'neg': 0.041, 'neu': 0.747, 'pos': 0.212, 'compound': 0.8268},\n",
       " {'neg': 0.138, 'neu': 0.705, 'pos': 0.157, 'compound': 0.4753},\n",
       " {'neg': 0.058, 'neu': 0.863, 'pos': 0.08, 'compound': 0.0949},\n",
       " {'neg': 0.088, 'neu': 0.86, 'pos': 0.052, 'compound': -0.1779},\n",
       " {'neg': 0.0, 'neu': 0.923, 'pos': 0.077, 'compound': 0.7712},\n",
       " {'neg': 0.0, 'neu': 0.759, 'pos': 0.241, 'compound': 0.8055},\n",
       " {'neg': 0.0, 'neu': 0.835, 'pos': 0.165, 'compound': 0.8162},\n",
       " {'neg': 0.0, 'neu': 0.845, 'pos': 0.155, 'compound': 0.7712},\n",
       " {'neg': 0.0, 'neu': 0.707, 'pos': 0.293, 'compound': 0.985},\n",
       " {'neg': 0.052, 'neu': 0.869, 'pos': 0.079, 'compound': 0.4869},\n",
       " {'neg': 0.04, 'neu': 0.765, 'pos': 0.194, 'compound': 0.9541},\n",
       " {'neg': 0.071, 'neu': 0.744, 'pos': 0.185, 'compound': 0.9139},\n",
       " {'neg': 0.013, 'neu': 0.839, 'pos': 0.147, 'compound': 0.9562},\n",
       " {'neg': 0.032, 'neu': 0.762, 'pos': 0.206, 'compound': 0.9128},\n",
       " {'neg': 0.043, 'neu': 0.83, 'pos': 0.127, 'compound': 0.864},\n",
       " {'neg': 0.039, 'neu': 0.758, 'pos': 0.203, 'compound': 0.908},\n",
       " {'neg': 0.0, 'neu': 0.952, 'pos': 0.048, 'compound': 0.2838},\n",
       " {'neg': 0.107, 'neu': 0.68, 'pos': 0.213, 'compound': 0.9435},\n",
       " {'neg': 0.046, 'neu': 0.868, 'pos': 0.087, 'compound': 0.2598},\n",
       " {'neg': 0.122, 'neu': 0.732, 'pos': 0.146, 'compound': 0.0192},\n",
       " {'neg': 0.065, 'neu': 0.867, 'pos': 0.068, 'compound': 0.0258},\n",
       " {'neg': 0.057, 'neu': 0.742, 'pos': 0.202, 'compound': 0.9547},\n",
       " {'neg': 0.145, 'neu': 0.772, 'pos': 0.083, 'compound': -0.7516},\n",
       " {'neg': 0.127, 'neu': 0.605, 'pos': 0.268, 'compound': 0.9418},\n",
       " {'neg': 0.03, 'neu': 0.798, 'pos': 0.172, 'compound': 0.9206},\n",
       " {'neg': 0.035, 'neu': 0.821, 'pos': 0.143, 'compound': 0.8151},\n",
       " {'neg': 0.093, 'neu': 0.598, 'pos': 0.309, 'compound': 0.7574},\n",
       " {'neg': 0.126, 'neu': 0.676, 'pos': 0.198, 'compound': 0.2298},\n",
       " {'neg': 0.066, 'neu': 0.8, 'pos': 0.134, 'compound': 0.6884},\n",
       " {'neg': 0.047, 'neu': 0.812, 'pos': 0.141, 'compound': 0.836},\n",
       " {'neg': 0.058, 'neu': 0.733, 'pos': 0.209, 'compound': 0.6516},\n",
       " {'neg': 0.061, 'neu': 0.704, 'pos': 0.235, 'compound': 0.9325},\n",
       " {'neg': 0.029, 'neu': 0.873, 'pos': 0.098, 'compound': 0.7772},\n",
       " {'neg': 0.034, 'neu': 0.878, 'pos': 0.087, 'compound': 0.6124},\n",
       " {'neg': 0.084, 'neu': 0.616, 'pos': 0.301, 'compound': 0.9238},\n",
       " {'neg': 0.099, 'neu': 0.776, 'pos': 0.125, 'compound': 0.453},\n",
       " {'neg': 0.051, 'neu': 0.787, 'pos': 0.162, 'compound': 0.7909},\n",
       " {'neg': 0.112, 'neu': 0.797, 'pos': 0.091, 'compound': -0.4109},\n",
       " {'neg': 0.094, 'neu': 0.698, 'pos': 0.208, 'compound': 0.5046},\n",
       " {'neg': 0.08, 'neu': 0.763, 'pos': 0.157, 'compound': 0.8957},\n",
       " {'neg': 0.052, 'neu': 0.785, 'pos': 0.164, 'compound': 0.8569},\n",
       " {'neg': 0.0, 'neu': 0.966, 'pos': 0.034, 'compound': 0.1531},\n",
       " {'neg': 0.11, 'neu': 0.687, 'pos': 0.202, 'compound': 0.5903},\n",
       " {'neg': 0.044, 'neu': 0.775, 'pos': 0.181, 'compound': 0.947},\n",
       " {'neg': 0.016, 'neu': 0.722, 'pos': 0.262, 'compound': 0.9812},\n",
       " {'neg': 0.144, 'neu': 0.824, 'pos': 0.032, 'compound': -0.8268},\n",
       " {'neg': 0.055, 'neu': 0.854, 'pos': 0.092, 'compound': 0.6048},\n",
       " {'neg': 0.085, 'neu': 0.695, 'pos': 0.221, 'compound': 0.5423},\n",
       " {'neg': 0.0, 'neu': 0.59, 'pos': 0.41, 'compound': 0.8422},\n",
       " {'neg': 0.0, 'neu': 0.667, 'pos': 0.333, 'compound': 0.8172},\n",
       " {'neg': 0.049, 'neu': 0.8, 'pos': 0.151, 'compound': 0.6059},\n",
       " {'neg': 0.042, 'neu': 0.763, 'pos': 0.195, 'compound': 0.6597},\n",
       " {'neg': 0.106, 'neu': 0.747, 'pos': 0.147, 'compound': 0.4637},\n",
       " {'neg': 0.058, 'neu': 0.736, 'pos': 0.207, 'compound': 0.8846},\n",
       " {'neg': 0.083, 'neu': 0.917, 'pos': 0.0, 'compound': -0.5213},\n",
       " {'neg': 0.073, 'neu': 0.774, 'pos': 0.153, 'compound': 0.4033},\n",
       " {'neg': 0.0, 'neu': 0.932, 'pos': 0.068, 'compound': 0.4588},\n",
       " {'neg': 0.057, 'neu': 0.759, 'pos': 0.183, 'compound': 0.6859},\n",
       " {'neg': 0.106, 'neu': 0.715, 'pos': 0.179, 'compound': 0.6858},\n",
       " {'neg': 0.153, 'neu': 0.631, 'pos': 0.216, 'compound': 0.8555},\n",
       " {'neg': 0.0, 'neu': 0.915, 'pos': 0.085, 'compound': 0.2382},\n",
       " {'neg': 0.025, 'neu': 0.854, 'pos': 0.122, 'compound': 0.8644},\n",
       " {'neg': 0.0, 'neu': 0.857, 'pos': 0.143, 'compound': 0.9416},\n",
       " {'neg': 0.116, 'neu': 0.636, 'pos': 0.248, 'compound': 0.7781},\n",
       " {'neg': 0.192, 'neu': 0.617, 'pos': 0.191, 'compound': -0.0035},\n",
       " {'neg': 0.05, 'neu': 0.781, 'pos': 0.169, 'compound': 0.8055},\n",
       " {'neg': 0.095, 'neu': 0.722, 'pos': 0.183, 'compound': 0.8332},\n",
       " {'neg': 0.145, 'neu': 0.716, 'pos': 0.139, 'compound': -0.3678},\n",
       " {'neg': 0.0, 'neu': 0.841, 'pos': 0.159, 'compound': 0.6696},\n",
       " {'neg': 0.116, 'neu': 0.775, 'pos': 0.109, 'compound': 0.3526},\n",
       " {'neg': 0.034, 'neu': 0.862, 'pos': 0.104, 'compound': 0.6586},\n",
       " {'neg': 0.0, 'neu': 0.811, 'pos': 0.189, 'compound': 0.9335},\n",
       " {'neg': 0.135, 'neu': 0.768, 'pos': 0.097, 'compound': -0.5744},\n",
       " {'neg': 0.112, 'neu': 0.774, 'pos': 0.114, 'compound': 0.0421},\n",
       " {'neg': 0.156, 'neu': 0.664, 'pos': 0.18, 'compound': -0.0762},\n",
       " {'neg': 0.063, 'neu': 0.757, 'pos': 0.18, 'compound': 0.9411},\n",
       " {'neg': 0.125, 'neu': 0.645, 'pos': 0.23, 'compound': 0.8092},\n",
       " {'neg': 0.0, 'neu': 0.72, 'pos': 0.28, 'compound': 0.5413},\n",
       " {'neg': 0.099, 'neu': 0.835, 'pos': 0.066, 'compound': -0.5531},\n",
       " {'neg': 0.128, 'neu': 0.699, 'pos': 0.172, 'compound': 0.3013},\n",
       " {'neg': 0.033, 'neu': 0.865, 'pos': 0.101, 'compound': 0.5346},\n",
       " {'neg': 0.062, 'neu': 0.858, 'pos': 0.08, 'compound': 0.1715},\n",
       " {'neg': 0.15, 'neu': 0.555, 'pos': 0.295, 'compound': 0.6439},\n",
       " {'neg': 0.102, 'neu': 0.818, 'pos': 0.08, 'compound': -0.5024},\n",
       " {'neg': 0.0, 'neu': 0.929, 'pos': 0.071, 'compound': 0.2805},\n",
       " {'neg': 0.014, 'neu': 0.865, 'pos': 0.121, 'compound': 0.891},\n",
       " {'neg': 0.1, 'neu': 0.713, 'pos': 0.187, 'compound': 0.8247},\n",
       " {'neg': 0.053, 'neu': 0.885, 'pos': 0.062, 'compound': 0.2146},\n",
       " {'neg': 0.151, 'neu': 0.769, 'pos': 0.08, 'compound': -0.5106},\n",
       " {'neg': 0.0, 'neu': 0.818, 'pos': 0.182, 'compound': 0.8692},\n",
       " {'neg': 0.688, 'neu': 0.312, 'pos': 0.0, 'compound': -0.296},\n",
       " {'neg': 0.0, 'neu': 0.9, 'pos': 0.1, 'compound': 0.5994},\n",
       " {'neg': 0.105, 'neu': 0.819, 'pos': 0.076, 'compound': -0.2688},\n",
       " {'neg': 0.137, 'neu': 0.731, 'pos': 0.133, 'compound': -0.1187},\n",
       " {'neg': 0.134, 'neu': 0.751, 'pos': 0.116, 'compound': -0.2982},\n",
       " {'neg': 0.055, 'neu': 0.793, 'pos': 0.152, 'compound': 0.8771},\n",
       " {'neg': 0.147, 'neu': 0.512, 'pos': 0.342, 'compound': 0.8866},\n",
       " {'neg': 0.0, 'neu': 0.79, 'pos': 0.21, 'compound': 0.8932},\n",
       " {'neg': 0.0, 'neu': 0.871, 'pos': 0.129, 'compound': 0.9298},\n",
       " {'neg': 0.0, 'neu': 0.674, 'pos': 0.326, 'compound': 0.5187},\n",
       " {'neg': 0.09, 'neu': 0.813, 'pos': 0.096, 'compound': 0.1722},\n",
       " {'neg': 0.107, 'neu': 0.636, 'pos': 0.257, 'compound': 0.7791},\n",
       " {'neg': 0.134, 'neu': 0.754, 'pos': 0.112, 'compound': -0.5723},\n",
       " {'neg': 0.153, 'neu': 0.646, 'pos': 0.201, 'compound': 0.34},\n",
       " {'neg': 0.044, 'neu': 0.758, 'pos': 0.197, 'compound': 0.724},\n",
       " {'neg': 0.0, 'neu': 0.818, 'pos': 0.182, 'compound': 0.3506},\n",
       " {'neg': 0.066, 'neu': 0.643, 'pos': 0.29, 'compound': 0.8885},\n",
       " {'neg': 0.142, 'neu': 0.723, 'pos': 0.135, 'compound': -0.0739},\n",
       " {'neg': 0.107, 'neu': 0.777, 'pos': 0.116, 'compound': 0.1397},\n",
       " {'neg': 0.0, 'neu': 1.0, 'pos': 0.0, 'compound': 0.0},\n",
       " {'neg': 0.075, 'neu': 0.737, 'pos': 0.189, 'compound': 0.8963},\n",
       " {'neg': 0.075, 'neu': 0.753, 'pos': 0.171, 'compound': 0.4215},\n",
       " {'neg': 0.06, 'neu': 0.873, 'pos': 0.067, 'compound': -0.0772},\n",
       " {'neg': 0.0, 'neu': 0.94, 'pos': 0.06, 'compound': 0.3724},\n",
       " {'neg': 0.114, 'neu': 0.841, 'pos': 0.045, 'compound': -0.5982},\n",
       " {'neg': 0.161, 'neu': 0.69, 'pos': 0.149, 'compound': 0.2242},\n",
       " {'neg': 0.015, 'neu': 0.83, 'pos': 0.155, 'compound': 0.9236},\n",
       " {'neg': 0.0, 'neu': 0.814, 'pos': 0.186, 'compound': 0.8621},\n",
       " {'neg': 0.0, 'neu': 0.647, 'pos': 0.353, 'compound': 0.9214},\n",
       " {'neg': 0.162, 'neu': 0.724, 'pos': 0.114, 'compound': -0.5335},\n",
       " {'neg': 0.247, 'neu': 0.69, 'pos': 0.064, 'compound': -0.7227},\n",
       " {'neg': 0.135, 'neu': 0.676, 'pos': 0.189, 'compound': 0.6237},\n",
       " {'neg': 0.0, 'neu': 1.0, 'pos': 0.0, 'compound': 0.0},\n",
       " {'neg': 0.038, 'neu': 0.65, 'pos': 0.312, 'compound': 0.986},\n",
       " {'neg': 0.048, 'neu': 0.866, 'pos': 0.086, 'compound': 0.2828},\n",
       " {'neg': 0.093, 'neu': 0.745, 'pos': 0.162, 'compound': 0.637},\n",
       " {'neg': 0.106, 'neu': 0.786, 'pos': 0.108, 'compound': 0.0516},\n",
       " {'neg': 0.0, 'neu': 0.94, 'pos': 0.06, 'compound': 0.3064},\n",
       " {'neg': 0.0, 'neu': 0.855, 'pos': 0.145, 'compound': 0.9081},\n",
       " {'neg': 0.688, 'neu': 0.312, 'pos': 0.0, 'compound': -0.296},\n",
       " {'neg': 0.0, 'neu': 0.858, 'pos': 0.142, 'compound': 0.6474},\n",
       " {'neg': 0.0, 'neu': 0.892, 'pos': 0.108, 'compound': 0.2846},\n",
       " {'neg': 0.076, 'neu': 0.806, 'pos': 0.118, 'compound': 0.2261},\n",
       " {'neg': 0.03, 'neu': 0.856, 'pos': 0.114, 'compound': 0.6908},\n",
       " {'neg': 0.145, 'neu': 0.832, 'pos': 0.023, 'compound': -0.842},\n",
       " {'neg': 0.057, 'neu': 0.818, 'pos': 0.125, 'compound': 0.4588},\n",
       " {'neg': 0.037, 'neu': 0.76, 'pos': 0.203, 'compound': 0.9442},\n",
       " {'neg': 0.128, 'neu': 0.843, 'pos': 0.029, 'compound': -0.8367},\n",
       " {'neg': 0.044, 'neu': 0.755, 'pos': 0.201, 'compound': 0.7906},\n",
       " {'neg': 0.048, 'neu': 0.787, 'pos': 0.165, 'compound': 0.8837},\n",
       " {'neg': 0.068, 'neu': 0.847, 'pos': 0.085, 'compound': 0.3142},\n",
       " {'neg': 0.044, 'neu': 0.808, 'pos': 0.148, 'compound': 0.7455},\n",
       " {'neg': 0.138, 'neu': 0.745, 'pos': 0.117, 'compound': -0.1195},\n",
       " {'neg': 0.076, 'neu': 0.851, 'pos': 0.073, 'compound': -0.0684},\n",
       " {'neg': 0.022, 'neu': 0.807, 'pos': 0.171, 'compound': 0.8602},\n",
       " {'neg': 0.041, 'neu': 0.824, 'pos': 0.135, 'compound': 0.5934},\n",
       " {'neg': 0.165, 'neu': 0.605, 'pos': 0.23, 'compound': 0.2942},\n",
       " {'neg': 0.073, 'neu': 0.802, 'pos': 0.125, 'compound': 0.7602},\n",
       " {'neg': 0.019, 'neu': 0.718, 'pos': 0.264, 'compound': 0.9818},\n",
       " {'neg': 0.166, 'neu': 0.794, 'pos': 0.04, 'compound': -0.6816},\n",
       " {'neg': 0.086, 'neu': 0.796, 'pos': 0.118, 'compound': 0.3506},\n",
       " {'neg': 0.056, 'neu': 0.85, 'pos': 0.094, 'compound': 0.5155},\n",
       " {'neg': 0.177, 'neu': 0.539, 'pos': 0.284, 'compound': 0.0485},\n",
       " {'neg': 0.131, 'neu': 0.759, 'pos': 0.11, 'compound': -0.5319},\n",
       " {'neg': 0.175, 'neu': 0.642, 'pos': 0.184, 'compound': -0.1735},\n",
       " {'neg': 0.026, 'neu': 0.781, 'pos': 0.193, 'compound': 0.9202},\n",
       " {'neg': 0.0, 'neu': 0.927, 'pos': 0.073, 'compound': 0.6187},\n",
       " {'neg': 0.062, 'neu': 0.87, 'pos': 0.069, 'compound': 0.1531},\n",
       " {'neg': 0.017, 'neu': 0.904, 'pos': 0.079, 'compound': 0.6055},\n",
       " {'neg': 0.117, 'neu': 0.582, 'pos': 0.301, 'compound': 0.9565},\n",
       " {'neg': 0.054, 'neu': 0.836, 'pos': 0.11, 'compound': 0.4126},\n",
       " {'neg': 0.018, 'neu': 0.932, 'pos': 0.05, 'compound': 0.4384},\n",
       " {'neg': 0.17, 'neu': 0.815, 'pos': 0.016, 'compound': -0.9532},\n",
       " {'neg': 0.078, 'neu': 0.865, 'pos': 0.057, 'compound': -0.1881},\n",
       " {'neg': 0.027, 'neu': 0.812, 'pos': 0.161, 'compound': 0.9119},\n",
       " {'neg': 0.0, 'neu': 0.925, 'pos': 0.075, 'compound': 0.4003},\n",
       " {'neg': 0.099, 'neu': 0.772, 'pos': 0.13, 'compound': 0.5504},\n",
       " {'neg': 0.016, 'neu': 0.899, 'pos': 0.085, 'compound': 0.7455},\n",
       " {'neg': 0.068, 'neu': 0.867, 'pos': 0.065, 'compound': -0.0414},\n",
       " {'neg': 0.014, 'neu': 0.856, 'pos': 0.13, 'compound': 0.8979},\n",
       " {'neg': 0.041, 'neu': 0.769, 'pos': 0.19, 'compound': 0.9382},\n",
       " {'neg': 0.0, 'neu': 0.772, 'pos': 0.228, 'compound': 0.9334},\n",
       " {'neg': 0.036, 'neu': 0.87, 'pos': 0.094, 'compound': 0.3506},\n",
       " {'neg': 0.0, 'neu': 0.871, 'pos': 0.129, 'compound': 0.7003},\n",
       " {'neg': 0.038, 'neu': 0.857, 'pos': 0.106, 'compound': 0.6083},\n",
       " {'neg': 0.036, 'neu': 0.761, 'pos': 0.203, 'compound': 0.8898},\n",
       " {'neg': 0.159, 'neu': 0.697, 'pos': 0.144, 'compound': -0.4313},\n",
       " {'neg': 0.0, 'neu': 0.812, 'pos': 0.188, 'compound': 0.9124},\n",
       " {'neg': 0.052, 'neu': 0.899, 'pos': 0.049, 'compound': -0.3291},\n",
       " {'neg': 0.17, 'neu': 0.796, 'pos': 0.034, 'compound': -0.8022},\n",
       " {'neg': 0.0, 'neu': 0.975, 'pos': 0.025, 'compound': 0.3716},\n",
       " {'neg': 0.078, 'neu': 0.65, 'pos': 0.273, 'compound': 0.7901},\n",
       " {'neg': 0.088, 'neu': 0.877, 'pos': 0.035, 'compound': -0.4939},\n",
       " {'neg': 0.05, 'neu': 0.837, 'pos': 0.113, 'compound': 0.6055},\n",
       " {'neg': 0.0, 'neu': 0.796, 'pos': 0.204, 'compound': 0.9196},\n",
       " {'neg': 0.03, 'neu': 0.88, 'pos': 0.089, 'compound': 0.4963},\n",
       " {'neg': 0.062, 'neu': 0.816, 'pos': 0.122, 'compound': 0.5266},\n",
       " {'neg': 0.085, 'neu': 0.915, 'pos': 0.0, 'compound': -0.34},\n",
       " {'neg': 0.0, 'neu': 1.0, 'pos': 0.0, 'compound': 0.0},\n",
       " {'neg': 0.0, 'neu': 0.809, 'pos': 0.191, 'compound': 0.8201},\n",
       " {'neg': 0.032, 'neu': 0.867, 'pos': 0.102, 'compound': 0.4588},\n",
       " {'neg': 0.138, 'neu': 0.703, 'pos': 0.159, 'compound': 0.0292},\n",
       " {'neg': 0.033, 'neu': 0.828, 'pos': 0.139, 'compound': 0.7908},\n",
       " {'neg': 0.131, 'neu': 0.729, 'pos': 0.14, 'compound': 0.0433},\n",
       " {'neg': 0.0, 'neu': 0.837, 'pos': 0.163, 'compound': 0.6183},\n",
       " {'neg': 0.044, 'neu': 0.897, 'pos': 0.059, 'compound': -0.1007},\n",
       " {'neg': 0.028, 'neu': 0.733, 'pos': 0.239, 'compound': 0.9525},\n",
       " {'neg': 0.025, 'neu': 0.941, 'pos': 0.034, 'compound': 0.1759},\n",
       " {'neg': 0.045, 'neu': 0.826, 'pos': 0.129, 'compound': 0.8497},\n",
       " {'neg': 0.031, 'neu': 0.797, 'pos': 0.172, 'compound': 0.6858},\n",
       " {'neg': 0.0, 'neu': 0.914, 'pos': 0.086, 'compound': 0.4215},\n",
       " {'neg': 0.062, 'neu': 0.762, 'pos': 0.177, 'compound': 0.8257},\n",
       " {'neg': 0.069, 'neu': 0.849, 'pos': 0.082, 'compound': 0.1002},\n",
       " {'neg': 0.064, 'neu': 0.788, 'pos': 0.148, 'compound': 0.7535},\n",
       " {'neg': 0.0, 'neu': 0.78, 'pos': 0.22, 'compound': 0.7543},\n",
       " {'neg': 0.068, 'neu': 0.717, 'pos': 0.215, 'compound': 0.902},\n",
       " {'neg': 0.079, 'neu': 0.785, 'pos': 0.136, 'compound': 0.3174},\n",
       " {'neg': 0.148, 'neu': 0.808, 'pos': 0.044, 'compound': -0.4201},\n",
       " {'neg': 0.133, 'neu': 0.718, 'pos': 0.149, 'compound': -0.3259},\n",
       " {'neg': 0.0, 'neu': 0.86, 'pos': 0.14, 'compound': 0.9231},\n",
       " {'neg': 0.222, 'neu': 0.677, 'pos': 0.101, 'compound': -0.6908},\n",
       " {'neg': 0.12, 'neu': 0.831, 'pos': 0.048, 'compound': -0.6857},\n",
       " {'neg': 0.053, 'neu': 0.699, 'pos': 0.248, 'compound': 0.94},\n",
       " {'neg': 0.085, 'neu': 0.707, 'pos': 0.208, 'compound': 0.9117},\n",
       " {'neg': 0.0, 'neu': 0.858, 'pos': 0.142, 'compound': 0.5106},\n",
       " {'neg': 0.048, 'neu': 0.82, 'pos': 0.133, 'compound': 0.4955},\n",
       " {'neg': 0.081, 'neu': 0.77, 'pos': 0.149, 'compound': 0.7749},\n",
       " {'neg': 0.0, 'neu': 0.881, 'pos': 0.119, 'compound': 0.4019},\n",
       " {'neg': 0.21, 'neu': 0.702, 'pos': 0.089, 'compound': -0.91},\n",
       " {'neg': 0.031, 'neu': 0.812, 'pos': 0.157, 'compound': 0.822},\n",
       " {'neg': 0.028, 'neu': 0.882, 'pos': 0.089, 'compound': 0.7207},\n",
       " {'neg': 0.0, 'neu': 0.952, 'pos': 0.048, 'compound': 0.2144},\n",
       " {'neg': 0.054, 'neu': 0.757, 'pos': 0.188, 'compound': 0.9455},\n",
       " {'neg': 0.1, 'neu': 0.815, 'pos': 0.085, 'compound': -0.2148},\n",
       " {'neg': 0.102, 'neu': 0.81, 'pos': 0.088, 'compound': -0.2851},\n",
       " {'neg': 0.058, 'neu': 0.77, 'pos': 0.171, 'compound': 0.924},\n",
       " {'neg': 0.027, 'neu': 0.713, 'pos': 0.259, 'compound': 0.9631},\n",
       " {'neg': 0.028, 'neu': 0.913, 'pos': 0.059, 'compound': 0.3612},\n",
       " {'neg': 0.041, 'neu': 0.781, 'pos': 0.178, 'compound': 0.8688},\n",
       " {'neg': 0.0, 'neu': 0.78, 'pos': 0.22, 'compound': 0.8658},\n",
       " {'neg': 0.064, 'neu': 0.686, 'pos': 0.25, 'compound': 0.8936},\n",
       " {'neg': 0.688, 'neu': 0.312, 'pos': 0.0, 'compound': -0.296},\n",
       " {'neg': 0.113, 'neu': 0.78, 'pos': 0.107, 'compound': -0.3551},\n",
       " {'neg': 0.054, 'neu': 0.799, 'pos': 0.147, 'compound': 0.7263},\n",
       " {'neg': 0.114, 'neu': 0.816, 'pos': 0.07, 'compound': -0.5267},\n",
       " {'neg': 0.079, 'neu': 0.757, 'pos': 0.164, 'compound': 0.3818},\n",
       " {'neg': 0.0, 'neu': 0.925, 'pos': 0.075, 'compound': 0.4404},\n",
       " {'neg': 0.079, 'neu': 0.781, 'pos': 0.139, 'compound': 0.7681},\n",
       " {'neg': 0.031, 'neu': 0.908, 'pos': 0.06, 'compound': 0.4251},\n",
       " {'neg': 0.029, 'neu': 0.771, 'pos': 0.2, 'compound': 0.9468},\n",
       " {'neg': 0.073, 'neu': 0.78, 'pos': 0.147, 'compound': 0.2135},\n",
       " {'neg': 0.103, 'neu': 0.799, 'pos': 0.099, 'compound': -0.0831},\n",
       " {'neg': 0.018, 'neu': 0.771, 'pos': 0.211, 'compound': 0.9584},\n",
       " {'neg': 0.044, 'neu': 0.811, 'pos': 0.145, 'compound': 0.9127},\n",
       " {'neg': 0.017, 'neu': 0.903, 'pos': 0.08, 'compound': 0.5137},\n",
       " {'neg': 0.046, 'neu': 0.891, 'pos': 0.063, 'compound': 0.0772},\n",
       " {'neg': 0.022, 'neu': 0.821, 'pos': 0.157, 'compound': 0.9003},\n",
       " {'neg': 0.031, 'neu': 0.839, 'pos': 0.13, 'compound': 0.8696},\n",
       " {'neg': 0.047, 'neu': 0.877, 'pos': 0.076, 'compound': 0.4588},\n",
       " {'neg': 0.0, 'neu': 0.603, 'pos': 0.397, 'compound': 0.8885},\n",
       " {'neg': 0.057, 'neu': 0.662, 'pos': 0.281, 'compound': 0.9116},\n",
       " {'neg': 0.087, 'neu': 0.731, 'pos': 0.182, 'compound': 0.8012},\n",
       " {'neg': 0.065, 'neu': 0.855, 'pos': 0.079, 'compound': 0.3523},\n",
       " {'neg': 0.108, 'neu': 0.751, 'pos': 0.142, 'compound': 0.4799},\n",
       " {'neg': 0.688, 'neu': 0.312, 'pos': 0.0, 'compound': -0.296},\n",
       " {'neg': 0.048, 'neu': 0.672, 'pos': 0.281, 'compound': 0.9692},\n",
       " {'neg': 0.046, 'neu': 0.861, 'pos': 0.093, 'compound': 0.6749},\n",
       " {'neg': 0.0, 'neu': 0.801, 'pos': 0.199, 'compound': 0.8271},\n",
       " {'neg': 0.086, 'neu': 0.648, 'pos': 0.266, 'compound': 0.9127},\n",
       " {'neg': 0.054, 'neu': 0.785, 'pos': 0.161, 'compound': 0.658},\n",
       " {'neg': 0.06, 'neu': 0.762, 'pos': 0.177, 'compound': 0.904},\n",
       " {'neg': 0.101, 'neu': 0.797, 'pos': 0.102, 'compound': 0.0258},\n",
       " {'neg': 0.095, 'neu': 0.756, 'pos': 0.149, 'compound': 0.4051},\n",
       " {'neg': 0.0, 'neu': 0.916, 'pos': 0.084, 'compound': 0.7466},\n",
       " {'neg': 0.0, 'neu': 0.842, 'pos': 0.158, 'compound': 0.4118},\n",
       " {'neg': 0.0, 'neu': 0.732, 'pos': 0.268, 'compound': 0.9661},\n",
       " {'neg': 0.092, 'neu': 0.762, 'pos': 0.146, 'compound': 0.451},\n",
       " {'neg': 0.0, 'neu': 0.611, 'pos': 0.389, 'compound': 0.9524},\n",
       " {'neg': 0.0, 'neu': 0.875, 'pos': 0.125, 'compound': 0.9273},\n",
       " {'neg': 0.0, 'neu': 0.935, 'pos': 0.065, 'compound': 0.25},\n",
       " {'neg': 0.069, 'neu': 0.826, 'pos': 0.105, 'compound': 0.4399},\n",
       " {'neg': 0.053, 'neu': 0.816, 'pos': 0.131, 'compound': 0.631},\n",
       " {'neg': 0.0, 'neu': 1.0, 'pos': 0.0, 'compound': 0.0},\n",
       " {'neg': 0.074, 'neu': 0.77, 'pos': 0.155, 'compound': 0.4858},\n",
       " {'neg': 0.0, 'neu': 0.817, 'pos': 0.183, 'compound': 0.9454},\n",
       " {'neg': 0.025, 'neu': 0.926, 'pos': 0.05, 'compound': 0.3832},\n",
       " {'neg': 0.047, 'neu': 0.836, 'pos': 0.117, 'compound': 0.85},\n",
       " {'neg': 0.176, 'neu': 0.695, 'pos': 0.129, 'compound': -0.3111},\n",
       " {'neg': 0.018, 'neu': 0.885, 'pos': 0.097, 'compound': 0.7749},\n",
       " {'neg': 0.066, 'neu': 0.733, 'pos': 0.202, 'compound': 0.9411},\n",
       " {'neg': 0.169, 'neu': 0.566, 'pos': 0.265, 'compound': 0.6414},\n",
       " {'neg': 0.061, 'neu': 0.709, 'pos': 0.231, 'compound': 0.8184},\n",
       " {'neg': 0.05, 'neu': 0.877, 'pos': 0.074, 'compound': 0.4019},\n",
       " {'neg': 0.046, 'neu': 0.759, 'pos': 0.195, 'compound': 0.931},\n",
       " {'neg': 0.023, 'neu': 0.936, 'pos': 0.041, 'compound': 0.4215},\n",
       " {'neg': 0.0, 'neu': 0.855, 'pos': 0.145, 'compound': 0.7444},\n",
       " {'neg': 0.098, 'neu': 0.659, 'pos': 0.243, 'compound': 0.9625},\n",
       " {'neg': 0.055, 'neu': 0.806, 'pos': 0.139, 'compound': 0.5799},\n",
       " {'neg': 0.051, 'neu': 0.821, 'pos': 0.128, 'compound': 0.6383},\n",
       " {'neg': 0.0, 'neu': 0.948, 'pos': 0.052, 'compound': 0.5132},\n",
       " {'neg': 0.052, 'neu': 0.757, 'pos': 0.19, 'compound': 0.9019},\n",
       " {'neg': 0.037, 'neu': 0.823, 'pos': 0.139, 'compound': 0.836},\n",
       " {'neg': 0.112, 'neu': 0.706, 'pos': 0.182, 'compound': 0.4781},\n",
       " {'neg': 0.058, 'neu': 0.848, 'pos': 0.094, 'compound': 0.6069},\n",
       " {'neg': 0.114, 'neu': 0.75, 'pos': 0.136, 'compound': -0.1248},\n",
       " {'neg': 0.136, 'neu': 0.816, 'pos': 0.047, 'compound': -0.8004},\n",
       " {'neg': 0.0, 'neu': 0.757, 'pos': 0.243, 'compound': 0.6239},\n",
       " {'neg': 0.105, 'neu': 0.743, 'pos': 0.152, 'compound': 0.5346},\n",
       " {'neg': 0.0, 'neu': 0.584, 'pos': 0.416, 'compound': 0.9524},\n",
       " {'neg': 0.229, 'neu': 0.599, 'pos': 0.172, 'compound': -0.5558},\n",
       " {'neg': 0.05, 'neu': 0.769, 'pos': 0.181, 'compound': 0.8316},\n",
       " {'neg': 0.112, 'neu': 0.746, 'pos': 0.142, 'compound': 0.5041},\n",
       " {'neg': 0.094, 'neu': 0.721, 'pos': 0.185, 'compound': 0.6476},\n",
       " {'neg': 0.0, 'neu': 1.0, 'pos': 0.0, 'compound': 0.0},\n",
       " {'neg': 0.097, 'neu': 0.778, 'pos': 0.125, 'compound': 0.6047},\n",
       " {'neg': 0.0, 'neu': 0.846, 'pos': 0.154, 'compound': 0.6542},\n",
       " {'neg': 0.0, 'neu': 0.874, 'pos': 0.126, 'compound': 0.7876},\n",
       " {'neg': 0.065, 'neu': 0.852, 'pos': 0.083, 'compound': -0.1505},\n",
       " {'neg': 0.123, 'neu': 0.877, 'pos': 0.0, 'compound': -0.2411},\n",
       " {'neg': 0.285, 'neu': 0.59, 'pos': 0.125, 'compound': -0.3506},\n",
       " {'neg': 0.227, 'neu': 0.698, 'pos': 0.075, 'compound': -0.9218},\n",
       " {'neg': 0.0, 'neu': 0.948, 'pos': 0.052, 'compound': 0.3292},\n",
       " {'neg': 0.044, 'neu': 0.884, 'pos': 0.072, 'compound': 0.2475},\n",
       " {'neg': 0.093, 'neu': 0.814, 'pos': 0.093, 'compound': 0.0111},\n",
       " {'neg': 0.0, 'neu': 0.866, 'pos': 0.134, 'compound': 0.8625},\n",
       " {'neg': 0.097, 'neu': 0.817, 'pos': 0.086, 'compound': 0.325},\n",
       " {'neg': 0.111, 'neu': 0.825, 'pos': 0.063, 'compound': -0.128},\n",
       " {'neg': 0.076, 'neu': 0.808, 'pos': 0.117, 'compound': 0.5335},\n",
       " {'neg': 0.086, 'neu': 0.892, 'pos': 0.022, 'compound': -0.7185},\n",
       " {'neg': 0.052, 'neu': 0.804, 'pos': 0.144, 'compound': 0.8225},\n",
       " {'neg': 0.058, 'neu': 0.864, 'pos': 0.078, 'compound': 0.0335},\n",
       " {'neg': 0.117, 'neu': 0.75, 'pos': 0.133, 'compound': 0.2003},\n",
       " {'neg': 0.048, 'neu': 0.852, 'pos': 0.1, 'compound': 0.7003},\n",
       " {'neg': 0.082, 'neu': 0.844, 'pos': 0.074, 'compound': -0.429},\n",
       " {'neg': 0.0, 'neu': 0.761, 'pos': 0.239, 'compound': 0.9698},\n",
       " {'neg': 0.0, 'neu': 0.848, 'pos': 0.152, 'compound': 0.93},\n",
       " {'neg': 0.0, 'neu': 0.778, 'pos': 0.222, 'compound': 0.9695},\n",
       " {'neg': 0.047, 'neu': 0.802, 'pos': 0.151, 'compound': 0.9065},\n",
       " {'neg': 0.062, 'neu': 0.86, 'pos': 0.078, 'compound': 0.1531},\n",
       " {'neg': 0.075, 'neu': 0.683, 'pos': 0.242, 'compound': 0.653},\n",
       " {'neg': 0.077, 'neu': 0.868, 'pos': 0.054, 'compound': -0.4494},\n",
       " {'neg': 0.074, 'neu': 0.79, 'pos': 0.136, 'compound': 0.8361},\n",
       " {'neg': 0.029, 'neu': 0.868, 'pos': 0.103, 'compound': 0.8338},\n",
       " {'neg': 0.17, 'neu': 0.695, 'pos': 0.135, 'compound': -0.4458},\n",
       " {'neg': 0.063, 'neu': 0.795, 'pos': 0.142, 'compound': 0.586},\n",
       " {'neg': 0.145, 'neu': 0.594, 'pos': 0.261, 'compound': 0.6257},\n",
       " {'neg': 0.1, 'neu': 0.75, 'pos': 0.15, 'compound': 0.1027},\n",
       " {'neg': 0.081, 'neu': 0.726, 'pos': 0.193, 'compound': 0.9327},\n",
       " {'neg': 0.061, 'neu': 0.802, 'pos': 0.137, 'compound': 0.7906},\n",
       " {'neg': 0.0, 'neu': 0.775, 'pos': 0.225, 'compound': 0.8402},\n",
       " {'neg': 0.064, 'neu': 0.798, 'pos': 0.138, 'compound': 0.5325},\n",
       " {'neg': 0.046, 'neu': 0.786, 'pos': 0.168, 'compound': 0.9494},\n",
       " {'neg': 0.688, 'neu': 0.312, 'pos': 0.0, 'compound': -0.296},\n",
       " {'neg': 0.0, 'neu': 1.0, 'pos': 0.0, 'compound': 0.0},\n",
       " {'neg': 0.056, 'neu': 0.685, 'pos': 0.259, 'compound': 0.9753},\n",
       " {'neg': 0.03, 'neu': 0.794, 'pos': 0.176, 'compound': 0.8917},\n",
       " {'neg': 0.018, 'neu': 0.776, 'pos': 0.206, 'compound': 0.9694},\n",
       " {'neg': 0.129, 'neu': 0.62, 'pos': 0.251, 'compound': 0.5106},\n",
       " {'neg': 0.0, 'neu': 0.81, 'pos': 0.19, 'compound': 0.3795},\n",
       " {'neg': 0.166, 'neu': 0.687, 'pos': 0.147, 'compound': -0.1263},\n",
       " {'neg': 0.221, 'neu': 0.706, 'pos': 0.074, 'compound': -0.6124},\n",
       " {'neg': 0.099, 'neu': 0.83, 'pos': 0.072, 'compound': -0.487},\n",
       " {'neg': 0.101, 'neu': 0.826, 'pos': 0.073, 'compound': -0.128},\n",
       " {'neg': 0.096, 'neu': 0.759, 'pos': 0.145, 'compound': 0.7938},\n",
       " {'neg': 0.058, 'neu': 0.843, 'pos': 0.099, 'compound': 0.4657},\n",
       " {'neg': 0.044, 'neu': 0.737, 'pos': 0.219, 'compound': 0.9649},\n",
       " {'neg': 0.053, 'neu': 0.847, 'pos': 0.1, 'compound': 0.5078},\n",
       " {'neg': 0.051, 'neu': 0.851, 'pos': 0.098, 'compound': 0.4981},\n",
       " {'neg': 0.155, 'neu': 0.684, 'pos': 0.16, 'compound': -0.3471},\n",
       " {'neg': 0.0, 'neu': 0.882, 'pos': 0.118, 'compound': 0.2846},\n",
       " {'neg': 0.115, 'neu': 0.803, 'pos': 0.082, 'compound': -0.5112},\n",
       " {'neg': 0.0, 'neu': 0.745, 'pos': 0.255, 'compound': 0.8356},\n",
       " {'neg': 0.0, 'neu': 0.856, 'pos': 0.144, 'compound': 0.6757},\n",
       " {'neg': 0.073, 'neu': 0.746, 'pos': 0.181, 'compound': 0.8972},\n",
       " {'neg': 0.032, 'neu': 0.864, 'pos': 0.104, 'compound': 0.5499},\n",
       " {'neg': 0.182, 'neu': 0.818, 'pos': 0.0, 'compound': -0.6548},\n",
       " {'neg': 0.05, 'neu': 0.884, 'pos': 0.066, 'compound': -0.0271},\n",
       " {'neg': 0.098, 'neu': 0.775, 'pos': 0.127, 'compound': 0.4577},\n",
       " {'neg': 0.0, 'neu': 0.894, 'pos': 0.106, 'compound': 0.8449},\n",
       " {'neg': 0.131, 'neu': 0.832, 'pos': 0.037, 'compound': -0.6486},\n",
       " {'neg': 0.0, 'neu': 0.876, 'pos': 0.124, 'compound': 0.501},\n",
       " {'neg': 0.065, 'neu': 0.652, 'pos': 0.283, 'compound': 0.9068},\n",
       " {'neg': 0.028, 'neu': 0.848, 'pos': 0.124, 'compound': 0.5785},\n",
       " {'neg': 0.054, 'neu': 0.858, 'pos': 0.088, 'compound': 0.3597},\n",
       " {'neg': 0.083, 'neu': 0.72, 'pos': 0.198, 'compound': 0.7142},\n",
       " {'neg': 0.0, 'neu': 0.962, 'pos': 0.038, 'compound': 0.0516},\n",
       " {'neg': 0.047, 'neu': 0.847, 'pos': 0.106, 'compound': 0.4404},\n",
       " {'neg': 0.119, 'neu': 0.777, 'pos': 0.104, 'compound': -0.0322},\n",
       " {'neg': 0.688, 'neu': 0.312, 'pos': 0.0, 'compound': -0.296},\n",
       " {'neg': 0.208, 'neu': 0.792, 'pos': 0.0, 'compound': -0.6058},\n",
       " {'neg': 0.04, 'neu': 0.806, 'pos': 0.154, 'compound': 0.8688},\n",
       " {'neg': 0.05, 'neu': 0.9, 'pos': 0.051, 'compound': 0.0258},\n",
       " {'neg': 0.0, 'neu': 0.83, 'pos': 0.17, 'compound': 0.91},\n",
       " {'neg': 0.092, 'neu': 0.908, 'pos': 0.0, 'compound': -0.0572},\n",
       " {'neg': 0.0, 'neu': 0.767, 'pos': 0.233, 'compound': 0.5023},\n",
       " {'neg': 0.16, 'neu': 0.665, 'pos': 0.175, 'compound': -0.3855},\n",
       " {'neg': 0.688, 'neu': 0.312, 'pos': 0.0, 'compound': -0.296},\n",
       " {'neg': 0.0, 'neu': 0.913, 'pos': 0.087, 'compound': 0.837},\n",
       " {'neg': 0.0, 'neu': 0.948, 'pos': 0.052, 'compound': 0.2732},\n",
       " {'neg': 0.058, 'neu': 0.761, 'pos': 0.181, 'compound': 0.9433},\n",
       " {'neg': 0.244, 'neu': 0.653, 'pos': 0.103, 'compound': -0.9178},\n",
       " {'neg': 0.022, 'neu': 0.83, 'pos': 0.148, 'compound': 0.9178},\n",
       " {'neg': 0.151, 'neu': 0.699, 'pos': 0.149, 'compound': -0.024},\n",
       " {'neg': 0.074, 'neu': 0.696, 'pos': 0.23, 'compound': 0.8819},\n",
       " {'neg': 0.116, 'neu': 0.651, 'pos': 0.233, 'compound': 0.8784},\n",
       " {'neg': 0.055, 'neu': 0.587, 'pos': 0.358, 'compound': 0.8701},\n",
       " {'neg': 0.115, 'neu': 0.794, 'pos': 0.091, 'compound': -0.1593},\n",
       " {'neg': 0.027, 'neu': 0.804, 'pos': 0.169, 'compound': 0.887},\n",
       " {'neg': 0.071, 'neu': 0.781, 'pos': 0.148, 'compound': 0.8572},\n",
       " {'neg': 0.0, 'neu': 0.835, 'pos': 0.165, 'compound': 0.4854},\n",
       " {'neg': 0.12, 'neu': 0.753, 'pos': 0.127, 'compound': 0.1007},\n",
       " {'neg': 0.085, 'neu': 0.668, 'pos': 0.247, 'compound': 0.8858},\n",
       " {'neg': 0.113, 'neu': 0.667, 'pos': 0.22, 'compound': 0.7787},\n",
       " {'neg': 0.093, 'neu': 0.795, 'pos': 0.112, 'compound': 0.2382},\n",
       " {'neg': 0.165, 'neu': 0.742, 'pos': 0.093, 'compound': -0.6235},\n",
       " {'neg': 0.021, 'neu': 0.796, 'pos': 0.183, 'compound': 0.9001},\n",
       " {'neg': 0.0, 'neu': 0.825, 'pos': 0.175, 'compound': 0.8356},\n",
       " {'neg': 0.178, 'neu': 0.625, 'pos': 0.197, 'compound': 0.0881},\n",
       " {'neg': 0.012, 'neu': 0.725, 'pos': 0.263, 'compound': 0.9847},\n",
       " {'neg': 0.022, 'neu': 0.954, 'pos': 0.024, 'compound': 0.0516},\n",
       " {'neg': 0.14, 'neu': 0.697, 'pos': 0.163, 'compound': 0.1511},\n",
       " {'neg': 0.318, 'neu': 0.682, 'pos': 0.0, 'compound': -0.829},\n",
       " {'neg': 0.019, 'neu': 0.803, 'pos': 0.178, 'compound': 0.9472},\n",
       " {'neg': 0.057, 'neu': 0.717, 'pos': 0.226, 'compound': 0.927},\n",
       " {'neg': 0.059, 'neu': 0.646, 'pos': 0.296, 'compound': 0.8877},\n",
       " {'neg': 0.0, 'neu': 0.764, 'pos': 0.236, 'compound': 0.9397},\n",
       " {'neg': 0.023, 'neu': 0.715, 'pos': 0.262, 'compound': 0.984},\n",
       " {'neg': 0.073, 'neu': 0.838, 'pos': 0.089, 'compound': 0.3822},\n",
       " {'neg': 0.183, 'neu': 0.663, 'pos': 0.154, 'compound': -0.2462},\n",
       " {'neg': 0.089, 'neu': 0.699, 'pos': 0.211, 'compound': 0.954},\n",
       " {'neg': 0.0, 'neu': 0.821, 'pos': 0.179, 'compound': 0.6428},\n",
       " {'neg': 0.0, 'neu': 0.932, 'pos': 0.068, 'compound': 0.3359},\n",
       " {'neg': 0.071, 'neu': 0.769, 'pos': 0.16, 'compound': 0.879},\n",
       " {'neg': 0.013, 'neu': 0.915, 'pos': 0.071, 'compound': 0.7356},\n",
       " {'neg': 0.096, 'neu': 0.834, 'pos': 0.07, 'compound': -0.6037},\n",
       " {'neg': 0.169, 'neu': 0.683, 'pos': 0.148, 'compound': -0.4213},\n",
       " {'neg': 0.052, 'neu': 0.741, 'pos': 0.207, 'compound': 0.7959},\n",
       " {'neg': 0.0, 'neu': 0.82, 'pos': 0.18, 'compound': 0.8674},\n",
       " {'neg': 0.087, 'neu': 0.766, 'pos': 0.147, 'compound': 0.7311},\n",
       " {'neg': 0.0, 'neu': 0.85, 'pos': 0.15, 'compound': 0.4574},\n",
       " {'neg': 0.101, 'neu': 0.639, 'pos': 0.26, 'compound': 0.8667},\n",
       " {'neg': 0.0, 'neu': 0.838, 'pos': 0.162, 'compound': 0.9552},\n",
       " {'neg': 0.024, 'neu': 0.744, 'pos': 0.232, 'compound': 0.9473},\n",
       " {'neg': 0.145, 'neu': 0.855, 'pos': 0.0, 'compound': -0.6235},\n",
       " {'neg': 0.137, 'neu': 0.781, 'pos': 0.082, 'compound': -0.4841},\n",
       " {'neg': 0.059, 'neu': 0.925, 'pos': 0.016, 'compound': -0.7007},\n",
       " {'neg': 0.0, 'neu': 0.782, 'pos': 0.218, 'compound': 0.9617},\n",
       " {'neg': 0.128, 'neu': 0.797, 'pos': 0.075, 'compound': -0.6499},\n",
       " {'neg': 0.075, 'neu': 0.865, 'pos': 0.06, 'compound': -0.1411},\n",
       " {'neg': 0.015, 'neu': 0.881, 'pos': 0.104, 'compound': 0.7402},\n",
       " {'neg': 0.12, 'neu': 0.759, 'pos': 0.121, 'compound': 0.2575},\n",
       " {'neg': 0.072, 'neu': 0.853, 'pos': 0.075, 'compound': -0.2067},\n",
       " {'neg': 0.094, 'neu': 0.684, 'pos': 0.222, 'compound': 0.6218},\n",
       " {'neg': 0.0, 'neu': 0.679, 'pos': 0.321, 'compound': 0.9131},\n",
       " {'neg': 0.0, 'neu': 0.906, 'pos': 0.094, 'compound': 0.4829},\n",
       " {'neg': 0.039, 'neu': 0.812, 'pos': 0.149, 'compound': 0.619},\n",
       " {'neg': 0.275, 'neu': 0.46, 'pos': 0.265, 'compound': 0.1531},\n",
       " {'neg': 0.108, 'neu': 0.795, 'pos': 0.097, 'compound': -0.2778},\n",
       " {'neg': 0.11, 'neu': 0.852, 'pos': 0.038, 'compound': -0.3182},\n",
       " {'neg': 0.072, 'neu': 0.754, 'pos': 0.174, 'compound': 0.8626},\n",
       " {'neg': 0.118, 'neu': 0.882, 'pos': 0.0, 'compound': -0.6223},\n",
       " {'neg': 0.0, 'neu': 0.823, 'pos': 0.177, 'compound': 0.5106},\n",
       " {'neg': 0.045, 'neu': 0.697, 'pos': 0.257, 'compound': 0.957},\n",
       " {'neg': 0.0, 'neu': 0.816, 'pos': 0.184, 'compound': 0.8819},\n",
       " {'neg': 0.098, 'neu': 0.776, 'pos': 0.126, 'compound': 0.3692},\n",
       " {'neg': 0.037, 'neu': 0.812, 'pos': 0.151, 'compound': 0.9068},\n",
       " {'neg': 0.079, 'neu': 0.719, 'pos': 0.202, 'compound': 0.9305},\n",
       " {'neg': 0.046, 'neu': 0.84, 'pos': 0.114, 'compound': 0.8107},\n",
       " {'neg': 0.109, 'neu': 0.725, 'pos': 0.166, 'compound': 0.5095},\n",
       " {'neg': 0.046, 'neu': 0.79, 'pos': 0.164, 'compound': 0.9157},\n",
       " {'neg': 0.133, 'neu': 0.81, 'pos': 0.057, 'compound': -0.7391},\n",
       " {'neg': 0.0, 'neu': 0.934, 'pos': 0.066, 'compound': 0.6428},\n",
       " {'neg': 0.035, 'neu': 0.719, 'pos': 0.246, 'compound': 0.9686},\n",
       " {'neg': 0.0, 'neu': 0.969, 'pos': 0.031, 'compound': 0.2732},\n",
       " {'neg': 0.114, 'neu': 0.679, 'pos': 0.206, 'compound': 0.8524},\n",
       " {'neg': 0.123, 'neu': 0.78, 'pos': 0.097, 'compound': -0.6233},\n",
       " {'neg': 0.04, 'neu': 0.856, 'pos': 0.104, 'compound': 0.5416},\n",
       " {'neg': 0.151, 'neu': 0.711, 'pos': 0.138, 'compound': -0.4574},\n",
       " {'neg': 0.055, 'neu': 0.859, 'pos': 0.086, 'compound': 0.4186},\n",
       " {'neg': 0.063, 'neu': 0.824, 'pos': 0.112, 'compound': 0.6604},\n",
       " {'neg': 0.033, 'neu': 0.842, 'pos': 0.126, 'compound': 0.7823},\n",
       " {'neg': 0.026, 'neu': 0.813, 'pos': 0.161, 'compound': 0.9286},\n",
       " {'neg': 0.0, 'neu': 0.803, 'pos': 0.197, 'compound': 0.3506},\n",
       " {'neg': 0.0, 'neu': 0.777, 'pos': 0.223, 'compound': 0.8435},\n",
       " {'neg': 0.05, 'neu': 0.899, 'pos': 0.051, 'compound': -0.2263},\n",
       " {'neg': 0.086, 'neu': 0.789, 'pos': 0.125, 'compound': 0.6186},\n",
       " {'neg': 0.688, 'neu': 0.312, 'pos': 0.0, 'compound': -0.296},\n",
       " {'neg': 0.065, 'neu': 0.898, 'pos': 0.038, 'compound': -0.2376},\n",
       " {'neg': 0.0, 'neu': 0.877, 'pos': 0.123, 'compound': 0.8807},\n",
       " {'neg': 0.13, 'neu': 0.617, 'pos': 0.253, 'compound': 0.6802},\n",
       " {'neg': 0.061, 'neu': 0.743, 'pos': 0.196, 'compound': 0.9386},\n",
       " {'neg': 0.226, 'neu': 0.741, 'pos': 0.033, 'compound': -0.8912},\n",
       " {'neg': 0.149, 'neu': 0.605, 'pos': 0.246, 'compound': 0.8975},\n",
       " {'neg': 0.0, 'neu': 0.735, 'pos': 0.265, 'compound': 0.985},\n",
       " {'neg': 0.0, 'neu': 0.647, 'pos': 0.353, 'compound': 0.9001},\n",
       " {'neg': 0.05, 'neu': 0.871, 'pos': 0.079, 'compound': 0.1646},\n",
       " {'neg': 0.071, 'neu': 0.714, 'pos': 0.216, 'compound': 0.8198},\n",
       " {'neg': 0.018, 'neu': 0.895, 'pos': 0.088, 'compound': 0.7391},\n",
       " {'neg': 0.0, 'neu': 0.85, 'pos': 0.15, 'compound': 0.9535},\n",
       " {'neg': 0.079, 'neu': 0.705, 'pos': 0.216, 'compound': 0.9069},\n",
       " {'neg': 0.075, 'neu': 0.856, 'pos': 0.07, 'compound': -0.0516},\n",
       " {'neg': 0.143, 'neu': 0.755, 'pos': 0.102, 'compound': -0.6629},\n",
       " {'neg': 0.0, 'neu': 0.64, 'pos': 0.36, 'compound': 0.959},\n",
       " {'neg': 0.0, 'neu': 0.797, 'pos': 0.203, 'compound': 0.6848},\n",
       " {'neg': 0.017, 'neu': 0.783, 'pos': 0.2, 'compound': 0.9601},\n",
       " {'neg': 0.066, 'neu': 0.743, 'pos': 0.191, 'compound': 0.7083},\n",
       " {'neg': 0.132, 'neu': 0.739, 'pos': 0.129, 'compound': 0.2206},\n",
       " {'neg': 0.0, 'neu': 0.884, 'pos': 0.116, 'compound': 0.5854},\n",
       " {'neg': 0.079, 'neu': 0.805, 'pos': 0.115, 'compound': 0.6003},\n",
       " {'neg': 0.057, 'neu': 0.781, 'pos': 0.161, 'compound': 0.8407},\n",
       " {'neg': 0.063, 'neu': 0.892, 'pos': 0.046, 'compound': -0.1815},\n",
       " {'neg': 0.164, 'neu': 0.743, 'pos': 0.093, 'compound': -0.6437},\n",
       " {'neg': 0.077, 'neu': 0.675, 'pos': 0.248, 'compound': 0.7647},\n",
       " {'neg': 0.053, 'neu': 0.818, 'pos': 0.128, 'compound': 0.5258},\n",
       " {'neg': 0.029, 'neu': 0.752, 'pos': 0.219, 'compound': 0.9717},\n",
       " {'neg': 0.041, 'neu': 0.799, 'pos': 0.16, 'compound': 0.8424},\n",
       " {'neg': 0.0, 'neu': 0.802, 'pos': 0.198, 'compound': 0.8555},\n",
       " {'neg': 0.069, 'neu': 0.751, 'pos': 0.179, 'compound': 0.8692},\n",
       " {'neg': 0.15, 'neu': 0.759, 'pos': 0.091, 'compound': -0.5859},\n",
       " {'neg': 0.0, 'neu': 1.0, 'pos': 0.0, 'compound': 0.0},\n",
       " {'neg': 0.113, 'neu': 0.714, 'pos': 0.174, 'compound': 0.7401},\n",
       " {'neg': 0.126, 'neu': 0.705, 'pos': 0.169, 'compound': 0.545},\n",
       " {'neg': 0.031, 'neu': 0.827, 'pos': 0.142, 'compound': 0.912},\n",
       " {'neg': 0.032, 'neu': 0.864, 'pos': 0.105, 'compound': 0.7511},\n",
       " {'neg': 0.118, 'neu': 0.864, 'pos': 0.018, 'compound': -0.8886},\n",
       " {'neg': 0.055, 'neu': 0.888, 'pos': 0.057, 'compound': -0.2263},\n",
       " {'neg': 0.032, 'neu': 0.91, 'pos': 0.057, 'compound': 0.4019},\n",
       " {'neg': 0.049, 'neu': 0.822, 'pos': 0.128, 'compound': 0.6015},\n",
       " {'neg': 0.08, 'neu': 0.844, 'pos': 0.077, 'compound': -0.0617},\n",
       " {'neg': 0.089, 'neu': 0.634, 'pos': 0.277, 'compound': 0.973},\n",
       " {'neg': 0.151, 'neu': 0.764, 'pos': 0.085, 'compound': -0.3526},\n",
       " {'neg': 0.059, 'neu': 0.806, 'pos': 0.135, 'compound': 0.3818},\n",
       " {'neg': 0.116, 'neu': 0.759, 'pos': 0.125, 'compound': -0.12},\n",
       " {'neg': 0.068, 'neu': 0.863, 'pos': 0.069, 'compound': 0.0173},\n",
       " {'neg': 0.098, 'neu': 0.719, 'pos': 0.183, 'compound': 0.827},\n",
       " {'neg': 0.094, 'neu': 0.659, 'pos': 0.248, 'compound': 0.9274},\n",
       " {'neg': 0.057, 'neu': 0.876, 'pos': 0.067, 'compound': 0.1007},\n",
       " {'neg': 0.0, 'neu': 0.923, 'pos': 0.077, 'compound': 0.4404},\n",
       " {'neg': 0.071, 'neu': 0.874, 'pos': 0.055, 'compound': 0.0567},\n",
       " {'neg': 0.077, 'neu': 0.745, 'pos': 0.177, 'compound': 0.7906},\n",
       " {'neg': 0.052, 'neu': 0.644, 'pos': 0.304, 'compound': 0.9676},\n",
       " {'neg': 0.137, 'neu': 0.863, 'pos': 0.0, 'compound': -0.4912},\n",
       " {'neg': 0.0, 'neu': 0.8, 'pos': 0.2, 'compound': 0.3612},\n",
       " {'neg': 0.102, 'neu': 0.847, 'pos': 0.05, 'compound': -0.6157},\n",
       " {'neg': 0.042, 'neu': 0.85, 'pos': 0.108, 'compound': 0.8172},\n",
       " {'neg': 0.0, 'neu': 0.957, 'pos': 0.043, 'compound': 0.4019},\n",
       " {'neg': 0.048, 'neu': 0.831, 'pos': 0.121, 'compound': 0.7712},\n",
       " {'neg': 0.081, 'neu': 0.725, 'pos': 0.194, 'compound': 0.742},\n",
       " {'neg': 0.06, 'neu': 0.648, 'pos': 0.292, 'compound': 0.9601},\n",
       " {'neg': 0.087, 'neu': 0.913, 'pos': 0.0, 'compound': -0.296},\n",
       " {'neg': 0.118, 'neu': 0.625, 'pos': 0.257, 'compound': 0.9446},\n",
       " {'neg': 0.088, 'neu': 0.83, 'pos': 0.082, 'compound': -0.1485},\n",
       " {'neg': 0.049, 'neu': 0.795, 'pos': 0.156, 'compound': 0.9152},\n",
       " {'neg': 0.099, 'neu': 0.758, 'pos': 0.143, 'compound': 0.5408},\n",
       " {'neg': 0.092, 'neu': 0.756, 'pos': 0.152, 'compound': 0.5023},\n",
       " {'neg': 0.061, 'neu': 0.787, 'pos': 0.152, 'compound': 0.5574},\n",
       " {'neg': 0.044, 'neu': 0.876, 'pos': 0.08, 'compound': 0.3182},\n",
       " {'neg': 0.017, 'neu': 0.886, 'pos': 0.097, 'compound': 0.7011},\n",
       " {'neg': 0.083, 'neu': 0.778, 'pos': 0.138, 'compound': 0.4386},\n",
       " {'neg': 0.048, 'neu': 0.704, 'pos': 0.248, 'compound': 0.7607},\n",
       " {'neg': 0.081, 'neu': 0.704, 'pos': 0.215, 'compound': 0.9551},\n",
       " {'neg': 0.122, 'neu': 0.774, 'pos': 0.104, 'compound': -0.5989},\n",
       " {'neg': 0.038, 'neu': 0.797, 'pos': 0.165, 'compound': 0.9285},\n",
       " {'neg': 0.115, 'neu': 0.812, 'pos': 0.073, 'compound': -0.0639},\n",
       " {'neg': 0.074, 'neu': 0.733, 'pos': 0.192, 'compound': 0.6816},\n",
       " {'neg': 0.045, 'neu': 0.841, 'pos': 0.114, 'compound': 0.7057},\n",
       " {'neg': 0.075, 'neu': 0.889, 'pos': 0.037, 'compound': -0.4019},\n",
       " {'neg': 0.242, 'neu': 0.758, 'pos': 0.0, 'compound': -0.8229},\n",
       " {'neg': 0.046, 'neu': 0.865, 'pos': 0.09, 'compound': 0.6172},\n",
       " {'neg': 0.0, 'neu': 0.772, 'pos': 0.228, 'compound': 0.9117},\n",
       " {'neg': 0.048, 'neu': 0.818, 'pos': 0.134, 'compound': 0.6249},\n",
       " {'neg': 0.076, 'neu': 0.748, 'pos': 0.176, 'compound': 0.5192},\n",
       " {'neg': 0.142, 'neu': 0.675, 'pos': 0.183, 'compound': 0.0243},\n",
       " {'neg': 0.073, 'neu': 0.851, 'pos': 0.076, 'compound': 0.0655},\n",
       " {'neg': 0.036, 'neu': 0.891, 'pos': 0.073, 'compound': 0.431},\n",
       " {'neg': 0.061, 'neu': 0.856, 'pos': 0.083, 'compound': 0.5106},\n",
       " {'neg': 0.062, 'neu': 0.845, 'pos': 0.093, 'compound': 0.128},\n",
       " {'neg': 0.0, 'neu': 0.659, 'pos': 0.341, 'compound': 0.7738},\n",
       " {'neg': 0.103, 'neu': 0.784, 'pos': 0.113, 'compound': -0.34},\n",
       " {'neg': 0.12, 'neu': 0.785, 'pos': 0.094, 'compound': -0.515},\n",
       " {'neg': 0.039, 'neu': 0.806, 'pos': 0.156, 'compound': 0.6369},\n",
       " {'neg': 0.116, 'neu': 0.752, 'pos': 0.132, 'compound': 0.3455},\n",
       " {'neg': 0.0, 'neu': 1.0, 'pos': 0.0, 'compound': 0.0},\n",
       " {'neg': 0.091, 'neu': 0.773, 'pos': 0.135, 'compound': 0.5267},\n",
       " {'neg': 0.0, 'neu': 0.915, 'pos': 0.085, 'compound': 0.34},\n",
       " {'neg': 0.06, 'neu': 0.862, 'pos': 0.078, 'compound': 0.2178},\n",
       " {'neg': 0.054, 'neu': 0.808, 'pos': 0.137, 'compound': 0.6908},\n",
       " {'neg': 0.146, 'neu': 0.7, 'pos': 0.154, 'compound': 0.0821},\n",
       " {'neg': 0.031, 'neu': 0.752, 'pos': 0.217, 'compound': 0.9666},\n",
       " {'neg': 0.04, 'neu': 0.716, 'pos': 0.244, 'compound': 0.9658},\n",
       " {'neg': 0.082, 'neu': 0.839, 'pos': 0.079, 'compound': 0.2057},\n",
       " {'neg': 0.048, 'neu': 0.756, 'pos': 0.196, 'compound': 0.8291},\n",
       " {'neg': 0.124, 'neu': 0.733, 'pos': 0.143, 'compound': 0.0889},\n",
       " {'neg': 0.121, 'neu': 0.782, 'pos': 0.097, 'compound': -0.5212},\n",
       " {'neg': 0.0, 'neu': 0.739, 'pos': 0.261, 'compound': 0.9835},\n",
       " {'neg': 0.067, 'neu': 0.815, 'pos': 0.118, 'compound': 0.7503},\n",
       " {'neg': 0.107, 'neu': 0.766, 'pos': 0.127, 'compound': 0.2621},\n",
       " {'neg': 0.129, 'neu': 0.722, 'pos': 0.149, 'compound': 0.2732},\n",
       " {'neg': 0.0, 'neu': 1.0, 'pos': 0.0, 'compound': 0.0},\n",
       " {'neg': 0.212, 'neu': 0.698, 'pos': 0.09, 'compound': -0.9249},\n",
       " {'neg': 0.102, 'neu': 0.83, 'pos': 0.068, 'compound': -0.5911},\n",
       " {'neg': 0.072, 'neu': 0.799, 'pos': 0.129, 'compound': 0.8253},\n",
       " {'neg': 0.087, 'neu': 0.837, 'pos': 0.076, 'compound': -0.09},\n",
       " {'neg': 0.068, 'neu': 0.932, 'pos': 0.0, 'compound': -0.3602},\n",
       " {'neg': 0.047, 'neu': 0.81, 'pos': 0.143, 'compound': 0.7147},\n",
       " {'neg': 0.028, 'neu': 0.933, 'pos': 0.039, 'compound': 0.1655},\n",
       " {'neg': 0.101, 'neu': 0.688, 'pos': 0.211, 'compound': 0.465},\n",
       " {'neg': 0.108, 'neu': 0.698, 'pos': 0.194, 'compound': 0.6369},\n",
       " {'neg': 0.034, 'neu': 0.757, 'pos': 0.209, 'compound': 0.9559},\n",
       " {'neg': 0.031, 'neu': 0.901, 'pos': 0.067, 'compound': 0.5483},\n",
       " {'neg': 0.064, 'neu': 0.785, 'pos': 0.151, 'compound': 0.6416},\n",
       " {'neg': 0.096, 'neu': 0.745, 'pos': 0.16, 'compound': 0.7607},\n",
       " {'neg': 0.04, 'neu': 0.688, 'pos': 0.272, 'compound': 0.9482},\n",
       " {'neg': 0.065, 'neu': 0.87, 'pos': 0.065, 'compound': 0.25},\n",
       " {'neg': 0.215, 'neu': 0.697, 'pos': 0.088, 'compound': -0.7592},\n",
       " {'neg': 0.054, 'neu': 0.798, 'pos': 0.148, 'compound': 0.9226},\n",
       " {'neg': 0.209, 'neu': 0.791, 'pos': 0.0, 'compound': -0.5719},\n",
       " {'neg': 0.069, 'neu': 0.776, 'pos': 0.155, 'compound': 0.2715},\n",
       " {'neg': 0.0, 'neu': 0.692, 'pos': 0.308, 'compound': 0.5346},\n",
       " {'neg': 0.061, 'neu': 0.824, 'pos': 0.115, 'compound': 0.4509},\n",
       " {'neg': 0.064, 'neu': 0.802, 'pos': 0.134, 'compound': 0.5859},\n",
       " {'neg': 0.0, 'neu': 1.0, 'pos': 0.0, 'compound': 0.0},\n",
       " {'neg': 0.0, 'neu': 0.893, 'pos': 0.107, 'compound': 0.4215},\n",
       " {'neg': 0.101, 'neu': 0.716, 'pos': 0.183, 'compound': 0.9157},\n",
       " {'neg': 0.041, 'neu': 0.825, 'pos': 0.134, 'compound': 0.8958},\n",
       " {'neg': 0.688, 'neu': 0.312, 'pos': 0.0, 'compound': -0.296},\n",
       " {'neg': 0.092, 'neu': 0.716, 'pos': 0.192, 'compound': 0.7684},\n",
       " {'neg': 0.168, 'neu': 0.757, 'pos': 0.075, 'compound': -0.6208},\n",
       " {'neg': 0.067, 'neu': 0.835, 'pos': 0.098, 'compound': 0.1154},\n",
       " {'neg': 0.059, 'neu': 0.804, 'pos': 0.138, 'compound': 0.8291},\n",
       " {'neg': 0.069, 'neu': 0.884, 'pos': 0.047, 'compound': -0.631},\n",
       " {'neg': 0.034, 'neu': 0.875, 'pos': 0.091, 'compound': 0.6146},\n",
       " {'neg': 0.0, 'neu': 0.944, 'pos': 0.056, 'compound': 0.6059},\n",
       " {'neg': 0.048, 'neu': 0.803, 'pos': 0.149, 'compound': 0.7488},\n",
       " {'neg': 0.0, 'neu': 0.802, 'pos': 0.198, 'compound': 0.836},\n",
       " {'neg': 0.0, 'neu': 0.802, 'pos': 0.198, 'compound': 0.952},\n",
       " {'neg': 0.0, 'neu': 0.764, 'pos': 0.236, 'compound': 0.9011},\n",
       " {'neg': 0.063, 'neu': 0.771, 'pos': 0.166, 'compound': 0.8778},\n",
       " {'neg': 0.173, 'neu': 0.749, 'pos': 0.077, 'compound': -0.4537},\n",
       " {'neg': 0.163, 'neu': 0.709, 'pos': 0.128, 'compound': 0.0849},\n",
       " {'neg': 0.0, 'neu': 0.772, 'pos': 0.228, 'compound': 0.7351},\n",
       " {'neg': 0.044, 'neu': 0.895, 'pos': 0.061, 'compound': 0.3979},\n",
       " {'neg': 0.063, 'neu': 0.835, 'pos': 0.102, 'compound': 0.6646},\n",
       " {'neg': 0.122, 'neu': 0.737, 'pos': 0.141, 'compound': 0.4404},\n",
       " {'neg': 0.062, 'neu': 0.796, 'pos': 0.142, 'compound': 0.8016},\n",
       " {'neg': 0.027, 'neu': 0.831, 'pos': 0.143, 'compound': 0.7906},\n",
       " {'neg': 0.0, 'neu': 0.819, 'pos': 0.181, 'compound': 0.8901},\n",
       " {'neg': 0.032, 'neu': 0.691, 'pos': 0.277, 'compound': 0.9551},\n",
       " {'neg': 0.076, 'neu': 0.645, 'pos': 0.279, 'compound': 0.7845},\n",
       " {'neg': 0.298, 'neu': 0.614, 'pos': 0.088, 'compound': -0.9435},\n",
       " {'neg': 0.088, 'neu': 0.803, 'pos': 0.109, 'compound': 0.4539},\n",
       " {'neg': 0.042, 'neu': 0.92, 'pos': 0.038, 'compound': -0.0559},\n",
       " {'neg': 0.104, 'neu': 0.806, 'pos': 0.091, 'compound': -0.191},\n",
       " {'neg': 0.039, 'neu': 0.826, 'pos': 0.134, 'compound': 0.8934},\n",
       " {'neg': 0.0, 'neu': 0.73, 'pos': 0.27, 'compound': 0.866},\n",
       " {'neg': 0.11, 'neu': 0.8, 'pos': 0.09, 'compound': 0.3781},\n",
       " {'neg': 0.0, 'neu': 0.801, 'pos': 0.199, 'compound': 0.7351},\n",
       " {'neg': 0.047, 'neu': 0.712, 'pos': 0.241, 'compound': 0.8286},\n",
       " {'neg': 0.063, 'neu': 0.721, 'pos': 0.217, 'compound': 0.9489},\n",
       " {'neg': 0.018, 'neu': 0.89, 'pos': 0.092, 'compound': 0.7717},\n",
       " {'neg': 0.0, 'neu': 0.756, 'pos': 0.244, 'compound': 0.9352},\n",
       " {'neg': 0.067, 'neu': 0.887, 'pos': 0.046, 'compound': -0.2382},\n",
       " {'neg': 0.0, 'neu': 0.792, 'pos': 0.208, 'compound': 0.9729},\n",
       " {'neg': 0.065, 'neu': 0.935, 'pos': 0.0, 'compound': -0.2732},\n",
       " {'neg': 0.234, 'neu': 0.69, 'pos': 0.076, 'compound': -0.5093},\n",
       " {'neg': 0.06, 'neu': 0.795, 'pos': 0.145, 'compound': 0.8755},\n",
       " {'neg': 0.108, 'neu': 0.846, 'pos': 0.046, 'compound': -0.6618},\n",
       " {'neg': 0.039, 'neu': 0.725, 'pos': 0.236, 'compound': 0.925},\n",
       " {'neg': 0.162, 'neu': 0.763, 'pos': 0.075, 'compound': -0.431},\n",
       " {'neg': 0.151, 'neu': 0.753, 'pos': 0.096, 'compound': -0.8054},\n",
       " {'neg': 0.117, 'neu': 0.837, 'pos': 0.046, 'compound': -0.2978},\n",
       " {'neg': 0.0, 'neu': 0.865, 'pos': 0.135, 'compound': 0.6119},\n",
       " {'neg': 0.047, 'neu': 0.823, 'pos': 0.13, 'compound': 0.8123},\n",
       " {'neg': 0.112, 'neu': 0.742, 'pos': 0.146, 'compound': 0.5972},\n",
       " {'neg': 0.038, 'neu': 0.791, 'pos': 0.17, 'compound': 0.9214},\n",
       " {'neg': 0.039, 'neu': 0.819, 'pos': 0.142, 'compound': 0.8633},\n",
       " {'neg': 0.0, 'neu': 0.965, 'pos': 0.035, 'compound': 0.2263},\n",
       " {'neg': 0.051, 'neu': 0.719, 'pos': 0.23, 'compound': 0.9282},\n",
       " {'neg': 0.049, 'neu': 0.887, 'pos': 0.064, 'compound': 0.3716},\n",
       " {'neg': 0.0, 'neu': 0.877, 'pos': 0.123, 'compound': 0.5187},\n",
       " {'neg': 0.082, 'neu': 0.816, 'pos': 0.103, 'compound': 0.2023},\n",
       " {'neg': 0.033, 'neu': 0.879, 'pos': 0.088, 'compound': 0.5108},\n",
       " {'neg': 0.0, 'neu': 0.692, 'pos': 0.308, 'compound': 0.9299},\n",
       " {'neg': 0.053, 'neu': 0.821, 'pos': 0.126, 'compound': 0.7183},\n",
       " {'neg': 0.175, 'neu': 0.74, 'pos': 0.086, 'compound': -0.4588},\n",
       " {'neg': 0.081, 'neu': 0.829, 'pos': 0.09, 'compound': 0.448},\n",
       " {'neg': 0.097, 'neu': 0.729, 'pos': 0.174, 'compound': 0.7417},\n",
       " {'neg': 0.056, 'neu': 0.834, 'pos': 0.111, 'compound': 0.2942},\n",
       " {'neg': 0.0, 'neu': 1.0, 'pos': 0.0, 'compound': 0.0},\n",
       " {'neg': 0.0, 'neu': 0.83, 'pos': 0.17, 'compound': 0.765},\n",
       " {'neg': 0.113, 'neu': 0.749, 'pos': 0.138, 'compound': 0.4092},\n",
       " {'neg': 0.0, 'neu': 0.88, 'pos': 0.12, 'compound': 0.7424},\n",
       " {'neg': 0.082, 'neu': 0.822, 'pos': 0.096, 'compound': 0.1043},\n",
       " ...]"
      ]
     },
     "execution_count": 85,
     "metadata": {},
     "output_type": "execute_result"
    }
   ],
   "source": [
    "# find out the score for each review_text\n",
    "\n",
    "analyzer = SentimentIntensityAnalyzer()\n",
    "score_result = []\n",
    "for sentence in review_train['Review_Text']:\n",
    "    vs = analyzer.polarity_scores(sentence)\n",
    "    score_result.append(vs)\n",
    "    \n",
    "score_result\n",
    "\n",
    "# https://github.com/cjhutto/vaderSentiment"
   ]
  },
  {
   "cell_type": "code",
   "execution_count": 86,
   "metadata": {},
   "outputs": [
    {
     "data": {
      "text/plain": [
       "['compound',\n",
       " 'neu',\n",
       " 'neu',\n",
       " 'neu',\n",
       " 'neu',\n",
       " 'neu',\n",
       " 'compound',\n",
       " 'neu',\n",
       " 'compound',\n",
       " 'neu',\n",
       " 'neu',\n",
       " 'neu',\n",
       " 'neu',\n",
       " 'compound',\n",
       " 'neu',\n",
       " 'neu',\n",
       " 'compound',\n",
       " 'neu',\n",
       " 'neu',\n",
       " 'neu',\n",
       " 'compound',\n",
       " 'neu',\n",
       " 'neu',\n",
       " 'neu',\n",
       " 'neu',\n",
       " 'compound',\n",
       " 'neu',\n",
       " 'compound',\n",
       " 'compound',\n",
       " 'compound',\n",
       " 'compound',\n",
       " 'compound',\n",
       " 'neu',\n",
       " 'neu',\n",
       " 'neu',\n",
       " 'neu',\n",
       " 'neu',\n",
       " 'compound',\n",
       " 'compound',\n",
       " 'neu',\n",
       " 'compound',\n",
       " 'neu',\n",
       " 'compound',\n",
       " 'compound',\n",
       " 'neu',\n",
       " 'neu',\n",
       " 'neu',\n",
       " 'compound',\n",
       " 'neu',\n",
       " 'compound',\n",
       " 'neu',\n",
       " 'neu',\n",
       " 'neu',\n",
       " 'compound',\n",
       " 'neu',\n",
       " 'neu',\n",
       " 'neu',\n",
       " 'compound',\n",
       " 'neu',\n",
       " 'neu',\n",
       " 'neu',\n",
       " 'neu',\n",
       " 'compound',\n",
       " 'neg',\n",
       " 'compound',\n",
       " 'neu',\n",
       " 'neu',\n",
       " 'neu',\n",
       " 'compound',\n",
       " 'neu',\n",
       " 'neu',\n",
       " 'compound',\n",
       " 'compound',\n",
       " 'compound',\n",
       " 'neu',\n",
       " 'compound',\n",
       " 'neu',\n",
       " 'neu',\n",
       " 'compound',\n",
       " 'neg',\n",
       " 'neu',\n",
       " 'neu',\n",
       " 'compound',\n",
       " 'neu',\n",
       " 'neu',\n",
       " 'neu',\n",
       " 'neu',\n",
       " 'neu',\n",
       " 'neu',\n",
       " 'neu',\n",
       " 'neu',\n",
       " 'compound',\n",
       " 'neu',\n",
       " 'neu',\n",
       " 'neu',\n",
       " 'compound',\n",
       " 'neu',\n",
       " 'neu',\n",
       " 'compound',\n",
       " 'neu',\n",
       " 'compound',\n",
       " 'neu',\n",
       " 'neu',\n",
       " 'compound',\n",
       " 'neu',\n",
       " 'neu',\n",
       " 'neu',\n",
       " 'neu',\n",
       " 'compound',\n",
       " 'neu',\n",
       " 'neu',\n",
       " 'neu',\n",
       " 'neu',\n",
       " 'neu',\n",
       " 'neu',\n",
       " 'neu',\n",
       " 'compound',\n",
       " 'neu',\n",
       " 'compound',\n",
       " 'neu',\n",
       " 'neu',\n",
       " 'compound',\n",
       " 'neu',\n",
       " 'neu',\n",
       " 'neu',\n",
       " 'compound',\n",
       " 'compound',\n",
       " 'neu',\n",
       " 'compound',\n",
       " 'compound',\n",
       " 'neu',\n",
       " 'compound',\n",
       " 'compound',\n",
       " 'compound',\n",
       " 'neu',\n",
       " 'compound',\n",
       " 'compound',\n",
       " 'neg',\n",
       " 'neu',\n",
       " 'neu',\n",
       " 'compound',\n",
       " 'neu',\n",
       " 'neu',\n",
       " 'neu',\n",
       " 'compound',\n",
       " 'neu',\n",
       " 'neu',\n",
       " 'neu',\n",
       " 'neu',\n",
       " 'compound',\n",
       " 'neu',\n",
       " 'compound',\n",
       " 'compound',\n",
       " 'compound',\n",
       " 'neu',\n",
       " 'neu',\n",
       " 'neu',\n",
       " 'compound',\n",
       " 'neu',\n",
       " 'compound',\n",
       " 'neu',\n",
       " 'neu',\n",
       " 'neu',\n",
       " 'compound',\n",
       " 'neu',\n",
       " 'compound',\n",
       " 'compound',\n",
       " 'compound',\n",
       " 'neu',\n",
       " 'neu',\n",
       " 'neu',\n",
       " 'neu',\n",
       " 'neu',\n",
       " 'neu',\n",
       " 'neu',\n",
       " 'neg',\n",
       " 'neu',\n",
       " 'neu',\n",
       " 'neu',\n",
       " 'compound',\n",
       " 'neu',\n",
       " 'neu',\n",
       " 'neu',\n",
       " 'compound',\n",
       " 'neu',\n",
       " 'compound',\n",
       " 'neu',\n",
       " 'neu',\n",
       " 'neu',\n",
       " 'neu',\n",
       " 'neu',\n",
       " 'compound',\n",
       " 'compound',\n",
       " 'neu',\n",
       " 'compound',\n",
       " 'neu',\n",
       " 'compound',\n",
       " 'neu',\n",
       " 'neu',\n",
       " 'compound',\n",
       " 'neu',\n",
       " 'neu',\n",
       " 'neu',\n",
       " 'neu',\n",
       " 'neu',\n",
       " 'neu',\n",
       " 'neu',\n",
       " 'neu',\n",
       " 'compound',\n",
       " 'neu',\n",
       " 'neu',\n",
       " 'neu',\n",
       " 'neu',\n",
       " 'neu',\n",
       " 'neu',\n",
       " 'compound',\n",
       " 'neu',\n",
       " 'neu',\n",
       " 'neu',\n",
       " 'neu',\n",
       " 'neu',\n",
       " 'neu',\n",
       " 'neu',\n",
       " 'compound',\n",
       " 'neu',\n",
       " 'compound',\n",
       " 'neu',\n",
       " 'compound',\n",
       " 'compound',\n",
       " 'neu',\n",
       " 'neu',\n",
       " 'neg',\n",
       " 'neu',\n",
       " 'neu',\n",
       " 'neu',\n",
       " 'neu',\n",
       " 'compound',\n",
       " 'neu',\n",
       " 'compound',\n",
       " 'neu',\n",
       " 'neu',\n",
       " 'neu',\n",
       " 'neu',\n",
       " 'neu',\n",
       " 'neu',\n",
       " 'neu',\n",
       " 'neg',\n",
       " 'compound',\n",
       " 'neu',\n",
       " 'compound',\n",
       " 'neu',\n",
       " 'compound',\n",
       " 'neu',\n",
       " 'neu',\n",
       " 'neu',\n",
       " 'neu',\n",
       " 'neu',\n",
       " 'compound',\n",
       " 'neu',\n",
       " 'compound',\n",
       " 'neu',\n",
       " 'compound',\n",
       " 'compound',\n",
       " 'compound',\n",
       " 'compound',\n",
       " 'neu',\n",
       " 'compound',\n",
       " 'neg',\n",
       " 'compound',\n",
       " 'compound',\n",
       " 'neu',\n",
       " 'compound',\n",
       " 'compound',\n",
       " 'compound',\n",
       " 'neu',\n",
       " 'compound',\n",
       " 'neu',\n",
       " 'neu',\n",
       " 'neu',\n",
       " 'neu',\n",
       " 'neu',\n",
       " 'neu',\n",
       " 'compound',\n",
       " 'neg',\n",
       " 'neu',\n",
       " 'neu',\n",
       " 'neu',\n",
       " 'neu',\n",
       " 'neu',\n",
       " 'neu',\n",
       " 'neg',\n",
       " 'neu',\n",
       " 'neu',\n",
       " 'neu',\n",
       " 'neu',\n",
       " 'neu',\n",
       " 'compound',\n",
       " 'compound',\n",
       " 'neu',\n",
       " 'neu',\n",
       " 'neu',\n",
       " 'neu',\n",
       " 'neu',\n",
       " 'neu',\n",
       " 'neu',\n",
       " 'neu',\n",
       " 'compound',\n",
       " 'compound',\n",
       " 'neu',\n",
       " 'compound',\n",
       " 'compound',\n",
       " 'compound',\n",
       " 'neu',\n",
       " 'neu',\n",
       " 'compound',\n",
       " 'compound',\n",
       " 'neu',\n",
       " 'compound',\n",
       " 'neu',\n",
       " 'neu',\n",
       " 'neu',\n",
       " 'neu',\n",
       " 'compound',\n",
       " 'neu',\n",
       " 'neu',\n",
       " 'compound',\n",
       " 'neu',\n",
       " 'compound',\n",
       " 'compound',\n",
       " 'compound',\n",
       " 'compound',\n",
       " 'compound',\n",
       " 'compound',\n",
       " 'neu',\n",
       " 'compound',\n",
       " 'neu',\n",
       " 'neu',\n",
       " 'neu',\n",
       " 'compound',\n",
       " 'neu',\n",
       " 'compound',\n",
       " 'compound',\n",
       " 'neu',\n",
       " 'compound',\n",
       " 'neu',\n",
       " 'neu',\n",
       " 'compound',\n",
       " 'neu',\n",
       " 'compound',\n",
       " 'neu',\n",
       " 'neu',\n",
       " 'compound',\n",
       " 'neu',\n",
       " 'compound',\n",
       " 'neu',\n",
       " 'neu',\n",
       " 'compound',\n",
       " 'compound',\n",
       " 'neu',\n",
       " 'neu',\n",
       " 'compound',\n",
       " 'compound',\n",
       " 'neu',\n",
       " 'neu',\n",
       " 'neu',\n",
       " 'compound',\n",
       " 'compound',\n",
       " 'neu',\n",
       " 'neu',\n",
       " 'neu',\n",
       " 'compound',\n",
       " 'neu',\n",
       " 'neu',\n",
       " 'neu',\n",
       " 'neu',\n",
       " 'neu',\n",
       " 'compound',\n",
       " 'neu',\n",
       " 'compound',\n",
       " 'compound',\n",
       " 'compound',\n",
       " 'neu',\n",
       " 'compound',\n",
       " 'compound',\n",
       " 'neu',\n",
       " 'neu',\n",
       " 'neu',\n",
       " 'neu',\n",
       " 'compound',\n",
       " 'neu',\n",
       " 'neu',\n",
       " 'neu',\n",
       " 'compound',\n",
       " 'compound',\n",
       " 'neu',\n",
       " 'neu',\n",
       " 'neu',\n",
       " 'neu',\n",
       " 'neu',\n",
       " 'compound',\n",
       " 'neu',\n",
       " 'neu',\n",
       " 'compound',\n",
       " 'compound',\n",
       " 'neu',\n",
       " 'neu',\n",
       " 'compound',\n",
       " 'neg',\n",
       " 'neu',\n",
       " 'neu',\n",
       " 'neu',\n",
       " 'neu',\n",
       " 'compound',\n",
       " 'compound',\n",
       " 'compound',\n",
       " 'compound',\n",
       " 'neu',\n",
       " 'neu',\n",
       " 'compound',\n",
       " 'neu',\n",
       " 'neu',\n",
       " 'neu',\n",
       " 'neu',\n",
       " 'compound',\n",
       " 'neu',\n",
       " 'neu',\n",
       " 'neu',\n",
       " 'compound',\n",
       " 'neu',\n",
       " 'neu',\n",
       " 'neu',\n",
       " 'neu',\n",
       " 'neu',\n",
       " 'compound',\n",
       " 'compound',\n",
       " 'compound',\n",
       " 'neu',\n",
       " 'neu',\n",
       " 'neu',\n",
       " 'neu',\n",
       " 'compound',\n",
       " 'neu',\n",
       " 'neu',\n",
       " 'neu',\n",
       " 'neu',\n",
       " 'compound',\n",
       " 'neg',\n",
       " 'neu',\n",
       " 'neu',\n",
       " 'neu',\n",
       " 'neu',\n",
       " 'neu',\n",
       " 'neu',\n",
       " 'compound',\n",
       " 'neu',\n",
       " 'compound',\n",
       " 'compound',\n",
       " 'neu',\n",
       " 'neu',\n",
       " 'neu',\n",
       " 'neu',\n",
       " 'compound',\n",
       " 'neu',\n",
       " 'neu',\n",
       " 'neu',\n",
       " 'compound',\n",
       " 'neu',\n",
       " 'neu',\n",
       " 'neu',\n",
       " 'neu',\n",
       " 'neu',\n",
       " 'neu',\n",
       " 'compound',\n",
       " 'neu',\n",
       " 'neu',\n",
       " 'neu',\n",
       " 'compound',\n",
       " 'neu',\n",
       " 'neu',\n",
       " 'neu',\n",
       " 'neu',\n",
       " 'compound',\n",
       " 'neu',\n",
       " 'neu',\n",
       " 'neu',\n",
       " 'neu',\n",
       " 'compound',\n",
       " 'compound',\n",
       " 'compound',\n",
       " 'neu',\n",
       " 'neu',\n",
       " 'neu',\n",
       " 'compound',\n",
       " 'neu',\n",
       " 'compound',\n",
       " 'neu',\n",
       " 'neu',\n",
       " 'neu',\n",
       " 'compound',\n",
       " 'neu',\n",
       " 'neu',\n",
       " 'compound',\n",
       " 'neu',\n",
       " 'neu',\n",
       " 'neu',\n",
       " 'neu',\n",
       " 'compound',\n",
       " 'neu',\n",
       " 'neu',\n",
       " 'neu',\n",
       " 'neu',\n",
       " 'neu',\n",
       " 'neu',\n",
       " 'compound',\n",
       " 'neu',\n",
       " 'compound',\n",
       " 'neu',\n",
       " 'neu',\n",
       " 'compound',\n",
       " 'neu',\n",
       " 'neu',\n",
       " 'neu',\n",
       " 'compound',\n",
       " 'neu',\n",
       " 'neu',\n",
       " 'neu',\n",
       " 'compound',\n",
       " 'neu',\n",
       " 'neu',\n",
       " 'compound',\n",
       " 'compound',\n",
       " 'neu',\n",
       " 'neu',\n",
       " 'compound',\n",
       " 'neu',\n",
       " 'neu',\n",
       " 'compound',\n",
       " 'neu',\n",
       " 'neu',\n",
       " 'compound',\n",
       " 'neu',\n",
       " 'neu',\n",
       " 'compound',\n",
       " 'compound',\n",
       " 'neu',\n",
       " 'compound',\n",
       " 'compound',\n",
       " 'compound',\n",
       " 'neg',\n",
       " 'neu',\n",
       " 'neu',\n",
       " 'neu',\n",
       " 'neu',\n",
       " 'neu',\n",
       " 'neu',\n",
       " 'neu',\n",
       " 'compound',\n",
       " 'neu',\n",
       " 'neu',\n",
       " 'compound',\n",
       " 'compound',\n",
       " 'neu',\n",
       " 'neu',\n",
       " 'compound',\n",
       " 'compound',\n",
       " 'neu',\n",
       " 'compound',\n",
       " 'compound',\n",
       " 'compound',\n",
       " 'neu',\n",
       " 'neu',\n",
       " 'neg',\n",
       " 'compound',\n",
       " 'neu',\n",
       " 'compound',\n",
       " 'compound',\n",
       " 'neu',\n",
       " 'compound',\n",
       " 'neu',\n",
       " 'neu',\n",
       " 'neu',\n",
       " 'neu',\n",
       " 'compound',\n",
       " 'neu',\n",
       " 'compound',\n",
       " 'compound',\n",
       " 'neu',\n",
       " 'neu',\n",
       " 'neu',\n",
       " 'neu',\n",
       " 'neu',\n",
       " 'compound',\n",
       " 'neu',\n",
       " 'compound',\n",
       " 'neu',\n",
       " 'neu',\n",
       " 'compound',\n",
       " 'compound',\n",
       " 'compound',\n",
       " 'neu',\n",
       " 'compound',\n",
       " 'neu',\n",
       " 'neu',\n",
       " 'compound',\n",
       " 'neu',\n",
       " 'neu',\n",
       " 'neu',\n",
       " 'compound',\n",
       " 'compound',\n",
       " 'neu',\n",
       " 'neu',\n",
       " 'neu',\n",
       " 'neu',\n",
       " 'neu',\n",
       " 'neu',\n",
       " 'compound',\n",
       " 'neu',\n",
       " 'compound',\n",
       " 'neu',\n",
       " 'neu',\n",
       " 'neu',\n",
       " 'neu',\n",
       " 'neu',\n",
       " 'neu',\n",
       " 'neu',\n",
       " 'neu',\n",
       " 'neu',\n",
       " 'neu',\n",
       " 'neu',\n",
       " 'neu',\n",
       " 'neu',\n",
       " 'neu',\n",
       " 'neu',\n",
       " 'neu',\n",
       " 'neu',\n",
       " 'neu',\n",
       " 'compound',\n",
       " 'neu',\n",
       " 'neu',\n",
       " 'neu',\n",
       " 'neu',\n",
       " 'compound',\n",
       " 'compound',\n",
       " 'compound',\n",
       " 'compound',\n",
       " 'neu',\n",
       " 'neu',\n",
       " 'neu',\n",
       " 'compound',\n",
       " 'neu',\n",
       " 'neu',\n",
       " 'neu',\n",
       " 'compound',\n",
       " 'neu',\n",
       " 'compound',\n",
       " 'neu',\n",
       " 'compound',\n",
       " 'neu',\n",
       " 'compound',\n",
       " 'neg',\n",
       " 'neu',\n",
       " 'compound',\n",
       " 'compound',\n",
       " 'compound',\n",
       " 'neu',\n",
       " 'neu',\n",
       " 'neu',\n",
       " 'neu',\n",
       " 'neu',\n",
       " 'neu',\n",
       " 'compound',\n",
       " 'neu',\n",
       " 'compound',\n",
       " 'neu',\n",
       " 'neu',\n",
       " 'neu',\n",
       " 'neu',\n",
       " 'neu',\n",
       " 'compound',\n",
       " 'neu',\n",
       " 'compound',\n",
       " 'neu',\n",
       " 'neu',\n",
       " 'neu',\n",
       " 'neu',\n",
       " 'neu',\n",
       " 'neu',\n",
       " 'neu',\n",
       " 'compound',\n",
       " 'neu',\n",
       " 'neu',\n",
       " 'neu',\n",
       " 'neu',\n",
       " 'neu',\n",
       " 'neu',\n",
       " 'neg',\n",
       " 'neu',\n",
       " 'compound',\n",
       " 'neu',\n",
       " 'compound',\n",
       " 'neu',\n",
       " 'neu',\n",
       " 'neu',\n",
       " 'neg',\n",
       " 'neu',\n",
       " 'neu',\n",
       " 'compound',\n",
       " 'neu',\n",
       " 'compound',\n",
       " 'neu',\n",
       " 'compound',\n",
       " 'compound',\n",
       " 'compound',\n",
       " 'neu',\n",
       " 'compound',\n",
       " 'compound',\n",
       " 'neu',\n",
       " 'neu',\n",
       " 'compound',\n",
       " 'compound',\n",
       " 'neu',\n",
       " 'neu',\n",
       " 'compound',\n",
       " 'compound',\n",
       " 'neu',\n",
       " 'compound',\n",
       " 'neu',\n",
       " 'neu',\n",
       " 'neu',\n",
       " 'compound',\n",
       " 'compound',\n",
       " 'compound',\n",
       " 'compound',\n",
       " 'compound',\n",
       " 'neu',\n",
       " 'neu',\n",
       " 'compound',\n",
       " 'neu',\n",
       " 'neu',\n",
       " 'compound',\n",
       " 'neu',\n",
       " 'neu',\n",
       " 'neu',\n",
       " 'compound',\n",
       " 'compound',\n",
       " 'neu',\n",
       " 'neu',\n",
       " 'compound',\n",
       " 'compound',\n",
       " 'compound',\n",
       " 'neu',\n",
       " 'neu',\n",
       " 'neu',\n",
       " 'compound',\n",
       " 'neu',\n",
       " 'neu',\n",
       " 'neu',\n",
       " 'neu',\n",
       " 'neu',\n",
       " 'neu',\n",
       " 'compound',\n",
       " 'neu',\n",
       " 'neu',\n",
       " 'neu',\n",
       " 'neu',\n",
       " 'neu',\n",
       " 'compound',\n",
       " 'neu',\n",
       " 'neu',\n",
       " 'compound',\n",
       " 'compound',\n",
       " 'neu',\n",
       " 'compound',\n",
       " 'compound',\n",
       " 'neu',\n",
       " 'neu',\n",
       " 'compound',\n",
       " 'neu',\n",
       " 'neu',\n",
       " 'compound',\n",
       " 'neu',\n",
       " 'compound',\n",
       " 'neu',\n",
       " 'neu',\n",
       " 'neu',\n",
       " 'neu',\n",
       " 'neu',\n",
       " 'neu',\n",
       " 'compound',\n",
       " 'neu',\n",
       " 'compound',\n",
       " 'neu',\n",
       " 'neu',\n",
       " 'neg',\n",
       " 'neu',\n",
       " 'compound',\n",
       " 'compound',\n",
       " 'compound',\n",
       " 'neu',\n",
       " 'compound',\n",
       " 'compound',\n",
       " 'compound',\n",
       " 'neu',\n",
       " 'compound',\n",
       " 'neu',\n",
       " 'compound',\n",
       " 'compound',\n",
       " 'neu',\n",
       " 'neu',\n",
       " 'compound',\n",
       " 'neu',\n",
       " 'compound',\n",
       " 'neu',\n",
       " 'neu',\n",
       " 'neu',\n",
       " 'neu',\n",
       " 'compound',\n",
       " 'neu',\n",
       " 'neu',\n",
       " 'compound',\n",
       " 'neu',\n",
       " 'compound',\n",
       " 'compound',\n",
       " 'compound',\n",
       " 'compound',\n",
       " 'neu',\n",
       " 'neu',\n",
       " 'compound',\n",
       " 'neu',\n",
       " 'compound',\n",
       " 'neu',\n",
       " 'neu',\n",
       " 'neu',\n",
       " 'neu',\n",
       " 'neu',\n",
       " 'neu',\n",
       " 'compound',\n",
       " 'neu',\n",
       " 'neu',\n",
       " 'neu',\n",
       " 'neu',\n",
       " 'compound',\n",
       " 'compound',\n",
       " 'neu',\n",
       " 'neu',\n",
       " 'neu',\n",
       " 'compound',\n",
       " 'compound',\n",
       " 'neu',\n",
       " 'neu',\n",
       " 'neu',\n",
       " 'neu',\n",
       " 'neu',\n",
       " 'neu',\n",
       " 'compound',\n",
       " 'compound',\n",
       " 'neu',\n",
       " 'compound',\n",
       " 'neu',\n",
       " 'compound',\n",
       " 'neu',\n",
       " 'neu',\n",
       " 'neu',\n",
       " 'neu',\n",
       " 'neu',\n",
       " 'neu',\n",
       " 'compound',\n",
       " 'compound',\n",
       " 'neu',\n",
       " 'compound',\n",
       " 'neu',\n",
       " 'neu',\n",
       " 'neu',\n",
       " 'neu',\n",
       " 'neu',\n",
       " 'neu',\n",
       " 'compound',\n",
       " 'neu',\n",
       " 'neu',\n",
       " 'neu',\n",
       " 'neu',\n",
       " 'neu',\n",
       " 'neu',\n",
       " 'neu',\n",
       " 'compound',\n",
       " 'neu',\n",
       " 'neu',\n",
       " 'neu',\n",
       " 'neu',\n",
       " 'neu',\n",
       " 'neu',\n",
       " 'neu',\n",
       " 'neu',\n",
       " 'neu',\n",
       " 'neu',\n",
       " 'compound',\n",
       " 'compound',\n",
       " 'neu',\n",
       " 'compound',\n",
       " 'neu',\n",
       " 'neu',\n",
       " 'compound',\n",
       " 'neu',\n",
       " 'neu',\n",
       " 'neu',\n",
       " 'neu',\n",
       " 'neu',\n",
       " 'neu',\n",
       " 'compound',\n",
       " 'neu',\n",
       " 'neu',\n",
       " 'neu',\n",
       " 'neu',\n",
       " 'neu',\n",
       " 'neu',\n",
       " 'compound',\n",
       " 'neu',\n",
       " 'neu',\n",
       " 'compound',\n",
       " 'compound',\n",
       " 'neu',\n",
       " 'neu',\n",
       " 'compound',\n",
       " 'neu',\n",
       " 'neu',\n",
       " 'neu',\n",
       " 'neu',\n",
       " 'neu',\n",
       " 'neu',\n",
       " 'neu',\n",
       " 'compound',\n",
       " 'compound',\n",
       " 'neg',\n",
       " 'compound',\n",
       " 'neu',\n",
       " 'neu',\n",
       " 'compound',\n",
       " 'neu',\n",
       " 'neu',\n",
       " 'neu',\n",
       " 'neu',\n",
       " 'compound',\n",
       " 'compound',\n",
       " 'compound',\n",
       " 'compound',\n",
       " 'neu',\n",
       " 'neu',\n",
       " 'neu',\n",
       " 'neu',\n",
       " 'neu',\n",
       " 'neu',\n",
       " 'compound',\n",
       " 'neu',\n",
       " 'compound',\n",
       " 'compound',\n",
       " 'compound',\n",
       " 'neu',\n",
       " 'neu',\n",
       " 'neu',\n",
       " 'neu',\n",
       " 'compound',\n",
       " 'compound',\n",
       " 'neu',\n",
       " 'neu',\n",
       " 'compound',\n",
       " 'compound',\n",
       " 'neu',\n",
       " 'compound',\n",
       " 'neu',\n",
       " 'compound',\n",
       " 'neu',\n",
       " 'neu',\n",
       " 'compound',\n",
       " 'neu',\n",
       " 'compound',\n",
       " 'neu',\n",
       " 'neu',\n",
       " 'neu',\n",
       " 'neu',\n",
       " 'neu',\n",
       " 'neu',\n",
       " 'compound',\n",
       " 'compound',\n",
       " 'neu',\n",
       " 'compound',\n",
       " 'neu',\n",
       " 'neu',\n",
       " 'neu',\n",
       " 'neu',\n",
       " 'compound',\n",
       " 'neu',\n",
       " 'neu',\n",
       " 'neu',\n",
       " 'compound',\n",
       " 'neu',\n",
       " 'neu',\n",
       " 'neu',\n",
       " 'neu',\n",
       " 'neu',\n",
       " 'neu',\n",
       " ...]"
      ]
     },
     "execution_count": 86,
     "metadata": {},
     "output_type": "execute_result"
    }
   ],
   "source": [
    "# find out the max(neg, neu, pos, compound) for each review\n",
    "import operator\n",
    "review_score = []\n",
    "for i in range(len(score_result)):\n",
    "    review_score.append(max(score_result[i].items(), key=operator.itemgetter(1))[0])\n",
    "    \n",
    "review_score\n",
    "\n",
    "# https://stackoverflow.com/questions/268272/getting-key-with-maximum-value-in-dictionary"
   ]
  },
  {
   "cell_type": "code",
   "execution_count": 87,
   "metadata": {},
   "outputs": [
    {
     "data": {
      "text/plain": [
       "compound    10787\n",
       "neu          4943\n",
       "neg           599\n",
       "pos            11\n",
       "dtype: int64"
      ]
     },
     "execution_count": 87,
     "metadata": {},
     "output_type": "execute_result"
    }
   ],
   "source": [
    "# count number of each unique value and convert the list to a series\n",
    "rtext_score = pd.Series(review_score)\n",
    "rtext_score.value_counts()"
   ]
  },
  {
   "cell_type": "code",
   "execution_count": 88,
   "metadata": {},
   "outputs": [
    {
     "data": {
      "text/html": [
       "<div>\n",
       "<style scoped>\n",
       "    .dataframe tbody tr th:only-of-type {\n",
       "        vertical-align: middle;\n",
       "    }\n",
       "\n",
       "    .dataframe tbody tr th {\n",
       "        vertical-align: top;\n",
       "    }\n",
       "\n",
       "    .dataframe thead th {\n",
       "        text-align: right;\n",
       "    }\n",
       "</style>\n",
       "<table border=\"1\" class=\"dataframe\">\n",
       "  <thead>\n",
       "    <tr style=\"text-align: right;\">\n",
       "      <th></th>\n",
       "      <th>ID</th>\n",
       "      <th>Product_ID</th>\n",
       "      <th>Age</th>\n",
       "      <th>Review_Text</th>\n",
       "      <th>Department</th>\n",
       "      <th>Age_interval</th>\n",
       "      <th>rtext_score</th>\n",
       "      <th>Recommended</th>\n",
       "    </tr>\n",
       "  </thead>\n",
       "  <tbody>\n",
       "    <tr>\n",
       "      <th>5</th>\n",
       "      <td>19166</td>\n",
       "      <td>1121</td>\n",
       "      <td>25</td>\n",
       "      <td>I knew i needed to buy this trench from the mo...</td>\n",
       "      <td>Jackets</td>\n",
       "      <td>(20, 30]</td>\n",
       "      <td>neu</td>\n",
       "      <td>0</td>\n",
       "    </tr>\n",
       "    <tr>\n",
       "      <th>10</th>\n",
       "      <td>19003</td>\n",
       "      <td>1052</td>\n",
       "      <td>42</td>\n",
       "      <td>Great color and quality but very boxy. even wi...</td>\n",
       "      <td>Bottoms</td>\n",
       "      <td>(40, 50]</td>\n",
       "      <td>neu</td>\n",
       "      <td>0</td>\n",
       "    </tr>\n",
       "    <tr>\n",
       "      <th>12</th>\n",
       "      <td>4282</td>\n",
       "      <td>1081</td>\n",
       "      <td>53</td>\n",
       "      <td>I like the fabric - very smooth and feels nice...</td>\n",
       "      <td>Dresses</td>\n",
       "      <td>(50, 60]</td>\n",
       "      <td>neu</td>\n",
       "      <td>0</td>\n",
       "    </tr>\n",
       "    <tr>\n",
       "      <th>14</th>\n",
       "      <td>23287</td>\n",
       "      <td>823</td>\n",
       "      <td>45</td>\n",
       "      <td>This is a gorgeous print, but i found it too f...</td>\n",
       "      <td>Tops</td>\n",
       "      <td>(40, 50]</td>\n",
       "      <td>neu</td>\n",
       "      <td>0</td>\n",
       "    </tr>\n",
       "    <tr>\n",
       "      <th>25</th>\n",
       "      <td>20217</td>\n",
       "      <td>1078</td>\n",
       "      <td>48</td>\n",
       "      <td>Wanted to love this dress, bit it wasn't to be...</td>\n",
       "      <td>Dresses</td>\n",
       "      <td>(40, 50]</td>\n",
       "      <td>compound</td>\n",
       "      <td>0</td>\n",
       "    </tr>\n",
       "  </tbody>\n",
       "</table>\n",
       "</div>"
      ],
      "text/plain": [
       "       ID  Product_ID  Age                                        Review_Text  \\\n",
       "5   19166        1121   25  I knew i needed to buy this trench from the mo...   \n",
       "10  19003        1052   42  Great color and quality but very boxy. even wi...   \n",
       "12   4282        1081   53  I like the fabric - very smooth and feels nice...   \n",
       "14  23287         823   45  This is a gorgeous print, but i found it too f...   \n",
       "25  20217        1078   48  Wanted to love this dress, bit it wasn't to be...   \n",
       "\n",
       "   Department Age_interval rtext_score  Recommended  \n",
       "5     Jackets     (20, 30]         neu            0  \n",
       "10    Bottoms     (40, 50]         neu            0  \n",
       "12    Dresses     (50, 60]         neu            0  \n",
       "14       Tops     (40, 50]         neu            0  \n",
       "25    Dresses     (40, 50]    compound            0  "
      ]
     },
     "execution_count": 88,
     "metadata": {},
     "output_type": "execute_result"
    }
   ],
   "source": [
    "# add the new series and the series recommended in the review_train to the created dataset for the following analysis\n",
    "customers_beh['rtext_score'] = rtext_score\n",
    "customers_beh['Recommended'] = review_train['Recommended']\n",
    "customers_beh.head()"
   ]
  },
  {
   "cell_type": "code",
   "execution_count": 89,
   "metadata": {},
   "outputs": [
    {
     "data": {
      "image/png": "[encoded data removed]",
      "text/plain": [
       "<Figure size 720x360 with 1 Axes>"
      ]
     },
     "metadata": {
      "needs_background": "light"
     },
     "output_type": "display_data"
    }
   ],
   "source": [
    "# distribution of age group across review\n",
    "x_value = pd.crosstab(customers_beh['Age_interval'],customers_beh['rtext_score']).sort_values(\n",
    "    by = 'compound', ascending = False)\n",
    "plt.figure(figsize=(10,5))\n",
    "plt.bar(x_value.index, x_value['compound'], label = 'compound')\n",
    "plt.bar(x_value.index, x_value['neu'], label = 'neu')\n",
    "plt.bar(x_value.index, x_value['neg'], label = 'neg')\n",
    "plt.bar(x_value.index, x_value['pos'], label = 'pos')\n",
    "plt.title('Reviewing behaviour for different age group', fontsize = 18)\n",
    "plt.xticks(rotation = 60)\n",
    "plt.xlabel('Age group')\n",
    "plt.ylabel('Count')\n",
    "plt.legend()\n",
    "plt.show()"
   ]
  },
  {
   "cell_type": "code",
   "execution_count": 90,
   "metadata": {},
   "outputs": [
    {
     "data": {
      "text/html": [
       "<div>\n",
       "<style scoped>\n",
       "    .dataframe tbody tr th:only-of-type {\n",
       "        vertical-align: middle;\n",
       "    }\n",
       "\n",
       "    .dataframe tbody tr th {\n",
       "        vertical-align: top;\n",
       "    }\n",
       "\n",
       "    .dataframe thead th {\n",
       "        text-align: right;\n",
       "    }\n",
       "</style>\n",
       "<table border=\"1\" class=\"dataframe\">\n",
       "  <thead>\n",
       "    <tr style=\"text-align: right;\">\n",
       "      <th>rtext_score</th>\n",
       "      <th>compound</th>\n",
       "      <th>neg</th>\n",
       "      <th>neu</th>\n",
       "      <th>pos</th>\n",
       "    </tr>\n",
       "    <tr>\n",
       "      <th>Recommended</th>\n",
       "      <th></th>\n",
       "      <th></th>\n",
       "      <th></th>\n",
       "      <th></th>\n",
       "    </tr>\n",
       "  </thead>\n",
       "  <tbody>\n",
       "    <tr>\n",
       "      <th>0</th>\n",
       "      <td>1884</td>\n",
       "      <td>109</td>\n",
       "      <td>868</td>\n",
       "      <td>2</td>\n",
       "    </tr>\n",
       "    <tr>\n",
       "      <th>1</th>\n",
       "      <td>8834</td>\n",
       "      <td>490</td>\n",
       "      <td>4044</td>\n",
       "      <td>9</td>\n",
       "    </tr>\n",
       "  </tbody>\n",
       "</table>\n",
       "</div>"
      ],
      "text/plain": [
       "rtext_score  compound  neg   neu  pos\n",
       "Recommended                          \n",
       "0                1884  109   868    2\n",
       "1                8834  490  4044    9"
      ]
     },
     "execution_count": 90,
     "metadata": {},
     "output_type": "execute_result"
    }
   ],
   "source": [
    "# check the compound, neg, neu, pos value for recommended and non-recommended seperately\n",
    "pd.crosstab(customers_beh['Recommended'],customers_beh['rtext_score'])"
   ]
  },
  {
   "cell_type": "code",
   "execution_count": 91,
   "metadata": {},
   "outputs": [
    {
     "data": {
      "image/png": "[encoded data removed]",
      "text/plain": [
       "<Figure size 432x288 with 1 Axes>"
      ]
     },
     "metadata": {
      "needs_background": "light"
     },
     "output_type": "display_data"
    }
   ],
   "source": [
    "# distribution of review for recommended and nonrecommended\n",
    "x_value = pd.crosstab(customers_beh['rtext_score'],customers_beh['Recommended']).sort_values(by = 1, ascending = False)\n",
    "plt.bar(x_value.index, x_value[1], label = 'Recommended')\n",
    "plt.bar(x_value.index, x_value[0], label = 'Non-recommended')\n",
    "plt.title('Distribution of review_text score', fontsize = 18)\n",
    "plt.xticks(rotation = 60)\n",
    "plt.xlabel('Review')\n",
    "plt.ylabel('Count')\n",
    "plt.legend()\n",
    "plt.show()"
   ]
  },
  {
   "cell_type": "markdown",
   "metadata": {},
   "source": [
    "\n",
    "## Task 2: Building a benchmark model to predict recommendation\n",
    "- Data Preparation\n",
    "- Model Validation\n",
    "- Findings Discussion\n"
   ]
  },
  {
   "cell_type": "code",
   "execution_count": 92,
   "metadata": {},
   "outputs": [
    {
     "name": "stdout",
     "output_type": "stream",
     "text": [
      "(16340, 500)\n",
      "(6803, 500)\n"
     ]
    }
   ],
   "source": [
    "from sklearn.feature_extraction.text import CountVectorizer\n",
    "\n",
    "corpus=list(review_train['Review_Text'])\n",
    "\n",
    "count_vectorizer = CountVectorizer(max_features = 500)\n",
    "\n",
    "count_train = count_vectorizer.fit_transform(corpus).toarray()\n",
    "count_test = count_vectorizer.transform(list(review_test['Review_Text'])).toarray()\n",
    "\n",
    "print(count_train.shape)\n",
    "print(count_test.shape)"
   ]
  },
  {
   "cell_type": "code",
   "execution_count": 93,
   "metadata": {},
   "outputs": [],
   "source": [
    "X_count_train = pd.DataFrame(count_train, columns = count_vectorizer.get_feature_names())\n",
    "Y_train = review_train['Recommended']"
   ]
  },
  {
   "cell_type": "code",
   "execution_count": 94,
   "metadata": {},
   "outputs": [],
   "source": [
    "X_count_test = pd.DataFrame(count_test, columns = count_vectorizer.get_feature_names())"
   ]
  },
  {
   "cell_type": "code",
   "execution_count": 95,
   "metadata": {},
   "outputs": [
    {
     "name": "stdout",
     "output_type": "stream",
     "text": [
      "train_set size: (16340, 500)\n",
      "test_set size: (6803, 500)\n"
     ]
    }
   ],
   "source": [
    "print('train_set size:',X_count_train.shape)\n",
    "print('test_set size:',X_count_test.shape)"
   ]
  },
  {
   "cell_type": "code",
   "execution_count": 96,
   "metadata": {},
   "outputs": [],
   "source": [
    "from sklearn.linear_model import LogisticRegression\n",
    "\n",
    "benchmark_LR = LogisticRegression(solver='liblinear')"
   ]
  },
  {
   "cell_type": "code",
   "execution_count": 97,
   "metadata": {},
   "outputs": [],
   "source": [
    "from sklearn.model_selection import cross_validate\n",
    "benchmark_cv_results = cross_validate(benchmark_LR,\n",
    "                                     X_count_train,\n",
    "                                     Y_train,\n",
    "                                     scoring = ['f1', 'accuracy', 'precision', 'recall', 'roc_auc'],\n",
    "                                     cv = 5,\n",
    "                                     n_jobs = -1,\n",
    "                                     return_train_score = True)"
   ]
  },
  {
   "cell_type": "code",
   "execution_count": 98,
   "metadata": {},
   "outputs": [
    {
     "data": {
      "text/plain": [
       "{'fit_time': array([2.74874806, 2.43508768, 2.23359609, 2.24976683, 0.8133409 ]),\n",
       " 'score_time': array([0.21139717, 0.22823095, 0.1525569 , 0.15046191, 0.04685307]),\n",
       " 'test_f1': array([0.93311523, 0.93343007, 0.93439942, 0.92925638, 0.93369863]),\n",
       " 'train_f1': array([0.94129417, 0.9425559 , 0.94086095, 0.94190381, 0.94099478]),\n",
       " 'test_accuracy': array([0.8873929 , 0.8876989 , 0.88953488, 0.88035496, 0.88892289]),\n",
       " 'train_accuracy': array([0.90123929, 0.90330477, 0.9004743 , 0.90223378, 0.90062729]),\n",
       " 'test_precision': array([0.91352313, 0.91208791, 0.91462113, 0.90613973, 0.91876348]),\n",
       " 'train_precision': array([0.92237768, 0.92309062, 0.92163149, 0.9226111 , 0.92103859]),\n",
       " 'test_recall': array([0.95356612, 0.95579495, 0.95505201, 0.95358336, 0.94912737]),\n",
       " 'train_recall': array([0.96100279, 0.9628598 , 0.96090994, 0.96202061, 0.9618349 ]),\n",
       " 'test_roc_auc': array([0.91151315, 0.91243119, 0.91473837, 0.90206235, 0.89868193]),\n",
       " 'train_roc_auc': array([0.93742259, 0.93613399, 0.93529106, 0.93808215, 0.93905633])}"
      ]
     },
     "execution_count": 98,
     "metadata": {},
     "output_type": "execute_result"
    }
   ],
   "source": [
    "benchmark_cv_results"
   ]
  },
  {
   "cell_type": "code",
   "execution_count": 99,
   "metadata": {},
   "outputs": [
    {
     "data": {
      "text/html": [
       "<div>\n",
       "<style scoped>\n",
       "    .dataframe tbody tr th:only-of-type {\n",
       "        vertical-align: middle;\n",
       "    }\n",
       "\n",
       "    .dataframe tbody tr th {\n",
       "        vertical-align: top;\n",
       "    }\n",
       "\n",
       "    .dataframe thead th {\n",
       "        text-align: right;\n",
       "    }\n",
       "</style>\n",
       "<table border=\"1\" class=\"dataframe\">\n",
       "  <thead>\n",
       "    <tr style=\"text-align: right;\">\n",
       "      <th></th>\n",
       "      <th>fit_time</th>\n",
       "      <th>score_time</th>\n",
       "      <th>test_f1</th>\n",
       "      <th>train_f1</th>\n",
       "      <th>test_accuracy</th>\n",
       "      <th>train_accuracy</th>\n",
       "      <th>test_precision</th>\n",
       "      <th>train_precision</th>\n",
       "      <th>test_recall</th>\n",
       "      <th>train_recall</th>\n",
       "      <th>test_roc_auc</th>\n",
       "      <th>train_roc_auc</th>\n",
       "    </tr>\n",
       "  </thead>\n",
       "  <tbody>\n",
       "    <tr>\n",
       "      <th>0</th>\n",
       "      <td>2.748748</td>\n",
       "      <td>0.211397</td>\n",
       "      <td>0.933115</td>\n",
       "      <td>0.941294</td>\n",
       "      <td>0.887393</td>\n",
       "      <td>0.901239</td>\n",
       "      <td>0.913523</td>\n",
       "      <td>0.922378</td>\n",
       "      <td>0.953566</td>\n",
       "      <td>0.961003</td>\n",
       "      <td>0.911513</td>\n",
       "      <td>0.937423</td>\n",
       "    </tr>\n",
       "    <tr>\n",
       "      <th>1</th>\n",
       "      <td>2.435088</td>\n",
       "      <td>0.228231</td>\n",
       "      <td>0.933430</td>\n",
       "      <td>0.942556</td>\n",
       "      <td>0.887699</td>\n",
       "      <td>0.903305</td>\n",
       "      <td>0.912088</td>\n",
       "      <td>0.923091</td>\n",
       "      <td>0.955795</td>\n",
       "      <td>0.962860</td>\n",
       "      <td>0.912431</td>\n",
       "      <td>0.936134</td>\n",
       "    </tr>\n",
       "    <tr>\n",
       "      <th>2</th>\n",
       "      <td>2.233596</td>\n",
       "      <td>0.152557</td>\n",
       "      <td>0.934399</td>\n",
       "      <td>0.940861</td>\n",
       "      <td>0.889535</td>\n",
       "      <td>0.900474</td>\n",
       "      <td>0.914621</td>\n",
       "      <td>0.921631</td>\n",
       "      <td>0.955052</td>\n",
       "      <td>0.960910</td>\n",
       "      <td>0.914738</td>\n",
       "      <td>0.935291</td>\n",
       "    </tr>\n",
       "    <tr>\n",
       "      <th>3</th>\n",
       "      <td>2.249767</td>\n",
       "      <td>0.150462</td>\n",
       "      <td>0.929256</td>\n",
       "      <td>0.941904</td>\n",
       "      <td>0.880355</td>\n",
       "      <td>0.902234</td>\n",
       "      <td>0.906140</td>\n",
       "      <td>0.922611</td>\n",
       "      <td>0.953583</td>\n",
       "      <td>0.962021</td>\n",
       "      <td>0.902062</td>\n",
       "      <td>0.938082</td>\n",
       "    </tr>\n",
       "    <tr>\n",
       "      <th>4</th>\n",
       "      <td>0.813341</td>\n",
       "      <td>0.046853</td>\n",
       "      <td>0.933699</td>\n",
       "      <td>0.940995</td>\n",
       "      <td>0.888923</td>\n",
       "      <td>0.900627</td>\n",
       "      <td>0.918763</td>\n",
       "      <td>0.921039</td>\n",
       "      <td>0.949127</td>\n",
       "      <td>0.961835</td>\n",
       "      <td>0.898682</td>\n",
       "      <td>0.939056</td>\n",
       "    </tr>\n",
       "  </tbody>\n",
       "</table>\n",
       "</div>"
      ],
      "text/plain": [
       "   fit_time  score_time   test_f1  train_f1  test_accuracy  train_accuracy  \\\n",
       "0  2.748748    0.211397  0.933115  0.941294       0.887393        0.901239   \n",
       "1  2.435088    0.228231  0.933430  0.942556       0.887699        0.903305   \n",
       "2  2.233596    0.152557  0.934399  0.940861       0.889535        0.900474   \n",
       "3  2.249767    0.150462  0.929256  0.941904       0.880355        0.902234   \n",
       "4  0.813341    0.046853  0.933699  0.940995       0.888923        0.900627   \n",
       "\n",
       "   test_precision  train_precision  test_recall  train_recall  test_roc_auc  \\\n",
       "0        0.913523         0.922378     0.953566      0.961003      0.911513   \n",
       "1        0.912088         0.923091     0.955795      0.962860      0.912431   \n",
       "2        0.914621         0.921631     0.955052      0.960910      0.914738   \n",
       "3        0.906140         0.922611     0.953583      0.962021      0.902062   \n",
       "4        0.918763         0.921039     0.949127      0.961835      0.898682   \n",
       "\n",
       "   train_roc_auc  \n",
       "0       0.937423  \n",
       "1       0.936134  \n",
       "2       0.935291  \n",
       "3       0.938082  \n",
       "4       0.939056  "
      ]
     },
     "execution_count": 99,
     "metadata": {},
     "output_type": "execute_result"
    }
   ],
   "source": [
    "pd.DataFrame.from_dict(benchmark_cv_results)"
   ]
  },
  {
   "cell_type": "code",
   "execution_count": 100,
   "metadata": {},
   "outputs": [
    {
     "data": {
      "text/plain": [
       "fit_time           2.096108\n",
       "score_time         0.157900\n",
       "test_f1            0.932780\n",
       "train_f1           0.941522\n",
       "test_accuracy      0.886781\n",
       "train_accuracy     0.901576\n",
       "test_precision     0.913027\n",
       "train_precision    0.922150\n",
       "test_recall        0.953425\n",
       "train_recall       0.961726\n",
       "test_roc_auc       0.907885\n",
       "train_roc_auc      0.937197\n",
       "dtype: float64"
      ]
     },
     "execution_count": 100,
     "metadata": {},
     "output_type": "execute_result"
    }
   ],
   "source": [
    "pd.DataFrame.from_dict(benchmark_cv_results).mean()"
   ]
  },
  {
   "cell_type": "markdown",
   "metadata": {},
   "source": [
    "\n",
    "\n",
    "## Task 3: Improving Benchmark Model\n",
    "- Add New Feature\n",
    "- Dummy Variable Encoding\n",
    "- Log Transformation\n",
    "- Feature Scaling\n",
    "- TF-IDF\n",
    "- Validate Model and Optimize Hyperparameters\n",
    "- Evaluate Results"
   ]
  },
  {
   "cell_type": "code",
   "execution_count": 101,
   "metadata": {},
   "outputs": [
    {
     "name": "stdout",
     "output_type": "stream",
     "text": [
      "(16340, 11)\n",
      "(6803, 10)\n"
     ]
    }
   ],
   "source": [
    "review_improve_clean = review_train.copy()\n",
    "review_improve_test = review_test.copy()\n",
    "\n",
    "print(review_improve_clean.shape)\n",
    "print(review_improve_test.shape)"
   ]
  },
  {
   "cell_type": "code",
   "execution_count": 102,
   "metadata": {},
   "outputs": [
    {
     "name": "stdout",
     "output_type": "stream",
     "text": [
      "<class 'pandas.core.frame.DataFrame'>\n",
      "Int64Index: 16340 entries, 5 to 16439\n",
      "Data columns (total 11 columns):\n",
      " #   Column                   Non-Null Count  Dtype \n",
      "---  ------                   --------------  ----- \n",
      " 0   ID                       16340 non-null  int64 \n",
      " 1   Product_ID               16340 non-null  int64 \n",
      " 2   Age                      16340 non-null  int64 \n",
      " 3   Review_Title             16340 non-null  object\n",
      " 4   Review_Text              16340 non-null  object\n",
      " 5   Rating                   16340 non-null  int64 \n",
      " 6   Recommended              16340 non-null  int64 \n",
      " 7   Positive_Feedback_Count  16340 non-null  int64 \n",
      " 8   Division                 16340 non-null  object\n",
      " 9   Department               16340 non-null  object\n",
      " 10  Type                     16340 non-null  object\n",
      "dtypes: int64(6), object(5)\n",
      "memory usage: 1.5+ MB\n"
     ]
    }
   ],
   "source": [
    "review_improve_clean.info()"
   ]
  },
  {
   "cell_type": "code",
   "execution_count": 103,
   "metadata": {},
   "outputs": [],
   "source": [
    "#Number of capital letter\n",
    "review_improve_clean['Capital_No'] = review_improve_clean['Review_Text'].copy().apply(lambda t:len([x for x in t.split() if x.isupper()]))\n",
    "\n",
    "#Count of positive words\n",
    "import re\n",
    "count_new = []\n",
    "for i in review_improve_clean['Review_Text']:\n",
    "    result_new = re.findall(r'(good|fit|gorgeous|nice|perfect|amazing|great)', i)\n",
    "    count_review = len(result_new)\n",
    "    count_new.append(count_review)\n",
    "review_improve_clean['Good_comments'] = count_new"
   ]
  },
  {
   "cell_type": "code",
   "execution_count": 104,
   "metadata": {},
   "outputs": [],
   "source": [
    "#Number of capital letter\n",
    "review_improve_test['Capital_No'] = review_improve_test['Review_Text'].copy().apply(lambda t:len([x for x in t.split() if x.isupper()]))\n",
    "\n",
    "#Count of positive words\n",
    "import re\n",
    "count_new_test = []\n",
    "for i in review_improve_test['Review_Text']:\n",
    "    result_test = re.findall(r'(good|fit|gorgeous|nice|perfect|amazing|great)', i)\n",
    "    count_review_test = len(result_test)\n",
    "    count_new_test.append(count_review_test)\n",
    "review_improve_test['Good_comments'] = count_new_test"
   ]
  },
  {
   "cell_type": "code",
   "execution_count": 105,
   "metadata": {},
   "outputs": [
    {
     "name": "stdout",
     "output_type": "stream",
     "text": [
      "(16340, 9)\n",
      "(6803, 9)\n"
     ]
    }
   ],
   "source": [
    "redefined_train = review_improve_clean.drop(['ID','Review_Title','Review_Text','Recommended'],axis = 1)\n",
    "redefined_test = review_improve_test.drop(['ID','Review_Title','Review_Text'],axis = 1)\n",
    "\n",
    "print(redefined_train.shape)\n",
    "print(redefined_test.shape)"
   ]
  },
  {
   "cell_type": "code",
   "execution_count": 106,
   "metadata": {},
   "outputs": [
    {
     "name": "stdout",
     "output_type": "stream",
     "text": [
      "(16340, 32)\n",
      "(6803, 31)\n"
     ]
    }
   ],
   "source": [
    "redefined_train_dummy = pd.get_dummies(redefined_train, drop_first = True)\n",
    "redefined_test_dummy = pd.get_dummies(redefined_test, drop_first = True)\n",
    "\n",
    "print(redefined_train_dummy.shape)\n",
    "print(redefined_test_dummy.shape)"
   ]
  },
  {
   "cell_type": "code",
   "execution_count": 107,
   "metadata": {},
   "outputs": [
    {
     "data": {
      "text/plain": [
       "['Type_Chemises']"
      ]
     },
     "execution_count": 107,
     "metadata": {},
     "output_type": "execute_result"
    }
   ],
   "source": [
    "train_delete = []\n",
    "for i in redefined_train_dummy.columns:\n",
    "    if i not in redefined_test_dummy.columns:\n",
    "        train_delete.append(i)\n",
    "train_delete"
   ]
  },
  {
   "cell_type": "code",
   "execution_count": 108,
   "metadata": {},
   "outputs": [],
   "source": [
    "redefined_train_dummy = redefined_train_dummy.drop('Type_Chemises',axis=1)"
   ]
  },
  {
   "cell_type": "code",
   "execution_count": 109,
   "metadata": {},
   "outputs": [
    {
     "name": "stdout",
     "output_type": "stream",
     "text": [
      "(16340, 31)\n",
      "(6803, 31)\n"
     ]
    }
   ],
   "source": [
    "print(redefined_train_dummy.shape)\n",
    "print(redefined_test_dummy.shape)"
   ]
  },
  {
   "cell_type": "code",
   "execution_count": 110,
   "metadata": {},
   "outputs": [
    {
     "data": {
      "text/plain": [
       "Index(['Product_ID', 'Age', 'Rating', 'Positive_Feedback_Count', 'Capital_No',\n",
       "       'Good_comments', 'Division_General Petite', 'Division_Initmates',\n",
       "       'Department_Dresses', 'Department_Intimate', 'Department_Jackets',\n",
       "       'Department_Tops', 'Department_Trend', 'Type_Casual bottoms',\n",
       "       'Type_Dresses', 'Type_Fine gauge', 'Type_Intimates', 'Type_Jackets',\n",
       "       'Type_Jeans', 'Type_Knits', 'Type_Layering', 'Type_Legwear',\n",
       "       'Type_Lounge', 'Type_Outerwear', 'Type_Pants', 'Type_Shorts',\n",
       "       'Type_Skirts', 'Type_Sleep', 'Type_Sweaters', 'Type_Swim',\n",
       "       'Type_Trend'],\n",
       "      dtype='object')"
      ]
     },
     "execution_count": 110,
     "metadata": {},
     "output_type": "execute_result"
    }
   ],
   "source": [
    "redefined_train_dummy.columns"
   ]
  },
  {
   "cell_type": "code",
   "execution_count": 111,
   "metadata": {},
   "outputs": [
    {
     "data": {
      "text/html": [
       "<div>\n",
       "<style scoped>\n",
       "    .dataframe tbody tr th:only-of-type {\n",
       "        vertical-align: middle;\n",
       "    }\n",
       "\n",
       "    .dataframe tbody tr th {\n",
       "        vertical-align: top;\n",
       "    }\n",
       "\n",
       "    .dataframe thead th {\n",
       "        text-align: right;\n",
       "    }\n",
       "</style>\n",
       "<table border=\"1\" class=\"dataframe\">\n",
       "  <thead>\n",
       "    <tr style=\"text-align: right;\">\n",
       "      <th></th>\n",
       "      <th>Product_ID</th>\n",
       "      <th>Age</th>\n",
       "      <th>Rating</th>\n",
       "      <th>Positive_Feedback_Count</th>\n",
       "      <th>Capital_No</th>\n",
       "      <th>Good_comments</th>\n",
       "    </tr>\n",
       "  </thead>\n",
       "  <tbody>\n",
       "    <tr>\n",
       "      <th>count</th>\n",
       "      <td>16340.000</td>\n",
       "      <td>16340.000</td>\n",
       "      <td>16340.000</td>\n",
       "      <td>16340.000</td>\n",
       "      <td>16340.000</td>\n",
       "      <td>16340.000</td>\n",
       "    </tr>\n",
       "    <tr>\n",
       "      <th>mean</th>\n",
       "      <td>918.740</td>\n",
       "      <td>43.185</td>\n",
       "      <td>4.213</td>\n",
       "      <td>2.562</td>\n",
       "      <td>0.375</td>\n",
       "      <td>1.293</td>\n",
       "    </tr>\n",
       "    <tr>\n",
       "      <th>std</th>\n",
       "      <td>203.469</td>\n",
       "      <td>12.272</td>\n",
       "      <td>1.097</td>\n",
       "      <td>5.911</td>\n",
       "      <td>0.484</td>\n",
       "      <td>1.274</td>\n",
       "    </tr>\n",
       "    <tr>\n",
       "      <th>min</th>\n",
       "      <td>0.000</td>\n",
       "      <td>18.000</td>\n",
       "      <td>1.000</td>\n",
       "      <td>0.000</td>\n",
       "      <td>0.000</td>\n",
       "      <td>0.000</td>\n",
       "    </tr>\n",
       "    <tr>\n",
       "      <th>25%</th>\n",
       "      <td>861.000</td>\n",
       "      <td>34.000</td>\n",
       "      <td>4.000</td>\n",
       "      <td>0.000</td>\n",
       "      <td>0.000</td>\n",
       "      <td>0.000</td>\n",
       "    </tr>\n",
       "    <tr>\n",
       "      <th>50%</th>\n",
       "      <td>936.000</td>\n",
       "      <td>41.000</td>\n",
       "      <td>5.000</td>\n",
       "      <td>1.000</td>\n",
       "      <td>0.000</td>\n",
       "      <td>1.000</td>\n",
       "    </tr>\n",
       "    <tr>\n",
       "      <th>75%</th>\n",
       "      <td>1078.000</td>\n",
       "      <td>52.000</td>\n",
       "      <td>5.000</td>\n",
       "      <td>3.000</td>\n",
       "      <td>1.000</td>\n",
       "      <td>2.000</td>\n",
       "    </tr>\n",
       "    <tr>\n",
       "      <th>max</th>\n",
       "      <td>1205.000</td>\n",
       "      <td>99.000</td>\n",
       "      <td>5.000</td>\n",
       "      <td>122.000</td>\n",
       "      <td>1.000</td>\n",
       "      <td>10.000</td>\n",
       "    </tr>\n",
       "    <tr>\n",
       "      <th>skew</th>\n",
       "      <td>-2.090</td>\n",
       "      <td>0.534</td>\n",
       "      <td>-1.347</td>\n",
       "      <td>6.859</td>\n",
       "      <td>0.517</td>\n",
       "      <td>1.042</td>\n",
       "    </tr>\n",
       "    <tr>\n",
       "      <th>kurt</th>\n",
       "      <td>5.196</td>\n",
       "      <td>-0.076</td>\n",
       "      <td>0.931</td>\n",
       "      <td>78.215</td>\n",
       "      <td>-1.733</td>\n",
       "      <td>1.115</td>\n",
       "    </tr>\n",
       "  </tbody>\n",
       "</table>\n",
       "</div>"
      ],
      "text/plain": [
       "       Product_ID        Age     Rating  Positive_Feedback_Count  Capital_No  \\\n",
       "count   16340.000  16340.000  16340.000                16340.000   16340.000   \n",
       "mean      918.740     43.185      4.213                    2.562       0.375   \n",
       "std       203.469     12.272      1.097                    5.911       0.484   \n",
       "min         0.000     18.000      1.000                    0.000       0.000   \n",
       "25%       861.000     34.000      4.000                    0.000       0.000   \n",
       "50%       936.000     41.000      5.000                    1.000       0.000   \n",
       "75%      1078.000     52.000      5.000                    3.000       1.000   \n",
       "max      1205.000     99.000      5.000                  122.000       1.000   \n",
       "skew       -2.090      0.534     -1.347                    6.859       0.517   \n",
       "kurt        5.196     -0.076      0.931                   78.215      -1.733   \n",
       "\n",
       "       Good_comments  \n",
       "count      16340.000  \n",
       "mean           1.293  \n",
       "std            1.274  \n",
       "min            0.000  \n",
       "25%            0.000  \n",
       "50%            1.000  \n",
       "75%            2.000  \n",
       "max           10.000  \n",
       "skew           1.042  \n",
       "kurt           1.115  "
      ]
     },
     "execution_count": 111,
     "metadata": {},
     "output_type": "execute_result"
    }
   ],
   "source": [
    "descriptive = redefined_train.describe()\n",
    "descriptive.loc['skew', :] = review_improve_clean.skew()\n",
    "descriptive.loc['kurt', :] = review_improve_clean.kurt()\n",
    "descriptive.round(3)"
   ]
  },
  {
   "cell_type": "code",
   "execution_count": 112,
   "metadata": {},
   "outputs": [],
   "source": [
    "for i in ['Age','Positive_Feedback_Count','Capital_No','Good_comments']:\n",
    "    redefined_train[i] = np.log1p(redefined_train[i])\n",
    "    redefined_test[i] = np.log1p(redefined_test[i])"
   ]
  },
  {
   "cell_type": "code",
   "execution_count": 113,
   "metadata": {},
   "outputs": [],
   "source": [
    "for i in ['Age','Rating','Positive_Feedback_Count','Capital_No','Good_comments']:\n",
    "    redefined_train_dummy[i] = (redefined_train_dummy[i] - redefined_train_dummy[i].min())/(redefined_train_dummy[i].max()-redefined_train_dummy[i].min())\n",
    "    redefined_test_dummy[i] = (redefined_test_dummy[i] - redefined_test_dummy[i].min())/(redefined_test_dummy[i].max()-redefined_test_dummy[i].min())"
   ]
  },
  {
   "cell_type": "code",
   "execution_count": 114,
   "metadata": {},
   "outputs": [
    {
     "name": "stdout",
     "output_type": "stream",
     "text": [
      "(16340, 2000)\n",
      "(6803, 2000)\n"
     ]
    }
   ],
   "source": [
    "from sklearn.feature_extraction.text import TfidfVectorizer\n",
    "\n",
    "corpus=list(review_improve_clean['Review_Text'])\n",
    "\n",
    "tfidf_vectorizer = TfidfVectorizer(max_features=2000,analyzer = 'word',stop_words=\"english\",ngram_range=(1,3),max_df=0.9,min_df=3)\n",
    "#max_df:The highest proportion of words\n",
    "#min_df:the min count of words\n",
    "train_tfidf_improve = tfidf_vectorizer.fit_transform(corpus).toarray()\n",
    "test_tfidf_improve = tfidf_vectorizer.transform(list(review_improve_test['Review_Text'])).toarray()\n",
    "\n",
    "print(train_tfidf_improve.shape)\n",
    "print(test_tfidf_improve.shape)"
   ]
  },
  {
   "cell_type": "code",
   "execution_count": 115,
   "metadata": {},
   "outputs": [
    {
     "name": "stdout",
     "output_type": "stream",
     "text": [
      "(16340, 2000)\n",
      "(16340, 2031)\n"
     ]
    }
   ],
   "source": [
    "X_tfidf_train = pd.DataFrame(train_tfidf_improve,columns = tfidf_vectorizer.get_feature_names(),index = redefined_train_dummy.index)\n",
    "print(X_tfidf_train.shape)\n",
    "#x\n",
    "X_tfidf_train_improve = pd.concat([X_tfidf_train,redefined_train_dummy],axis = 1,ignore_index=False,verify_integrity = True)\n",
    "#y\n",
    "y_tfidf_train_improve = review_improve_clean['Recommended']\n",
    "print(X_tfidf_train_improve.shape)"
   ]
  },
  {
   "cell_type": "code",
   "execution_count": 116,
   "metadata": {},
   "outputs": [
    {
     "name": "stdout",
     "output_type": "stream",
     "text": [
      "(6803, 2000)\n",
      "(6803, 2031)\n"
     ]
    }
   ],
   "source": [
    "X_tfidf_test = pd.DataFrame(test_tfidf_improve,columns = tfidf_vectorizer.get_feature_names(),index = redefined_test_dummy.index)\n",
    "print(X_tfidf_test.shape)\n",
    "#x\n",
    "X_tfidf_test_improve = pd.concat([X_tfidf_test,redefined_test_dummy],axis = 1,ignore_index=False,verify_integrity = True)\n",
    "\n",
    "print(X_tfidf_test_improve.shape)"
   ]
  },
  {
   "cell_type": "code",
   "execution_count": 117,
   "metadata": {},
   "outputs": [],
   "source": [
    "from sklearn.model_selection import GridSearchCV"
   ]
  },
  {
   "cell_type": "code",
   "execution_count": 118,
   "metadata": {},
   "outputs": [
    {
     "name": "stdout",
     "output_type": "stream",
     "text": [
      "Best parameters set: {'C': 5, 'multi_class': 'ovr', 'penalty': 'l2', 'solver': 'liblinear'}\n",
      "CPU times: user 6.93 s, sys: 9.36 s, total: 16.3 s\n",
      "Wall time: 59min 7s\n"
     ]
    }
   ],
   "source": [
    "%%time\n",
    "adjusted_parameters=[{'penalty':['l1','l2'],\n",
    "                     'C':[0.01,0.1,0.2,0.5,1,2,5,10,20,50,100],\n",
    "                     'solver':['liblinear','saga'],\n",
    "                     'multi_class':['ovr']},\n",
    "                    {'penalty':['l2'],\n",
    "                     'C':[0.01,0.1,0.2,0.5,1,2,5,10,20,50,100],\n",
    "                     'solver':['lbfgs'],\n",
    "                     'multi_class':['ovr','multinomial']}]\n",
    "\n",
    "improve_grid=GridSearchCV(LogisticRegression(tol=1e-6,random_state=1,class_weight='balanced'),\n",
    "                         adjusted_parameters,cv=5,n_jobs=-1,scoring='f1')\n",
    "\n",
    "improve_fit = improve_grid.fit(X_tfidf_train_improve, y_tfidf_train_improve)\n",
    "\n",
    "print('Best parameters set:',improve_fit.best_params_)"
   ]
  },
  {
   "cell_type": "code",
   "execution_count": 119,
   "metadata": {},
   "outputs": [],
   "source": [
    "improve_gridcv = improve_fit.best_estimator_"
   ]
  },
  {
   "cell_type": "code",
   "execution_count": 120,
   "metadata": {},
   "outputs": [
    {
     "name": "stdout",
     "output_type": "stream",
     "text": [
      "logitcv_f1 score:0.9658370958274318\n"
     ]
    }
   ],
   "source": [
    "from sklearn.model_selection import cross_val_score\n",
    "score=np.mean(cross_val_score(improve_gridcv,X_tfidf_train_improve,y_tfidf_train_improve,cv=5,scoring='f1'))\n",
    "print('logitcv_f1 score:{0}'.format(score))"
   ]
  },
  {
   "cell_type": "code",
   "execution_count": 121,
   "metadata": {},
   "outputs": [],
   "source": [
    "from sklearn.model_selection import cross_validate\n",
    "improve_cv_results = cross_validate(improve_gridcv,\n",
    "                                     X_tfidf_train_improve,\n",
    "                                     y_tfidf_train_improve,\n",
    "                                     scoring=['f1', 'accuracy','precision','recall','roc_auc'],\n",
    "                                     cv=5,\n",
    "                                     n_jobs=-1,\n",
    "                                     return_train_score=True)"
   ]
  },
  {
   "cell_type": "code",
   "execution_count": 122,
   "metadata": {},
   "outputs": [
    {
     "data": {
      "text/plain": [
       "{'fit_time': array([9.03893876, 9.10790396, 9.01664615, 9.01230383, 1.85282898]),\n",
       " 'score_time': array([0.31069613, 0.28429484, 0.30740499, 0.31985712, 0.12851906]),\n",
       " 'test_f1': array([0.96438774, 0.96883853, 0.96516471, 0.96807104, 0.96272347]),\n",
       " 'train_f1': array([0.9784493 , 0.97735027, 0.97681476, 0.97672214, 0.97797357]),\n",
       " 'test_accuracy': array([0.94277846, 0.9495104 , 0.94369645, 0.94828641, 0.94002448]),\n",
       " 'train_accuracy': array([0.96519278, 0.96343329, 0.9625918 , 0.9624388 , 0.96442778]),\n",
       " 'test_precision': array([0.989449  , 0.98540146, 0.98416988, 0.98538462, 0.98674464]),\n",
       " 'train_precision': array([0.99864643, 0.99796787, 0.9980622 , 0.99777218, 0.99816283]),\n",
       " 'test_recall': array([0.94056464, 0.95282318, 0.94687964, 0.95135537, 0.93984404]),\n",
       " 'train_recall': array([0.95905292, 0.95756732, 0.95645311, 0.95654193, 0.95858483]),\n",
       " 'test_roc_auc': array([0.98444917, 0.98720295, 0.98554617, 0.98634657, 0.98272429]),\n",
       " 'train_roc_auc': array([0.99663665, 0.99659176, 0.99662471, 0.99654474, 0.99698073])}"
      ]
     },
     "execution_count": 122,
     "metadata": {},
     "output_type": "execute_result"
    }
   ],
   "source": [
    "improve_cv_results"
   ]
  },
  {
   "cell_type": "code",
   "execution_count": 123,
   "metadata": {},
   "outputs": [
    {
     "data": {
      "text/html": [
       "<div>\n",
       "<style scoped>\n",
       "    .dataframe tbody tr th:only-of-type {\n",
       "        vertical-align: middle;\n",
       "    }\n",
       "\n",
       "    .dataframe tbody tr th {\n",
       "        vertical-align: top;\n",
       "    }\n",
       "\n",
       "    .dataframe thead th {\n",
       "        text-align: right;\n",
       "    }\n",
       "</style>\n",
       "<table border=\"1\" class=\"dataframe\">\n",
       "  <thead>\n",
       "    <tr style=\"text-align: right;\">\n",
       "      <th></th>\n",
       "      <th>fit_time</th>\n",
       "      <th>score_time</th>\n",
       "      <th>test_f1</th>\n",
       "      <th>train_f1</th>\n",
       "      <th>test_accuracy</th>\n",
       "      <th>train_accuracy</th>\n",
       "      <th>test_precision</th>\n",
       "      <th>train_precision</th>\n",
       "      <th>test_recall</th>\n",
       "      <th>train_recall</th>\n",
       "      <th>test_roc_auc</th>\n",
       "      <th>train_roc_auc</th>\n",
       "    </tr>\n",
       "  </thead>\n",
       "  <tbody>\n",
       "    <tr>\n",
       "      <th>0</th>\n",
       "      <td>9.038939</td>\n",
       "      <td>0.310696</td>\n",
       "      <td>0.964388</td>\n",
       "      <td>0.978449</td>\n",
       "      <td>0.942778</td>\n",
       "      <td>0.965193</td>\n",
       "      <td>0.989449</td>\n",
       "      <td>0.998646</td>\n",
       "      <td>0.940565</td>\n",
       "      <td>0.959053</td>\n",
       "      <td>0.984449</td>\n",
       "      <td>0.996637</td>\n",
       "    </tr>\n",
       "    <tr>\n",
       "      <th>1</th>\n",
       "      <td>9.107904</td>\n",
       "      <td>0.284295</td>\n",
       "      <td>0.968839</td>\n",
       "      <td>0.977350</td>\n",
       "      <td>0.949510</td>\n",
       "      <td>0.963433</td>\n",
       "      <td>0.985401</td>\n",
       "      <td>0.997968</td>\n",
       "      <td>0.952823</td>\n",
       "      <td>0.957567</td>\n",
       "      <td>0.987203</td>\n",
       "      <td>0.996592</td>\n",
       "    </tr>\n",
       "    <tr>\n",
       "      <th>2</th>\n",
       "      <td>9.016646</td>\n",
       "      <td>0.307405</td>\n",
       "      <td>0.965165</td>\n",
       "      <td>0.976815</td>\n",
       "      <td>0.943696</td>\n",
       "      <td>0.962592</td>\n",
       "      <td>0.984170</td>\n",
       "      <td>0.998062</td>\n",
       "      <td>0.946880</td>\n",
       "      <td>0.956453</td>\n",
       "      <td>0.985546</td>\n",
       "      <td>0.996625</td>\n",
       "    </tr>\n",
       "    <tr>\n",
       "      <th>3</th>\n",
       "      <td>9.012304</td>\n",
       "      <td>0.319857</td>\n",
       "      <td>0.968071</td>\n",
       "      <td>0.976722</td>\n",
       "      <td>0.948286</td>\n",
       "      <td>0.962439</td>\n",
       "      <td>0.985385</td>\n",
       "      <td>0.997772</td>\n",
       "      <td>0.951355</td>\n",
       "      <td>0.956542</td>\n",
       "      <td>0.986347</td>\n",
       "      <td>0.996545</td>\n",
       "    </tr>\n",
       "    <tr>\n",
       "      <th>4</th>\n",
       "      <td>1.852829</td>\n",
       "      <td>0.128519</td>\n",
       "      <td>0.962723</td>\n",
       "      <td>0.977974</td>\n",
       "      <td>0.940024</td>\n",
       "      <td>0.964428</td>\n",
       "      <td>0.986745</td>\n",
       "      <td>0.998163</td>\n",
       "      <td>0.939844</td>\n",
       "      <td>0.958585</td>\n",
       "      <td>0.982724</td>\n",
       "      <td>0.996981</td>\n",
       "    </tr>\n",
       "  </tbody>\n",
       "</table>\n",
       "</div>"
      ],
      "text/plain": [
       "   fit_time  score_time   test_f1  train_f1  test_accuracy  train_accuracy  \\\n",
       "0  9.038939    0.310696  0.964388  0.978449       0.942778        0.965193   \n",
       "1  9.107904    0.284295  0.968839  0.977350       0.949510        0.963433   \n",
       "2  9.016646    0.307405  0.965165  0.976815       0.943696        0.962592   \n",
       "3  9.012304    0.319857  0.968071  0.976722       0.948286        0.962439   \n",
       "4  1.852829    0.128519  0.962723  0.977974       0.940024        0.964428   \n",
       "\n",
       "   test_precision  train_precision  test_recall  train_recall  test_roc_auc  \\\n",
       "0        0.989449         0.998646     0.940565      0.959053      0.984449   \n",
       "1        0.985401         0.997968     0.952823      0.957567      0.987203   \n",
       "2        0.984170         0.998062     0.946880      0.956453      0.985546   \n",
       "3        0.985385         0.997772     0.951355      0.956542      0.986347   \n",
       "4        0.986745         0.998163     0.939844      0.958585      0.982724   \n",
       "\n",
       "   train_roc_auc  \n",
       "0       0.996637  \n",
       "1       0.996592  \n",
       "2       0.996625  \n",
       "3       0.996545  \n",
       "4       0.996981  "
      ]
     },
     "execution_count": 123,
     "metadata": {},
     "output_type": "execute_result"
    }
   ],
   "source": [
    "pd.DataFrame.from_dict(improve_cv_results)"
   ]
  },
  {
   "cell_type": "code",
   "execution_count": 124,
   "metadata": {},
   "outputs": [
    {
     "data": {
      "text/plain": [
       "fit_time           7.605724\n",
       "score_time         0.270154\n",
       "test_f1            0.965837\n",
       "train_f1           0.977462\n",
       "test_accuracy      0.944859\n",
       "train_accuracy     0.963617\n",
       "test_precision     0.986230\n",
       "train_precision    0.998122\n",
       "test_recall        0.946293\n",
       "train_recall       0.957640\n",
       "test_roc_auc       0.985254\n",
       "train_roc_auc      0.996676\n",
       "dtype: float64"
      ]
     },
     "execution_count": 124,
     "metadata": {},
     "output_type": "execute_result"
    }
   ],
   "source": [
    "pd.DataFrame.from_dict(improve_cv_results).mean()"
   ]
  },
  {
   "cell_type": "markdown",
   "metadata": {},
   "source": [
    "\n",
    "\n",
    "\n",
    "\n",
    "## Task 4: Interpret the Results\n"
   ]
  },
  {
   "cell_type": "code",
   "execution_count": 125,
   "metadata": {},
   "outputs": [
    {
     "data": {
      "text/plain": [
       "runs small      -4.426927\n",
       "disappointed    -4.298559\n",
       "asymmetrical    -3.920873\n",
       "returned        -3.763600\n",
       "upper           -3.537687\n",
       "                  ...    \n",
       "medium           3.227316\n",
       "really like      3.465770\n",
       "slightly         3.870011\n",
       "unique           4.229085\n",
       "Rating          16.060119\n",
       "Length: 2031, dtype: float64"
      ]
     },
     "execution_count": 125,
     "metadata": {},
     "output_type": "execute_result"
    }
   ],
   "source": [
    "coef_results = pd.Series(improve_gridcv.coef_.ravel(),index = X_tfidf_train_improve.columns).sort_values(ascending=True,inplace=False)\n",
    "coef_results"
   ]
  },
  {
   "cell_type": "code",
   "execution_count": 126,
   "metadata": {},
   "outputs": [
    {
     "data": {
      "text/plain": [
       "runs small       -4.426927\n",
       "disappointed     -4.298559\n",
       "asymmetrical     -3.920873\n",
       "returned         -3.763600\n",
       "upper            -3.537687\n",
       "fabric nice      -3.526539\n",
       "ordered usual    -3.456510\n",
       "fit              -3.431477\n",
       "pocket           -3.384212\n",
       "lay              -3.331501\n",
       "different         3.005445\n",
       "just like         3.065178\n",
       "casual            3.096481\n",
       "runs large        3.123823\n",
       "order             3.134182\n",
       "medium            3.227316\n",
       "really like       3.465770\n",
       "slightly          3.870011\n",
       "unique            4.229085\n",
       "Rating           16.060119\n",
       "dtype: float64"
      ]
     },
     "execution_count": 126,
     "metadata": {},
     "output_type": "execute_result"
    }
   ],
   "source": [
    "top_20 = coef_results[:10].append(coef_results[-10:])\n",
    "top_20"
   ]
  },
  {
   "cell_type": "code",
   "execution_count": 127,
   "metadata": {},
   "outputs": [
    {
     "data": {
      "image/png": "[encoded data removed]",
      "text/plain": [
       "<Figure size 1440x576 with 1 Axes>"
      ]
     },
     "metadata": {
      "needs_background": "light"
     },
     "output_type": "display_data"
    }
   ],
   "source": [
    "fig, ax = plt.subplots(figsize = (20,8))\n",
    "top_20.plot(kind='barh',color=['r','y','g','b','c','m','pink','grey','darkgreen','orange'], edgecolor='black',width=0.8,linewidth=0.5,alpha=0.95, ax=ax)\n",
    "ax.set_title('Top 20 coefficients results',fontsize=24)\n",
    "sns.despine()\n",
    "plt.show()"
   ]
  },
  {
   "cell_type": "code",
   "execution_count": 128,
   "metadata": {},
   "outputs": [
    {
     "name": "stdout",
     "output_type": "stream",
     "text": [
      "['Type_Casual bottoms', 'Type_Dresses', 'Type_Fine gauge', 'Type_Intimates', 'Type_Jackets', 'Type_Jeans', 'Type_Knits', 'Type_Layering', 'Type_Legwear', 'Type_Lounge', 'Type_Outerwear', 'Type_Pants', 'Type_Shorts', 'Type_Skirts', 'Type_Sleep', 'Type_Sweaters', 'Type_Swim', 'Type_Trend']\n",
      "['Department_Dresses', 'Department_Intimate', 'Department_Jackets', 'Department_Tops', 'Department_Trend']\n",
      "['Division_General Petite', 'Division_Initmates']\n"
     ]
    }
   ],
   "source": [
    "Type_category = []\n",
    "Department_category = [] \n",
    "Division_category = []\n",
    "for i in X_tfidf_train_improve.columns:\n",
    "    if 'Type' in i.split('_'):\n",
    "        Type_category.append(i)\n",
    "    elif 'Department' in i.split('_'):\n",
    "        Department_category.append(i)\n",
    "    elif 'Division' in i.split('_'):\n",
    "        Division_category.append(i)\n",
    "print(Type_category)\n",
    "print(Department_category)\n",
    "print(Division_category)"
   ]
  },
  {
   "cell_type": "code",
   "execution_count": 129,
   "metadata": {},
   "outputs": [
    {
     "data": {
      "text/plain": [
       "Type_Pants            -1.416607\n",
       "Type_Shorts           -0.959315\n",
       "Type_Skirts           -0.840092\n",
       "Type_Outerwear        -0.637891\n",
       "Type_Trend            -0.566368\n",
       "Type_Jeans            -0.510023\n",
       "Type_Layering         -0.486835\n",
       "Type_Dresses          -0.467131\n",
       "Type_Swim             -0.448579\n",
       "Type_Sleep            -0.422305\n",
       "Type_Lounge           -0.256884\n",
       "Type_Jackets          -0.072704\n",
       "Type_Intimates        -0.060006\n",
       "Type_Sweaters         -0.005368\n",
       "Type_Casual bottoms    0.001168\n",
       "Type_Knits             0.077686\n",
       "Type_Fine gauge        0.254906\n",
       "Type_Legwear           0.274661\n",
       "dtype: float64"
      ]
     },
     "execution_count": 129,
     "metadata": {},
     "output_type": "execute_result"
    }
   ],
   "source": [
    "type_results = coef_results.loc[Type_category].sort_values()\n",
    "type_results"
   ]
  },
  {
   "cell_type": "code",
   "execution_count": 131,
   "metadata": {},
   "outputs": [
    {
     "data": {
      "text/plain": [
       "Department_Intimate   -1.388815\n",
       "Department_Tops       -1.048367\n",
       "Department_Jackets    -0.710595\n",
       "Department_Trend      -0.566368\n",
       "Department_Dresses    -0.467131\n",
       "dtype: float64"
      ]
     },
     "execution_count": 131,
     "metadata": {},
     "output_type": "execute_result"
    }
   ],
   "source": [
    "type_results = coef_results.loc[Department_category].sort_values()\n",
    "type_results"
   ]
  },
  {
   "cell_type": "code",
   "execution_count": 132,
   "metadata": {},
   "outputs": [
    {
     "data": {
      "text/plain": [
       "Division_General Petite   -0.058870\n",
       "Division_Initmates         0.643807\n",
       "dtype: float64"
      ]
     },
     "execution_count": 132,
     "metadata": {},
     "output_type": "execute_result"
    }
   ],
   "source": [
    "type_results = coef_results.loc[Division_category].sort_values()\n",
    "type_results"
   ]
  },
  {
   "cell_type": "code",
   "execution_count": 133,
   "metadata": {},
   "outputs": [
    {
     "data": {
      "text/plain": [
       "1.0757866797625404"
      ]
     },
     "execution_count": 133,
     "metadata": {},
     "output_type": "execute_result"
    }
   ],
   "source": [
    "coef_results['Age']"
   ]
  },
  {
   "cell_type": "markdown",
   "metadata": {},
   "source": [
    "\n",
    "\n",
    "\n",
    "\n",
    "\n",
    "## Task 5: Final Test Resulta"
   ]
  },
  {
   "cell_type": "code",
   "execution_count": 134,
   "metadata": {},
   "outputs": [
    {
     "data": {
      "text/html": [
       "<div>\n",
       "<style scoped>\n",
       "    .dataframe tbody tr th:only-of-type {\n",
       "        vertical-align: middle;\n",
       "    }\n",
       "\n",
       "    .dataframe tbody tr th {\n",
       "        vertical-align: top;\n",
       "    }\n",
       "\n",
       "    .dataframe thead th {\n",
       "        text-align: right;\n",
       "    }\n",
       "</style>\n",
       "<table border=\"1\" class=\"dataframe\">\n",
       "  <thead>\n",
       "    <tr style=\"text-align: right;\">\n",
       "      <th></th>\n",
       "      <th>ID</th>\n",
       "      <th>Recommended</th>\n",
       "    </tr>\n",
       "  </thead>\n",
       "  <tbody>\n",
       "    <tr>\n",
       "      <th>0</th>\n",
       "      <td>10</td>\n",
       "      <td>0</td>\n",
       "    </tr>\n",
       "    <tr>\n",
       "      <th>1</th>\n",
       "      <td>11</td>\n",
       "      <td>1</td>\n",
       "    </tr>\n",
       "    <tr>\n",
       "      <th>2</th>\n",
       "      <td>13</td>\n",
       "      <td>1</td>\n",
       "    </tr>\n",
       "    <tr>\n",
       "      <th>3</th>\n",
       "      <td>19</td>\n",
       "      <td>1</td>\n",
       "    </tr>\n",
       "    <tr>\n",
       "      <th>4</th>\n",
       "      <td>24</td>\n",
       "      <td>1</td>\n",
       "    </tr>\n",
       "    <tr>\n",
       "      <th>...</th>\n",
       "      <td>...</td>\n",
       "      <td>...</td>\n",
       "    </tr>\n",
       "    <tr>\n",
       "      <th>6798</th>\n",
       "      <td>23462</td>\n",
       "      <td>0</td>\n",
       "    </tr>\n",
       "    <tr>\n",
       "      <th>6799</th>\n",
       "      <td>23463</td>\n",
       "      <td>1</td>\n",
       "    </tr>\n",
       "    <tr>\n",
       "      <th>6800</th>\n",
       "      <td>23465</td>\n",
       "      <td>1</td>\n",
       "    </tr>\n",
       "    <tr>\n",
       "      <th>6801</th>\n",
       "      <td>23479</td>\n",
       "      <td>1</td>\n",
       "    </tr>\n",
       "    <tr>\n",
       "      <th>6802</th>\n",
       "      <td>23482</td>\n",
       "      <td>0</td>\n",
       "    </tr>\n",
       "  </tbody>\n",
       "</table>\n",
       "<p>6803 rows × 2 columns</p>\n",
       "</div>"
      ],
      "text/plain": [
       "         ID  Recommended\n",
       "0        10            0\n",
       "1        11            1\n",
       "2        13            1\n",
       "3        19            1\n",
       "4        24            1\n",
       "...     ...          ...\n",
       "6798  23462            0\n",
       "6799  23463            1\n",
       "6800  23465            1\n",
       "6801  23479            1\n",
       "6802  23482            0\n",
       "\n",
       "[6803 rows x 2 columns]"
      ]
     },
     "execution_count": 134,
     "metadata": {},
     "output_type": "execute_result"
    }
   ],
   "source": [
    "y_prediction=improve_gridcv.predict(X_tfidf_test_improve)\n",
    "result = pd.DataFrame(np.c_[review_test['ID'].values,y_prediction],columns=['ID','Recommended'])\n",
    "result"
   ]
  },
  {
   "cell_type": "code",
   "execution_count": 135,
   "metadata": {},
   "outputs": [],
   "source": [
    "y_prediction=improve_gridcv.predict(X_tfidf_test_improve)\n",
    "result = pd.DataFrame(np.c_[review_test['ID'].values,y_prediction],columns=['ID','Recommended'])\n",
    "result.to_csv('Group249_Test_Results.csv',index=False)"
   ]
  },
  {
   "cell_type": "code",
   "execution_count": 136,
   "metadata": {},
   "outputs": [
    {
     "data": {
      "text/plain": [
       "1    5271\n",
       "0    1532\n",
       "Name: Recommended, dtype: int64"
      ]
     },
     "execution_count": 136,
     "metadata": {},
     "output_type": "execute_result"
    }
   ],
   "source": [
    "result['Recommended'].value_counts()"
   ]
  },
  {
   "cell_type": "code",
   "execution_count": null,
   "metadata": {},
   "outputs": [],
   "source": []
  }
 ],
 "metadata": {
  "kernelspec": {
   "display_name": "Python 3",
   "language": "python",
   "name": "python3"
  },
  "language_info": {
   "codemirror_mode": {
    "name": "ipython",
    "version": 3
   },
   "file_extension": ".py",
   "mimetype": "text/x-python",
   "name": "python",
   "nbconvert_exporter": "python",
   "pygments_lexer": "ipython3",
   "version": "3.6.8"
  }
 },
 "nbformat": 4,
 "nbformat_minor": 2
}
